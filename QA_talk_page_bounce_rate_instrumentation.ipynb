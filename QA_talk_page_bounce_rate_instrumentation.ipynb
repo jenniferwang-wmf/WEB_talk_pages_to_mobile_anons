{
 "cells": [
  {
   "cell_type": "markdown",
   "id": "2492bf1a",
   "metadata": {},
   "source": [
    "# Introduction\n",
    "\n",
    "Instrumentation ticket: [T294738](https://phabricator.wikimedia.org/T294738)  \n",
    "QA ticket:   \n",
    "\n",
    "Web team has deployed the instrumentation to measure bounce rate of anonymous user on mobile web talk page on 2021-11-16. \n",
    "The related events will be stored in `event.mobilewebuiactionstracking` schema. Sample rate is 1% on English Wikipedia, and 10% everywhere else. \n",
    "\n",
    "# Instrumentation note\n",
    "\n",
    "- init events   \n",
    "query condition:  event.action='init' and event.isanon=true   \n",
    "\n",
    "  \n",
    "- events of clicking on article or talk page tab   \n",
    "query condition: event.action='click'  and event.isanon=true and event.name='tabs.subject' for article tab or event.name='tabs.talk' for talk tab  \n",
    "    \n",
    "    \n",
    "- events of clicking \"Add new discussion\"   \n",
    "query condition: event.action='click'  and event.isanon=true and event.name='talkpage.add-topic'  \n",
    "    \n",
    "    \n",
    "- events of clicking a section heading  \n",
    "query condition: event.action='click'  and event.isanon=true and event.name='talkpage.section'  \n",
    "\n",
    "  \n",
    "- events of clicking read as wiki page  \n",
    "query condition: event.action='click'  and event.isanon=true and event.name='talkpage.readAsWiki'\n",
    "  "
   ]
  },
  {
   "cell_type": "markdown",
   "id": "3da344f1",
   "metadata": {},
   "source": [
    "# Table of Contents\n",
    "\n",
    "1. [Check init event](#Check-init-events)\n",
    "2. [Check events of clicking on article or talk page tab](#Check-events-of-clicking-on-article-talk-page-tab)\n",
    "3. [Check events of clicking \"Add new discussion\"](#Check-events-of-clicking-\"Add-new-discussion\")\n",
    "4. [Check events of clicking a section heading](#Check-events-of-clicking-a-section-heading)\n",
    "5. [Check events of clicking read as wiki page](#Check-events-of-clicking-read-as-wiki-page)\n",
    "6. [Check whether we can join init event and click event by token](#Check-whether-we-can-join-init-event-and-click-event-by-token)"
   ]
  },
  {
   "cell_type": "code",
   "execution_count": 2,
   "id": "ea569081",
   "metadata": {},
   "outputs": [],
   "source": [
    "shhh <- function(expr) suppressPackageStartupMessages(suppressWarnings(suppressMessages(expr)))\n",
    "shhh({\n",
    "library(tidyverse); \n",
    "library(lubridate); \n",
    "library(scales);\n",
    "library(magrittr); \n",
    "library(dplyr);\n",
    "})"
   ]
  },
  {
   "cell_type": "code",
   "execution_count": 3,
   "id": "ff33b26c",
   "metadata": {},
   "outputs": [
    {
     "data": {
      "text/html": [
       "<script>  \n",
       "code_show=true; \n",
       "function code_toggle() {\n",
       "  if (code_show){\n",
       "    $('div.input').hide();\n",
       "  } else {\n",
       "    $('div.input').show();\n",
       "  }\n",
       "  code_show = !code_show\n",
       "}  \n",
       "$( document ).ready(code_toggle);\n",
       "</script>\n",
       "  <form action=\"javascript:code_toggle()\">\n",
       "    <input type=\"submit\" value=\"Click here to toggle on/off the raw code.\">\n",
       " </form>"
      ]
     },
     "metadata": {},
     "output_type": "display_data"
    }
   ],
   "source": [
    "library(IRdisplay)\n",
    "\n",
    "display_html(\n",
    "'<script>  \n",
    "code_show=true; \n",
    "function code_toggle() {\n",
    "  if (code_show){\n",
    "    $(\\'div.input\\').hide();\n",
    "  } else {\n",
    "    $(\\'div.input\\').show();\n",
    "  }\n",
    "  code_show = !code_show\n",
    "}  \n",
    "$( document ).ready(code_toggle);\n",
    "</script>\n",
    "  <form action=\"javascript:code_toggle()\">\n",
    "    <input type=\"submit\" value=\"Click here to toggle on/off the raw code.\">\n",
    " </form>'\n",
    ")"
   ]
  },
  {
   "cell_type": "code",
   "execution_count": 16,
   "id": "ea201bd3",
   "metadata": {},
   "outputs": [],
   "source": [
    "options(repr.plot.width = 15, repr.plot.height = 10)"
   ]
  },
  {
   "cell_type": "markdown",
   "id": "3fe15199",
   "metadata": {},
   "source": [
    "__QA on 11/16/2021__"
   ]
  },
  {
   "cell_type": "markdown",
   "id": "10d4011e",
   "metadata": {},
   "source": [
    "# Check init events"
   ]
  },
  {
   "cell_type": "markdown",
   "id": "4463c244",
   "metadata": {},
   "source": [
    "## Check whether the init event is avaiable in schema"
   ]
  },
  {
   "cell_type": "code",
   "execution_count": 5,
   "id": "ef7e18e8",
   "metadata": {},
   "outputs": [],
   "source": [
    "query <- \n",
    "\"\n",
    "select wiki, min(dt)\n",
    "FROM event.mobilewebuiactionstracking\n",
    "WHERE year=2021 \n",
    "and event.action='init'\n",
    "GROUP BY wiki\n",
    "\""
   ]
  },
  {
   "cell_type": "code",
   "execution_count": 6,
   "id": "f0e39eed",
   "metadata": {},
   "outputs": [
    {
     "name": "stderr",
     "output_type": "stream",
     "text": [
      "Don't forget to authenticate with Kerberos using kinit\n",
      "\n"
     ]
    }
   ],
   "source": [
    "df <-  wmfdata::query_hive(query)"
   ]
  },
  {
   "cell_type": "code",
   "execution_count": 7,
   "id": "918cde2f",
   "metadata": {},
   "outputs": [
    {
     "data": {
      "text/html": [
       "<table class=\"dataframe\">\n",
       "<caption>A data.frame: 711 × 2</caption>\n",
       "<thead>\n",
       "\t<tr><th scope=col>wiki</th><th scope=col>X_c1</th></tr>\n",
       "\t<tr><th scope=col>&lt;chr&gt;</th><th scope=col>&lt;chr&gt;</th></tr>\n",
       "</thead>\n",
       "<tbody>\n",
       "\t<tr><td>akwiki      </td><td>2021-11-16T04:18:55.551Z</td></tr>\n",
       "\t<tr><td>arcwiki     </td><td>2021-11-16T01:48:34.863Z</td></tr>\n",
       "\t<tr><td>arywiki     </td><td>2021-11-16T00:37:44.463Z</td></tr>\n",
       "\t<tr><td>avkwiki     </td><td>2021-11-16T05:01:17.642Z</td></tr>\n",
       "\t<tr><td>bxrwiki     </td><td>2021-11-16T07:43:16.549Z</td></tr>\n",
       "\t<tr><td>cowiki      </td><td>2021-11-16T01:25:14.056Z</td></tr>\n",
       "\t<tr><td>dewikivoyage</td><td>2021-11-16T00:32:06.992Z</td></tr>\n",
       "\t<tr><td>enwikivoyage</td><td>2021-11-16T00:29:43.720Z</td></tr>\n",
       "\t<tr><td>eswiki      </td><td>2021-11-16T00:24:26.400Z</td></tr>\n",
       "\t<tr><td>eswikibooks </td><td>2021-11-16T00:29:20.840Z</td></tr>\n",
       "\t<tr><td>fjwiki      </td><td>2021-11-16T07:53:56.222Z</td></tr>\n",
       "\t<tr><td>ganwiki     </td><td>2021-11-16T01:23:14.580Z</td></tr>\n",
       "\t<tr><td>gawiki      </td><td>2021-11-16T01:15:22.907Z</td></tr>\n",
       "\t<tr><td>gcrwiki     </td><td>2021-11-16T12:38:24.961Z</td></tr>\n",
       "\t<tr><td>gnwiktionary</td><td>2021-11-16T01:15:09.510Z</td></tr>\n",
       "\t<tr><td>hiwikisource</td><td>2021-11-16T01:07:49.162Z</td></tr>\n",
       "\t<tr><td>idwikisource</td><td>2021-11-16T00:25:51.538Z</td></tr>\n",
       "\t<tr><td>iewiki      </td><td>2021-11-16T05:20:28.589Z</td></tr>\n",
       "\t<tr><td>jawikinews  </td><td>2021-11-16T00:34:27.288Z</td></tr>\n",
       "\t<tr><td>kawikiquote </td><td>2021-11-16T03:50:15.000Z</td></tr>\n",
       "\t<tr><td>kiwiki      </td><td>2021-11-16T11:59:17.411Z</td></tr>\n",
       "\t<tr><td>kuwikibooks </td><td>2021-11-16T00:32:27.195Z</td></tr>\n",
       "\t<tr><td>lfnwiki     </td><td>2021-11-16T00:30:19.477Z</td></tr>\n",
       "\t<tr><td>lldwiki     </td><td>2021-11-16T11:40:46.025Z</td></tr>\n",
       "\t<tr><td>lvwiki      </td><td>2021-11-16T00:35:10.473Z</td></tr>\n",
       "\t<tr><td>niawiki     </td><td>2021-11-16T07:51:46.685Z</td></tr>\n",
       "\t<tr><td>pmswiki     </td><td>2021-11-16T14:05:08.254Z</td></tr>\n",
       "\t<tr><td>quwiki      </td><td>2021-11-16T03:29:07.147Z</td></tr>\n",
       "\t<tr><td>ruwikivoyage</td><td>2021-11-16T00:28:11.610Z</td></tr>\n",
       "\t<tr><td>scwiki      </td><td>2021-11-16T00:35:38.248Z</td></tr>\n",
       "\t<tr><td>⋮</td><td>⋮</td></tr>\n",
       "\t<tr><td>cywikisource </td><td>2021-11-16T18:29:45.175Z</td></tr>\n",
       "\t<tr><td>dewikiquote  </td><td>2021-11-16T00:41:16.814Z</td></tr>\n",
       "\t<tr><td>dsbwiki      </td><td>2021-11-16T05:13:18.820Z</td></tr>\n",
       "\t<tr><td>etwikibooks  </td><td>2021-11-16T07:40:45.507Z</td></tr>\n",
       "\t<tr><td>fawiki       </td><td>2021-11-16T00:25:59.306Z</td></tr>\n",
       "\t<tr><td>frwikisource </td><td>2021-11-16T00:24:32.453Z</td></tr>\n",
       "\t<tr><td>glwikibooks  </td><td>2021-11-16T07:11:09.848Z</td></tr>\n",
       "\t<tr><td>gnwiki       </td><td>2021-11-16T00:39:21.601Z</td></tr>\n",
       "\t<tr><td>guwiktionary </td><td>2021-11-16T02:36:26.030Z</td></tr>\n",
       "\t<tr><td>hewiki       </td><td>2021-11-16T00:24:38.895Z</td></tr>\n",
       "\t<tr><td>idwikibooks  </td><td>2021-11-16T00:30:36.250Z</td></tr>\n",
       "\t<tr><td>inhwiki      </td><td>2021-11-16T05:51:11.009Z</td></tr>\n",
       "\t<tr><td>kbpwiki      </td><td>2021-11-16T01:41:33.931Z</td></tr>\n",
       "\t<tr><td>koiwiki      </td><td>2021-11-16T02:30:44.999Z</td></tr>\n",
       "\t<tr><td>kowikisource </td><td>2021-11-16T00:28:54.703Z</td></tr>\n",
       "\t<tr><td>kvwiki       </td><td>2021-11-16T01:19:13.225Z</td></tr>\n",
       "\t<tr><td>mgwiktionary </td><td>2021-11-16T00:30:04.487Z</td></tr>\n",
       "\t<tr><td>niawiktionary</td><td>2021-11-16T12:36:44.931Z</td></tr>\n",
       "\t<tr><td>outreachwiki </td><td>2021-11-16T01:10:11.388Z</td></tr>\n",
       "\t<tr><td>pdcwiki      </td><td>2021-11-16T05:06:04.210Z</td></tr>\n",
       "\t<tr><td>ptwiktionary </td><td>2021-11-16T00:31:18.377Z</td></tr>\n",
       "\t<tr><td>ruwikibooks  </td><td>2021-11-16T00:33:01.561Z</td></tr>\n",
       "\t<tr><td>ruwikimedia  </td><td>2021-11-16T14:07:02.298Z</td></tr>\n",
       "\t<tr><td>ruwikiversity</td><td>2021-11-16T00:45:53.300Z</td></tr>\n",
       "\t<tr><td>smwiktionary </td><td>2021-11-16T00:38:46.211Z</td></tr>\n",
       "\t<tr><td>svwikiversity</td><td>2021-11-16T05:35:07.449Z</td></tr>\n",
       "\t<tr><td>tgwiki       </td><td>2021-11-16T00:44:16.946Z</td></tr>\n",
       "\t<tr><td>ukwikinews   </td><td>2021-11-16T03:46:30.974Z</td></tr>\n",
       "\t<tr><td>vecwiktionary</td><td>2021-11-16T08:52:57.117Z</td></tr>\n",
       "\t<tr><td>xmfwiki      </td><td>2021-11-16T01:07:58.075Z</td></tr>\n",
       "</tbody>\n",
       "</table>\n"
      ],
      "text/latex": [
       "A data.frame: 711 × 2\n",
       "\\begin{tabular}{ll}\n",
       " wiki & X\\_c1\\\\\n",
       " <chr> & <chr>\\\\\n",
       "\\hline\n",
       "\t akwiki       & 2021-11-16T04:18:55.551Z\\\\\n",
       "\t arcwiki      & 2021-11-16T01:48:34.863Z\\\\\n",
       "\t arywiki      & 2021-11-16T00:37:44.463Z\\\\\n",
       "\t avkwiki      & 2021-11-16T05:01:17.642Z\\\\\n",
       "\t bxrwiki      & 2021-11-16T07:43:16.549Z\\\\\n",
       "\t cowiki       & 2021-11-16T01:25:14.056Z\\\\\n",
       "\t dewikivoyage & 2021-11-16T00:32:06.992Z\\\\\n",
       "\t enwikivoyage & 2021-11-16T00:29:43.720Z\\\\\n",
       "\t eswiki       & 2021-11-16T00:24:26.400Z\\\\\n",
       "\t eswikibooks  & 2021-11-16T00:29:20.840Z\\\\\n",
       "\t fjwiki       & 2021-11-16T07:53:56.222Z\\\\\n",
       "\t ganwiki      & 2021-11-16T01:23:14.580Z\\\\\n",
       "\t gawiki       & 2021-11-16T01:15:22.907Z\\\\\n",
       "\t gcrwiki      & 2021-11-16T12:38:24.961Z\\\\\n",
       "\t gnwiktionary & 2021-11-16T01:15:09.510Z\\\\\n",
       "\t hiwikisource & 2021-11-16T01:07:49.162Z\\\\\n",
       "\t idwikisource & 2021-11-16T00:25:51.538Z\\\\\n",
       "\t iewiki       & 2021-11-16T05:20:28.589Z\\\\\n",
       "\t jawikinews   & 2021-11-16T00:34:27.288Z\\\\\n",
       "\t kawikiquote  & 2021-11-16T03:50:15.000Z\\\\\n",
       "\t kiwiki       & 2021-11-16T11:59:17.411Z\\\\\n",
       "\t kuwikibooks  & 2021-11-16T00:32:27.195Z\\\\\n",
       "\t lfnwiki      & 2021-11-16T00:30:19.477Z\\\\\n",
       "\t lldwiki      & 2021-11-16T11:40:46.025Z\\\\\n",
       "\t lvwiki       & 2021-11-16T00:35:10.473Z\\\\\n",
       "\t niawiki      & 2021-11-16T07:51:46.685Z\\\\\n",
       "\t pmswiki      & 2021-11-16T14:05:08.254Z\\\\\n",
       "\t quwiki       & 2021-11-16T03:29:07.147Z\\\\\n",
       "\t ruwikivoyage & 2021-11-16T00:28:11.610Z\\\\\n",
       "\t scwiki       & 2021-11-16T00:35:38.248Z\\\\\n",
       "\t ⋮ & ⋮\\\\\n",
       "\t cywikisource  & 2021-11-16T18:29:45.175Z\\\\\n",
       "\t dewikiquote   & 2021-11-16T00:41:16.814Z\\\\\n",
       "\t dsbwiki       & 2021-11-16T05:13:18.820Z\\\\\n",
       "\t etwikibooks   & 2021-11-16T07:40:45.507Z\\\\\n",
       "\t fawiki        & 2021-11-16T00:25:59.306Z\\\\\n",
       "\t frwikisource  & 2021-11-16T00:24:32.453Z\\\\\n",
       "\t glwikibooks   & 2021-11-16T07:11:09.848Z\\\\\n",
       "\t gnwiki        & 2021-11-16T00:39:21.601Z\\\\\n",
       "\t guwiktionary  & 2021-11-16T02:36:26.030Z\\\\\n",
       "\t hewiki        & 2021-11-16T00:24:38.895Z\\\\\n",
       "\t idwikibooks   & 2021-11-16T00:30:36.250Z\\\\\n",
       "\t inhwiki       & 2021-11-16T05:51:11.009Z\\\\\n",
       "\t kbpwiki       & 2021-11-16T01:41:33.931Z\\\\\n",
       "\t koiwiki       & 2021-11-16T02:30:44.999Z\\\\\n",
       "\t kowikisource  & 2021-11-16T00:28:54.703Z\\\\\n",
       "\t kvwiki        & 2021-11-16T01:19:13.225Z\\\\\n",
       "\t mgwiktionary  & 2021-11-16T00:30:04.487Z\\\\\n",
       "\t niawiktionary & 2021-11-16T12:36:44.931Z\\\\\n",
       "\t outreachwiki  & 2021-11-16T01:10:11.388Z\\\\\n",
       "\t pdcwiki       & 2021-11-16T05:06:04.210Z\\\\\n",
       "\t ptwiktionary  & 2021-11-16T00:31:18.377Z\\\\\n",
       "\t ruwikibooks   & 2021-11-16T00:33:01.561Z\\\\\n",
       "\t ruwikimedia   & 2021-11-16T14:07:02.298Z\\\\\n",
       "\t ruwikiversity & 2021-11-16T00:45:53.300Z\\\\\n",
       "\t smwiktionary  & 2021-11-16T00:38:46.211Z\\\\\n",
       "\t svwikiversity & 2021-11-16T05:35:07.449Z\\\\\n",
       "\t tgwiki        & 2021-11-16T00:44:16.946Z\\\\\n",
       "\t ukwikinews    & 2021-11-16T03:46:30.974Z\\\\\n",
       "\t vecwiktionary & 2021-11-16T08:52:57.117Z\\\\\n",
       "\t xmfwiki       & 2021-11-16T01:07:58.075Z\\\\\n",
       "\\end{tabular}\n"
      ],
      "text/markdown": [
       "\n",
       "A data.frame: 711 × 2\n",
       "\n",
       "| wiki &lt;chr&gt; | X_c1 &lt;chr&gt; |\n",
       "|---|---|\n",
       "| akwiki       | 2021-11-16T04:18:55.551Z |\n",
       "| arcwiki      | 2021-11-16T01:48:34.863Z |\n",
       "| arywiki      | 2021-11-16T00:37:44.463Z |\n",
       "| avkwiki      | 2021-11-16T05:01:17.642Z |\n",
       "| bxrwiki      | 2021-11-16T07:43:16.549Z |\n",
       "| cowiki       | 2021-11-16T01:25:14.056Z |\n",
       "| dewikivoyage | 2021-11-16T00:32:06.992Z |\n",
       "| enwikivoyage | 2021-11-16T00:29:43.720Z |\n",
       "| eswiki       | 2021-11-16T00:24:26.400Z |\n",
       "| eswikibooks  | 2021-11-16T00:29:20.840Z |\n",
       "| fjwiki       | 2021-11-16T07:53:56.222Z |\n",
       "| ganwiki      | 2021-11-16T01:23:14.580Z |\n",
       "| gawiki       | 2021-11-16T01:15:22.907Z |\n",
       "| gcrwiki      | 2021-11-16T12:38:24.961Z |\n",
       "| gnwiktionary | 2021-11-16T01:15:09.510Z |\n",
       "| hiwikisource | 2021-11-16T01:07:49.162Z |\n",
       "| idwikisource | 2021-11-16T00:25:51.538Z |\n",
       "| iewiki       | 2021-11-16T05:20:28.589Z |\n",
       "| jawikinews   | 2021-11-16T00:34:27.288Z |\n",
       "| kawikiquote  | 2021-11-16T03:50:15.000Z |\n",
       "| kiwiki       | 2021-11-16T11:59:17.411Z |\n",
       "| kuwikibooks  | 2021-11-16T00:32:27.195Z |\n",
       "| lfnwiki      | 2021-11-16T00:30:19.477Z |\n",
       "| lldwiki      | 2021-11-16T11:40:46.025Z |\n",
       "| lvwiki       | 2021-11-16T00:35:10.473Z |\n",
       "| niawiki      | 2021-11-16T07:51:46.685Z |\n",
       "| pmswiki      | 2021-11-16T14:05:08.254Z |\n",
       "| quwiki       | 2021-11-16T03:29:07.147Z |\n",
       "| ruwikivoyage | 2021-11-16T00:28:11.610Z |\n",
       "| scwiki       | 2021-11-16T00:35:38.248Z |\n",
       "| ⋮ | ⋮ |\n",
       "| cywikisource  | 2021-11-16T18:29:45.175Z |\n",
       "| dewikiquote   | 2021-11-16T00:41:16.814Z |\n",
       "| dsbwiki       | 2021-11-16T05:13:18.820Z |\n",
       "| etwikibooks   | 2021-11-16T07:40:45.507Z |\n",
       "| fawiki        | 2021-11-16T00:25:59.306Z |\n",
       "| frwikisource  | 2021-11-16T00:24:32.453Z |\n",
       "| glwikibooks   | 2021-11-16T07:11:09.848Z |\n",
       "| gnwiki        | 2021-11-16T00:39:21.601Z |\n",
       "| guwiktionary  | 2021-11-16T02:36:26.030Z |\n",
       "| hewiki        | 2021-11-16T00:24:38.895Z |\n",
       "| idwikibooks   | 2021-11-16T00:30:36.250Z |\n",
       "| inhwiki       | 2021-11-16T05:51:11.009Z |\n",
       "| kbpwiki       | 2021-11-16T01:41:33.931Z |\n",
       "| koiwiki       | 2021-11-16T02:30:44.999Z |\n",
       "| kowikisource  | 2021-11-16T00:28:54.703Z |\n",
       "| kvwiki        | 2021-11-16T01:19:13.225Z |\n",
       "| mgwiktionary  | 2021-11-16T00:30:04.487Z |\n",
       "| niawiktionary | 2021-11-16T12:36:44.931Z |\n",
       "| outreachwiki  | 2021-11-16T01:10:11.388Z |\n",
       "| pdcwiki       | 2021-11-16T05:06:04.210Z |\n",
       "| ptwiktionary  | 2021-11-16T00:31:18.377Z |\n",
       "| ruwikibooks   | 2021-11-16T00:33:01.561Z |\n",
       "| ruwikimedia   | 2021-11-16T14:07:02.298Z |\n",
       "| ruwikiversity | 2021-11-16T00:45:53.300Z |\n",
       "| smwiktionary  | 2021-11-16T00:38:46.211Z |\n",
       "| svwikiversity | 2021-11-16T05:35:07.449Z |\n",
       "| tgwiki        | 2021-11-16T00:44:16.946Z |\n",
       "| ukwikinews    | 2021-11-16T03:46:30.974Z |\n",
       "| vecwiktionary | 2021-11-16T08:52:57.117Z |\n",
       "| xmfwiki       | 2021-11-16T01:07:58.075Z |\n",
       "\n"
      ],
      "text/plain": [
       "    wiki          X_c1                    \n",
       "1   akwiki        2021-11-16T04:18:55.551Z\n",
       "2   arcwiki       2021-11-16T01:48:34.863Z\n",
       "3   arywiki       2021-11-16T00:37:44.463Z\n",
       "4   avkwiki       2021-11-16T05:01:17.642Z\n",
       "5   bxrwiki       2021-11-16T07:43:16.549Z\n",
       "6   cowiki        2021-11-16T01:25:14.056Z\n",
       "7   dewikivoyage  2021-11-16T00:32:06.992Z\n",
       "8   enwikivoyage  2021-11-16T00:29:43.720Z\n",
       "9   eswiki        2021-11-16T00:24:26.400Z\n",
       "10  eswikibooks   2021-11-16T00:29:20.840Z\n",
       "11  fjwiki        2021-11-16T07:53:56.222Z\n",
       "12  ganwiki       2021-11-16T01:23:14.580Z\n",
       "13  gawiki        2021-11-16T01:15:22.907Z\n",
       "14  gcrwiki       2021-11-16T12:38:24.961Z\n",
       "15  gnwiktionary  2021-11-16T01:15:09.510Z\n",
       "16  hiwikisource  2021-11-16T01:07:49.162Z\n",
       "17  idwikisource  2021-11-16T00:25:51.538Z\n",
       "18  iewiki        2021-11-16T05:20:28.589Z\n",
       "19  jawikinews    2021-11-16T00:34:27.288Z\n",
       "20  kawikiquote   2021-11-16T03:50:15.000Z\n",
       "21  kiwiki        2021-11-16T11:59:17.411Z\n",
       "22  kuwikibooks   2021-11-16T00:32:27.195Z\n",
       "23  lfnwiki       2021-11-16T00:30:19.477Z\n",
       "24  lldwiki       2021-11-16T11:40:46.025Z\n",
       "25  lvwiki        2021-11-16T00:35:10.473Z\n",
       "26  niawiki       2021-11-16T07:51:46.685Z\n",
       "27  pmswiki       2021-11-16T14:05:08.254Z\n",
       "28  quwiki        2021-11-16T03:29:07.147Z\n",
       "29  ruwikivoyage  2021-11-16T00:28:11.610Z\n",
       "30  scwiki        2021-11-16T00:35:38.248Z\n",
       "⋮   ⋮             ⋮                       \n",
       "682 cywikisource  2021-11-16T18:29:45.175Z\n",
       "683 dewikiquote   2021-11-16T00:41:16.814Z\n",
       "684 dsbwiki       2021-11-16T05:13:18.820Z\n",
       "685 etwikibooks   2021-11-16T07:40:45.507Z\n",
       "686 fawiki        2021-11-16T00:25:59.306Z\n",
       "687 frwikisource  2021-11-16T00:24:32.453Z\n",
       "688 glwikibooks   2021-11-16T07:11:09.848Z\n",
       "689 gnwiki        2021-11-16T00:39:21.601Z\n",
       "690 guwiktionary  2021-11-16T02:36:26.030Z\n",
       "691 hewiki        2021-11-16T00:24:38.895Z\n",
       "692 idwikibooks   2021-11-16T00:30:36.250Z\n",
       "693 inhwiki       2021-11-16T05:51:11.009Z\n",
       "694 kbpwiki       2021-11-16T01:41:33.931Z\n",
       "695 koiwiki       2021-11-16T02:30:44.999Z\n",
       "696 kowikisource  2021-11-16T00:28:54.703Z\n",
       "697 kvwiki        2021-11-16T01:19:13.225Z\n",
       "698 mgwiktionary  2021-11-16T00:30:04.487Z\n",
       "699 niawiktionary 2021-11-16T12:36:44.931Z\n",
       "700 outreachwiki  2021-11-16T01:10:11.388Z\n",
       "701 pdcwiki       2021-11-16T05:06:04.210Z\n",
       "702 ptwiktionary  2021-11-16T00:31:18.377Z\n",
       "703 ruwikibooks   2021-11-16T00:33:01.561Z\n",
       "704 ruwikimedia   2021-11-16T14:07:02.298Z\n",
       "705 ruwikiversity 2021-11-16T00:45:53.300Z\n",
       "706 smwiktionary  2021-11-16T00:38:46.211Z\n",
       "707 svwikiversity 2021-11-16T05:35:07.449Z\n",
       "708 tgwiki        2021-11-16T00:44:16.946Z\n",
       "709 ukwikinews    2021-11-16T03:46:30.974Z\n",
       "710 vecwiktionary 2021-11-16T08:52:57.117Z\n",
       "711 xmfwiki       2021-11-16T01:07:58.075Z"
      ]
     },
     "metadata": {},
     "output_type": "display_data"
    }
   ],
   "source": [
    "df"
   ]
  },
  {
   "cell_type": "markdown",
   "id": "f4089608",
   "metadata": {},
   "source": [
    "**Note**:   \n",
    "\n",
    "The init event is available in mobilewebuiactionstracking as early as 2021-11-16 UTC across all wikis and wiki families. "
   ]
  },
  {
   "cell_type": "markdown",
   "id": "0d5875e8",
   "metadata": {},
   "source": [
    "## Init events by namespace on enwiki"
   ]
  },
  {
   "cell_type": "code",
   "execution_count": 12,
   "id": "bc347f37",
   "metadata": {},
   "outputs": [],
   "source": [
    "query <- \n",
    "\"\n",
    "select event.name, count(1) AS events\n",
    "FROM event.mobilewebuiactionstracking\n",
    "WHERE year=2021 \n",
    "AND  event.action='init'\n",
    "AND wiki='enwiki'\n",
    "GROUP BY event.name\n",
    "ORDER BY events DESC\n",
    "LIMIT 10000\n",
    "\""
   ]
  },
  {
   "cell_type": "code",
   "execution_count": 13,
   "id": "02690b2a",
   "metadata": {},
   "outputs": [
    {
     "name": "stderr",
     "output_type": "stream",
     "text": [
      "Don't forget to authenticate with Kerberos using kinit\n",
      "\n"
     ]
    }
   ],
   "source": [
    "df <-  wmfdata::query_hive(query)"
   ]
  },
  {
   "cell_type": "code",
   "execution_count": 14,
   "id": "b2b7bef6",
   "metadata": {},
   "outputs": [
    {
     "data": {
      "text/html": [
       "<table class=\"dataframe\">\n",
       "<caption>A data.frame: 20 × 2</caption>\n",
       "<thead>\n",
       "\t<tr><th scope=col>name</th><th scope=col>events</th></tr>\n",
       "\t<tr><th scope=col>&lt;chr&gt;</th><th scope=col>&lt;int&gt;</th></tr>\n",
       "</thead>\n",
       "<tbody>\n",
       "\t<tr><td>ns=0  </td><td>975991</td></tr>\n",
       "\t<tr><td>ns=-1 </td><td>  6463</td></tr>\n",
       "\t<tr><td>ns=14 </td><td>  3356</td></tr>\n",
       "\t<tr><td>ns=6  </td><td>  1653</td></tr>\n",
       "\t<tr><td>ns=1  </td><td>  1306</td></tr>\n",
       "\t<tr><td>ns=4  </td><td>   950</td></tr>\n",
       "\t<tr><td>ns=2  </td><td>   348</td></tr>\n",
       "\t<tr><td>ns=12 </td><td>   333</td></tr>\n",
       "\t<tr><td>ns=100</td><td>   286</td></tr>\n",
       "\t<tr><td>ns=10 </td><td>   203</td></tr>\n",
       "\t<tr><td>ns=3  </td><td>    70</td></tr>\n",
       "\t<tr><td>ns=118</td><td>    22</td></tr>\n",
       "\t<tr><td>ns=5  </td><td>    18</td></tr>\n",
       "\t<tr><td>ns=7  </td><td>    10</td></tr>\n",
       "\t<tr><td>ns=11 </td><td>     5</td></tr>\n",
       "\t<tr><td>ns=15 </td><td>     4</td></tr>\n",
       "\t<tr><td>ns=8  </td><td>     4</td></tr>\n",
       "\t<tr><td>ns=119</td><td>     2</td></tr>\n",
       "\t<tr><td>ns=13 </td><td>     2</td></tr>\n",
       "\t<tr><td>ns=710</td><td>     1</td></tr>\n",
       "</tbody>\n",
       "</table>\n"
      ],
      "text/latex": [
       "A data.frame: 20 × 2\n",
       "\\begin{tabular}{ll}\n",
       " name & events\\\\\n",
       " <chr> & <int>\\\\\n",
       "\\hline\n",
       "\t ns=0   & 975991\\\\\n",
       "\t ns=-1  &   6463\\\\\n",
       "\t ns=14  &   3356\\\\\n",
       "\t ns=6   &   1653\\\\\n",
       "\t ns=1   &   1306\\\\\n",
       "\t ns=4   &    950\\\\\n",
       "\t ns=2   &    348\\\\\n",
       "\t ns=12  &    333\\\\\n",
       "\t ns=100 &    286\\\\\n",
       "\t ns=10  &    203\\\\\n",
       "\t ns=3   &     70\\\\\n",
       "\t ns=118 &     22\\\\\n",
       "\t ns=5   &     18\\\\\n",
       "\t ns=7   &     10\\\\\n",
       "\t ns=11  &      5\\\\\n",
       "\t ns=15  &      4\\\\\n",
       "\t ns=8   &      4\\\\\n",
       "\t ns=119 &      2\\\\\n",
       "\t ns=13  &      2\\\\\n",
       "\t ns=710 &      1\\\\\n",
       "\\end{tabular}\n"
      ],
      "text/markdown": [
       "\n",
       "A data.frame: 20 × 2\n",
       "\n",
       "| name &lt;chr&gt; | events &lt;int&gt; |\n",
       "|---|---|\n",
       "| ns=0   | 975991 |\n",
       "| ns=-1  |   6463 |\n",
       "| ns=14  |   3356 |\n",
       "| ns=6   |   1653 |\n",
       "| ns=1   |   1306 |\n",
       "| ns=4   |    950 |\n",
       "| ns=2   |    348 |\n",
       "| ns=12  |    333 |\n",
       "| ns=100 |    286 |\n",
       "| ns=10  |    203 |\n",
       "| ns=3   |     70 |\n",
       "| ns=118 |     22 |\n",
       "| ns=5   |     18 |\n",
       "| ns=7   |     10 |\n",
       "| ns=11  |      5 |\n",
       "| ns=15  |      4 |\n",
       "| ns=8   |      4 |\n",
       "| ns=119 |      2 |\n",
       "| ns=13  |      2 |\n",
       "| ns=710 |      1 |\n",
       "\n"
      ],
      "text/plain": [
       "   name   events\n",
       "1  ns=0   975991\n",
       "2  ns=-1    6463\n",
       "3  ns=14    3356\n",
       "4  ns=6     1653\n",
       "5  ns=1     1306\n",
       "6  ns=4      950\n",
       "7  ns=2      348\n",
       "8  ns=12     333\n",
       "9  ns=100    286\n",
       "10 ns=10     203\n",
       "11 ns=3       70\n",
       "12 ns=118     22\n",
       "13 ns=5       18\n",
       "14 ns=7       10\n",
       "15 ns=11       5\n",
       "16 ns=15       4\n",
       "17 ns=8        4\n",
       "18 ns=119      2\n",
       "19 ns=13       2\n",
       "20 ns=710      1"
      ]
     },
     "metadata": {},
     "output_type": "display_data"
    }
   ],
   "source": [
    "df"
   ]
  },
  {
   "cell_type": "markdown",
   "id": "33e12be0",
   "metadata": {},
   "source": [
    "**Note**: \n",
    "\n",
    "AS of 2021/11/16 (11:56 PM UTC) , on English Wikipedia, the number of events on content page ( namespace=0)  is 975991. \n",
    "\n",
    "\n",
    "The number of events on talk pages:\n",
    "\n",
    "| namespace | events |\n",
    "| :- | -: |\n",
    "| 1 | 1306 |\n",
    "|3| 70|\n",
    "|5| 18|\n",
    "|7| 10|\n",
    "|9| 0|\n",
    "|11| 5|\n",
    "|13| 2| \n",
    "|15| 4|"
   ]
  },
  {
   "cell_type": "markdown",
   "id": "1bf015f4",
   "metadata": {},
   "source": [
    "## Events by anonymous users on enwiki talk page"
   ]
  },
  {
   "cell_type": "code",
   "execution_count": 15,
   "id": "4e333cc6",
   "metadata": {},
   "outputs": [],
   "source": [
    "query <- \n",
    "\"\n",
    "select event.name, event.isanon, count(1) AS events\n",
    "FROM event.mobilewebuiactionstracking\n",
    "WHERE year=2021 \n",
    "AND  event.action='init'\n",
    "AND wiki='enwiki' AND event.name IN ('ns=1','ns=3','ns=5','ns=7','ns=9','ns=11', 'ns=13','ns=15')\n",
    "GROUP BY event.name, event.isanon\n",
    "ORDER BY event.name, event.isanon\n",
    "LIMIT 10000\n",
    "\""
   ]
  },
  {
   "cell_type": "code",
   "execution_count": 16,
   "id": "03fc73d9",
   "metadata": {},
   "outputs": [
    {
     "name": "stderr",
     "output_type": "stream",
     "text": [
      "Don't forget to authenticate with Kerberos using kinit\n",
      "\n"
     ]
    }
   ],
   "source": [
    "df <-  wmfdata::query_hive(query)"
   ]
  },
  {
   "cell_type": "code",
   "execution_count": 17,
   "id": "bc6ba17f",
   "metadata": {},
   "outputs": [
    {
     "data": {
      "text/html": [
       "<table class=\"dataframe\">\n",
       "<caption>A data.frame: 10 × 3</caption>\n",
       "<thead>\n",
       "\t<tr><th scope=col>name</th><th scope=col>isanon</th><th scope=col>events</th></tr>\n",
       "\t<tr><th scope=col>&lt;chr&gt;</th><th scope=col>&lt;chr&gt;</th><th scope=col>&lt;int&gt;</th></tr>\n",
       "</thead>\n",
       "<tbody>\n",
       "\t<tr><td>ns=1 </td><td>false</td><td>  27</td></tr>\n",
       "\t<tr><td>ns=1 </td><td>true </td><td>1279</td></tr>\n",
       "\t<tr><td>ns=11</td><td>true </td><td>   5</td></tr>\n",
       "\t<tr><td>ns=13</td><td>true </td><td>   2</td></tr>\n",
       "\t<tr><td>ns=15</td><td>true </td><td>   4</td></tr>\n",
       "\t<tr><td>ns=3 </td><td>false</td><td>  29</td></tr>\n",
       "\t<tr><td>ns=3 </td><td>true </td><td>  41</td></tr>\n",
       "\t<tr><td>ns=5 </td><td>false</td><td>   4</td></tr>\n",
       "\t<tr><td>ns=5 </td><td>true </td><td>  14</td></tr>\n",
       "\t<tr><td>ns=7 </td><td>true </td><td>  10</td></tr>\n",
       "</tbody>\n",
       "</table>\n"
      ],
      "text/latex": [
       "A data.frame: 10 × 3\n",
       "\\begin{tabular}{lll}\n",
       " name & isanon & events\\\\\n",
       " <chr> & <chr> & <int>\\\\\n",
       "\\hline\n",
       "\t ns=1  & false &   27\\\\\n",
       "\t ns=1  & true  & 1279\\\\\n",
       "\t ns=11 & true  &    5\\\\\n",
       "\t ns=13 & true  &    2\\\\\n",
       "\t ns=15 & true  &    4\\\\\n",
       "\t ns=3  & false &   29\\\\\n",
       "\t ns=3  & true  &   41\\\\\n",
       "\t ns=5  & false &    4\\\\\n",
       "\t ns=5  & true  &   14\\\\\n",
       "\t ns=7  & true  &   10\\\\\n",
       "\\end{tabular}\n"
      ],
      "text/markdown": [
       "\n",
       "A data.frame: 10 × 3\n",
       "\n",
       "| name &lt;chr&gt; | isanon &lt;chr&gt; | events &lt;int&gt; |\n",
       "|---|---|---|\n",
       "| ns=1  | false |   27 |\n",
       "| ns=1  | true  | 1279 |\n",
       "| ns=11 | true  |    5 |\n",
       "| ns=13 | true  |    2 |\n",
       "| ns=15 | true  |    4 |\n",
       "| ns=3  | false |   29 |\n",
       "| ns=3  | true  |   41 |\n",
       "| ns=5  | false |    4 |\n",
       "| ns=5  | true  |   14 |\n",
       "| ns=7  | true  |   10 |\n",
       "\n"
      ],
      "text/plain": [
       "   name  isanon events\n",
       "1  ns=1  false    27  \n",
       "2  ns=1  true   1279  \n",
       "3  ns=11 true      5  \n",
       "4  ns=13 true      2  \n",
       "5  ns=15 true      4  \n",
       "6  ns=3  false    29  \n",
       "7  ns=3  true     41  \n",
       "8  ns=5  false     4  \n",
       "9  ns=5  true     14  \n",
       "10 ns=7  true     10  "
      ]
     },
     "metadata": {},
     "output_type": "display_data"
    }
   ],
   "source": [
    "df"
   ]
  },
  {
   "cell_type": "code",
   "execution_count": 18,
   "id": "ca98e680",
   "metadata": {},
   "outputs": [],
   "source": [
    "query <- \n",
    "\"\n",
    "select event.name, event.isanon, count(1) AS events\n",
    "FROM event.mobilewebuiactionstracking\n",
    "WHERE year=2021 \n",
    "AND  event.action='init'\n",
    "AND wiki='enwiki' \n",
    "GROUP BY event.name, event.isanon\n",
    "ORDER BY event.name, event.isanon\n",
    "LIMIT 10000\n",
    "\""
   ]
  },
  {
   "cell_type": "code",
   "execution_count": 19,
   "id": "3f61445b",
   "metadata": {},
   "outputs": [
    {
     "name": "stderr",
     "output_type": "stream",
     "text": [
      "Don't forget to authenticate with Kerberos using kinit\n",
      "\n"
     ]
    }
   ],
   "source": [
    "df <-  wmfdata::query_hive(query)"
   ]
  },
  {
   "cell_type": "code",
   "execution_count": 20,
   "id": "c899a974",
   "metadata": {},
   "outputs": [
    {
     "data": {
      "text/html": [
       "<table class=\"dataframe\">\n",
       "<caption>A data.frame: 34 × 3</caption>\n",
       "<thead>\n",
       "\t<tr><th scope=col>name</th><th scope=col>isanon</th><th scope=col>events</th></tr>\n",
       "\t<tr><th scope=col>&lt;chr&gt;</th><th scope=col>&lt;chr&gt;</th><th scope=col>&lt;int&gt;</th></tr>\n",
       "</thead>\n",
       "<tbody>\n",
       "\t<tr><td>ns=-1 </td><td>false</td><td>   431</td></tr>\n",
       "\t<tr><td>ns=-1 </td><td>true </td><td>  6032</td></tr>\n",
       "\t<tr><td>ns=0  </td><td>false</td><td>  4576</td></tr>\n",
       "\t<tr><td>ns=0  </td><td>true </td><td>971415</td></tr>\n",
       "\t<tr><td>ns=1  </td><td>false</td><td>    27</td></tr>\n",
       "\t<tr><td>ns=1  </td><td>true </td><td>  1279</td></tr>\n",
       "\t<tr><td>ns=10 </td><td>false</td><td>     7</td></tr>\n",
       "\t<tr><td>ns=10 </td><td>true </td><td>   196</td></tr>\n",
       "\t<tr><td>ns=100</td><td>false</td><td>     8</td></tr>\n",
       "\t<tr><td>ns=100</td><td>true </td><td>   278</td></tr>\n",
       "\t<tr><td>ns=11 </td><td>true </td><td>     5</td></tr>\n",
       "\t<tr><td>ns=118</td><td>false</td><td>     8</td></tr>\n",
       "\t<tr><td>ns=118</td><td>true </td><td>    14</td></tr>\n",
       "\t<tr><td>ns=119</td><td>true </td><td>     2</td></tr>\n",
       "\t<tr><td>ns=12 </td><td>false</td><td>    10</td></tr>\n",
       "\t<tr><td>ns=12 </td><td>true </td><td>   323</td></tr>\n",
       "\t<tr><td>ns=13 </td><td>true </td><td>     2</td></tr>\n",
       "\t<tr><td>ns=14 </td><td>false</td><td>    74</td></tr>\n",
       "\t<tr><td>ns=14 </td><td>true </td><td>  3282</td></tr>\n",
       "\t<tr><td>ns=15 </td><td>true </td><td>     4</td></tr>\n",
       "\t<tr><td>ns=2  </td><td>false</td><td>    62</td></tr>\n",
       "\t<tr><td>ns=2  </td><td>true </td><td>   286</td></tr>\n",
       "\t<tr><td>ns=3  </td><td>false</td><td>    29</td></tr>\n",
       "\t<tr><td>ns=3  </td><td>true </td><td>    41</td></tr>\n",
       "\t<tr><td>ns=4  </td><td>false</td><td>    44</td></tr>\n",
       "\t<tr><td>ns=4  </td><td>true </td><td>   906</td></tr>\n",
       "\t<tr><td>ns=5  </td><td>false</td><td>     4</td></tr>\n",
       "\t<tr><td>ns=5  </td><td>true </td><td>    14</td></tr>\n",
       "\t<tr><td>ns=6  </td><td>false</td><td>    10</td></tr>\n",
       "\t<tr><td>ns=6  </td><td>true </td><td>  1643</td></tr>\n",
       "\t<tr><td>ns=7  </td><td>true </td><td>    10</td></tr>\n",
       "\t<tr><td>ns=710</td><td>true </td><td>     1</td></tr>\n",
       "\t<tr><td>ns=8  </td><td>false</td><td>     1</td></tr>\n",
       "\t<tr><td>ns=8  </td><td>true </td><td>     3</td></tr>\n",
       "</tbody>\n",
       "</table>\n"
      ],
      "text/latex": [
       "A data.frame: 34 × 3\n",
       "\\begin{tabular}{lll}\n",
       " name & isanon & events\\\\\n",
       " <chr> & <chr> & <int>\\\\\n",
       "\\hline\n",
       "\t ns=-1  & false &    431\\\\\n",
       "\t ns=-1  & true  &   6032\\\\\n",
       "\t ns=0   & false &   4576\\\\\n",
       "\t ns=0   & true  & 971415\\\\\n",
       "\t ns=1   & false &     27\\\\\n",
       "\t ns=1   & true  &   1279\\\\\n",
       "\t ns=10  & false &      7\\\\\n",
       "\t ns=10  & true  &    196\\\\\n",
       "\t ns=100 & false &      8\\\\\n",
       "\t ns=100 & true  &    278\\\\\n",
       "\t ns=11  & true  &      5\\\\\n",
       "\t ns=118 & false &      8\\\\\n",
       "\t ns=118 & true  &     14\\\\\n",
       "\t ns=119 & true  &      2\\\\\n",
       "\t ns=12  & false &     10\\\\\n",
       "\t ns=12  & true  &    323\\\\\n",
       "\t ns=13  & true  &      2\\\\\n",
       "\t ns=14  & false &     74\\\\\n",
       "\t ns=14  & true  &   3282\\\\\n",
       "\t ns=15  & true  &      4\\\\\n",
       "\t ns=2   & false &     62\\\\\n",
       "\t ns=2   & true  &    286\\\\\n",
       "\t ns=3   & false &     29\\\\\n",
       "\t ns=3   & true  &     41\\\\\n",
       "\t ns=4   & false &     44\\\\\n",
       "\t ns=4   & true  &    906\\\\\n",
       "\t ns=5   & false &      4\\\\\n",
       "\t ns=5   & true  &     14\\\\\n",
       "\t ns=6   & false &     10\\\\\n",
       "\t ns=6   & true  &   1643\\\\\n",
       "\t ns=7   & true  &     10\\\\\n",
       "\t ns=710 & true  &      1\\\\\n",
       "\t ns=8   & false &      1\\\\\n",
       "\t ns=8   & true  &      3\\\\\n",
       "\\end{tabular}\n"
      ],
      "text/markdown": [
       "\n",
       "A data.frame: 34 × 3\n",
       "\n",
       "| name &lt;chr&gt; | isanon &lt;chr&gt; | events &lt;int&gt; |\n",
       "|---|---|---|\n",
       "| ns=-1  | false |    431 |\n",
       "| ns=-1  | true  |   6032 |\n",
       "| ns=0   | false |   4576 |\n",
       "| ns=0   | true  | 971415 |\n",
       "| ns=1   | false |     27 |\n",
       "| ns=1   | true  |   1279 |\n",
       "| ns=10  | false |      7 |\n",
       "| ns=10  | true  |    196 |\n",
       "| ns=100 | false |      8 |\n",
       "| ns=100 | true  |    278 |\n",
       "| ns=11  | true  |      5 |\n",
       "| ns=118 | false |      8 |\n",
       "| ns=118 | true  |     14 |\n",
       "| ns=119 | true  |      2 |\n",
       "| ns=12  | false |     10 |\n",
       "| ns=12  | true  |    323 |\n",
       "| ns=13  | true  |      2 |\n",
       "| ns=14  | false |     74 |\n",
       "| ns=14  | true  |   3282 |\n",
       "| ns=15  | true  |      4 |\n",
       "| ns=2   | false |     62 |\n",
       "| ns=2   | true  |    286 |\n",
       "| ns=3   | false |     29 |\n",
       "| ns=3   | true  |     41 |\n",
       "| ns=4   | false |     44 |\n",
       "| ns=4   | true  |    906 |\n",
       "| ns=5   | false |      4 |\n",
       "| ns=5   | true  |     14 |\n",
       "| ns=6   | false |     10 |\n",
       "| ns=6   | true  |   1643 |\n",
       "| ns=7   | true  |     10 |\n",
       "| ns=710 | true  |      1 |\n",
       "| ns=8   | false |      1 |\n",
       "| ns=8   | true  |      3 |\n",
       "\n"
      ],
      "text/plain": [
       "   name   isanon events\n",
       "1  ns=-1  false     431\n",
       "2  ns=-1  true     6032\n",
       "3  ns=0   false    4576\n",
       "4  ns=0   true   971415\n",
       "5  ns=1   false      27\n",
       "6  ns=1   true     1279\n",
       "7  ns=10  false       7\n",
       "8  ns=10  true      196\n",
       "9  ns=100 false       8\n",
       "10 ns=100 true      278\n",
       "11 ns=11  true        5\n",
       "12 ns=118 false       8\n",
       "13 ns=118 true       14\n",
       "14 ns=119 true        2\n",
       "15 ns=12  false      10\n",
       "16 ns=12  true      323\n",
       "17 ns=13  true        2\n",
       "18 ns=14  false      74\n",
       "19 ns=14  true     3282\n",
       "20 ns=15  true        4\n",
       "21 ns=2   false      62\n",
       "22 ns=2   true      286\n",
       "23 ns=3   false      29\n",
       "24 ns=3   true       41\n",
       "25 ns=4   false      44\n",
       "26 ns=4   true      906\n",
       "27 ns=5   false       4\n",
       "28 ns=5   true       14\n",
       "29 ns=6   false      10\n",
       "30 ns=6   true     1643\n",
       "31 ns=7   true       10\n",
       "32 ns=710 true        1\n",
       "33 ns=8   false       1\n",
       "34 ns=8   true        3"
      ]
     },
     "metadata": {},
     "output_type": "display_data"
    }
   ],
   "source": [
    "df"
   ]
  },
  {
   "cell_type": "markdown",
   "id": "c85062e8",
   "metadata": {},
   "source": [
    "__QA on 12/06/2021__"
   ]
  },
  {
   "cell_type": "markdown",
   "id": "9c15b2ff",
   "metadata": {},
   "source": [
    "## Check the daily init events since the instrumentation"
   ]
  },
  {
   "cell_type": "code",
   "execution_count": 5,
   "id": "1d13bc67",
   "metadata": {},
   "outputs": [],
   "source": [
    "\n",
    "query_daily <- \n",
    "\"\n",
    "select date(substr(regexp_replace(dt, 'T|Z',' '),1 , 19)) AS date_time,   event.isanon, count(1) AS init_events\n",
    "FROM event.mobilewebuiactionstracking\n",
    "WHERE year=2021 \n",
    "AND  event.action='init'\n",
    "AND wiki='enwiki' \n",
    "GROUP BY date(substr(regexp_replace(dt, 'T|Z',' '),1 , 19)),  event.isanon\n",
    "ORDER BY date_time,  event.isanon\n",
    "LIMIT 10000\n",
    "\""
   ]
  },
  {
   "cell_type": "code",
   "execution_count": 6,
   "id": "aa97ff05",
   "metadata": {},
   "outputs": [
    {
     "name": "stderr",
     "output_type": "stream",
     "text": [
      "Don't forget to authenticate with Kerberos using kinit\n",
      "\n"
     ]
    }
   ],
   "source": [
    "df_daily <-  wmfdata::query_hive(query_daily)"
   ]
  },
  {
   "cell_type": "code",
   "execution_count": 13,
   "id": "e6713050",
   "metadata": {},
   "outputs": [],
   "source": [
    "df_daily$date_time <- as.Date(df_daily$date_time)"
   ]
  },
  {
   "cell_type": "code",
   "execution_count": 14,
   "id": "e1b0b818",
   "metadata": {},
   "outputs": [
    {
     "data": {
      "text/html": [
       "<table class=\"dataframe\">\n",
       "<caption>A data.frame: 42 × 3</caption>\n",
       "<thead>\n",
       "\t<tr><th scope=col>date_time</th><th scope=col>isanon</th><th scope=col>init_events</th></tr>\n",
       "\t<tr><th scope=col>&lt;date&gt;</th><th scope=col>&lt;chr&gt;</th><th scope=col>&lt;int&gt;</th></tr>\n",
       "</thead>\n",
       "<tbody>\n",
       "\t<tr><td>2021-11-16</td><td>false</td><td>   6108</td></tr>\n",
       "\t<tr><td>2021-11-16</td><td>true </td><td>1151072</td></tr>\n",
       "\t<tr><td>2021-11-17</td><td>false</td><td>   6219</td></tr>\n",
       "\t<tr><td>2021-11-17</td><td>true </td><td>1183287</td></tr>\n",
       "\t<tr><td>2021-11-18</td><td>false</td><td>   6068</td></tr>\n",
       "\t<tr><td>2021-11-18</td><td>true </td><td>1192861</td></tr>\n",
       "\t<tr><td>2021-11-19</td><td>false</td><td>   6055</td></tr>\n",
       "\t<tr><td>2021-11-19</td><td>true </td><td>1192030</td></tr>\n",
       "\t<tr><td>2021-11-20</td><td>false</td><td>   6785</td></tr>\n",
       "\t<tr><td>2021-11-20</td><td>true </td><td>1332997</td></tr>\n",
       "\t<tr><td>2021-11-21</td><td>false</td><td>   7102</td></tr>\n",
       "\t<tr><td>2021-11-21</td><td>true </td><td>1444004</td></tr>\n",
       "\t<tr><td>2021-11-22</td><td>false</td><td>   6347</td></tr>\n",
       "\t<tr><td>2021-11-22</td><td>true </td><td>1245262</td></tr>\n",
       "\t<tr><td>2021-11-23</td><td>false</td><td>   6389</td></tr>\n",
       "\t<tr><td>2021-11-23</td><td>true </td><td>1201959</td></tr>\n",
       "\t<tr><td>2021-11-24</td><td>false</td><td>   6305</td></tr>\n",
       "\t<tr><td>2021-11-24</td><td>true </td><td>1200260</td></tr>\n",
       "\t<tr><td>2021-11-25</td><td>false</td><td>   6500</td></tr>\n",
       "\t<tr><td>2021-11-25</td><td>true </td><td>1255172</td></tr>\n",
       "\t<tr><td>2021-11-26</td><td>false</td><td>   6648</td></tr>\n",
       "\t<tr><td>2021-11-26</td><td>true </td><td>1253771</td></tr>\n",
       "\t<tr><td>2021-11-27</td><td>false</td><td>   6935</td></tr>\n",
       "\t<tr><td>2021-11-27</td><td>true </td><td>1387017</td></tr>\n",
       "\t<tr><td>2021-11-28</td><td>false</td><td>   7166</td></tr>\n",
       "\t<tr><td>2021-11-28</td><td>true </td><td>1460646</td></tr>\n",
       "\t<tr><td>2021-11-29</td><td>false</td><td>   6392</td></tr>\n",
       "\t<tr><td>2021-11-29</td><td>true </td><td>1233600</td></tr>\n",
       "\t<tr><td>2021-11-30</td><td>false</td><td>   6464</td></tr>\n",
       "\t<tr><td>2021-11-30</td><td>true </td><td>1204042</td></tr>\n",
       "\t<tr><td>2021-12-01</td><td>false</td><td>   6192</td></tr>\n",
       "\t<tr><td>2021-12-01</td><td>true </td><td>1146860</td></tr>\n",
       "\t<tr><td>2021-12-02</td><td>false</td><td>   5937</td></tr>\n",
       "\t<tr><td>2021-12-02</td><td>true </td><td>1143618</td></tr>\n",
       "\t<tr><td>2021-12-03</td><td>false</td><td>   6242</td></tr>\n",
       "\t<tr><td>2021-12-03</td><td>true </td><td>1154256</td></tr>\n",
       "\t<tr><td>2021-12-04</td><td>false</td><td>   6650</td></tr>\n",
       "\t<tr><td>2021-12-04</td><td>true </td><td>1295818</td></tr>\n",
       "\t<tr><td>2021-12-05</td><td>false</td><td>   7237</td></tr>\n",
       "\t<tr><td>2021-12-05</td><td>true </td><td>1419020</td></tr>\n",
       "\t<tr><td>2021-12-06</td><td>false</td><td>   5823</td></tr>\n",
       "\t<tr><td>2021-12-06</td><td>true </td><td>1061972</td></tr>\n",
       "</tbody>\n",
       "</table>\n"
      ],
      "text/latex": [
       "A data.frame: 42 × 3\n",
       "\\begin{tabular}{lll}\n",
       " date\\_time & isanon & init\\_events\\\\\n",
       " <date> & <chr> & <int>\\\\\n",
       "\\hline\n",
       "\t 2021-11-16 & false &    6108\\\\\n",
       "\t 2021-11-16 & true  & 1151072\\\\\n",
       "\t 2021-11-17 & false &    6219\\\\\n",
       "\t 2021-11-17 & true  & 1183287\\\\\n",
       "\t 2021-11-18 & false &    6068\\\\\n",
       "\t 2021-11-18 & true  & 1192861\\\\\n",
       "\t 2021-11-19 & false &    6055\\\\\n",
       "\t 2021-11-19 & true  & 1192030\\\\\n",
       "\t 2021-11-20 & false &    6785\\\\\n",
       "\t 2021-11-20 & true  & 1332997\\\\\n",
       "\t 2021-11-21 & false &    7102\\\\\n",
       "\t 2021-11-21 & true  & 1444004\\\\\n",
       "\t 2021-11-22 & false &    6347\\\\\n",
       "\t 2021-11-22 & true  & 1245262\\\\\n",
       "\t 2021-11-23 & false &    6389\\\\\n",
       "\t 2021-11-23 & true  & 1201959\\\\\n",
       "\t 2021-11-24 & false &    6305\\\\\n",
       "\t 2021-11-24 & true  & 1200260\\\\\n",
       "\t 2021-11-25 & false &    6500\\\\\n",
       "\t 2021-11-25 & true  & 1255172\\\\\n",
       "\t 2021-11-26 & false &    6648\\\\\n",
       "\t 2021-11-26 & true  & 1253771\\\\\n",
       "\t 2021-11-27 & false &    6935\\\\\n",
       "\t 2021-11-27 & true  & 1387017\\\\\n",
       "\t 2021-11-28 & false &    7166\\\\\n",
       "\t 2021-11-28 & true  & 1460646\\\\\n",
       "\t 2021-11-29 & false &    6392\\\\\n",
       "\t 2021-11-29 & true  & 1233600\\\\\n",
       "\t 2021-11-30 & false &    6464\\\\\n",
       "\t 2021-11-30 & true  & 1204042\\\\\n",
       "\t 2021-12-01 & false &    6192\\\\\n",
       "\t 2021-12-01 & true  & 1146860\\\\\n",
       "\t 2021-12-02 & false &    5937\\\\\n",
       "\t 2021-12-02 & true  & 1143618\\\\\n",
       "\t 2021-12-03 & false &    6242\\\\\n",
       "\t 2021-12-03 & true  & 1154256\\\\\n",
       "\t 2021-12-04 & false &    6650\\\\\n",
       "\t 2021-12-04 & true  & 1295818\\\\\n",
       "\t 2021-12-05 & false &    7237\\\\\n",
       "\t 2021-12-05 & true  & 1419020\\\\\n",
       "\t 2021-12-06 & false &    5823\\\\\n",
       "\t 2021-12-06 & true  & 1061972\\\\\n",
       "\\end{tabular}\n"
      ],
      "text/markdown": [
       "\n",
       "A data.frame: 42 × 3\n",
       "\n",
       "| date_time &lt;date&gt; | isanon &lt;chr&gt; | init_events &lt;int&gt; |\n",
       "|---|---|---|\n",
       "| 2021-11-16 | false |    6108 |\n",
       "| 2021-11-16 | true  | 1151072 |\n",
       "| 2021-11-17 | false |    6219 |\n",
       "| 2021-11-17 | true  | 1183287 |\n",
       "| 2021-11-18 | false |    6068 |\n",
       "| 2021-11-18 | true  | 1192861 |\n",
       "| 2021-11-19 | false |    6055 |\n",
       "| 2021-11-19 | true  | 1192030 |\n",
       "| 2021-11-20 | false |    6785 |\n",
       "| 2021-11-20 | true  | 1332997 |\n",
       "| 2021-11-21 | false |    7102 |\n",
       "| 2021-11-21 | true  | 1444004 |\n",
       "| 2021-11-22 | false |    6347 |\n",
       "| 2021-11-22 | true  | 1245262 |\n",
       "| 2021-11-23 | false |    6389 |\n",
       "| 2021-11-23 | true  | 1201959 |\n",
       "| 2021-11-24 | false |    6305 |\n",
       "| 2021-11-24 | true  | 1200260 |\n",
       "| 2021-11-25 | false |    6500 |\n",
       "| 2021-11-25 | true  | 1255172 |\n",
       "| 2021-11-26 | false |    6648 |\n",
       "| 2021-11-26 | true  | 1253771 |\n",
       "| 2021-11-27 | false |    6935 |\n",
       "| 2021-11-27 | true  | 1387017 |\n",
       "| 2021-11-28 | false |    7166 |\n",
       "| 2021-11-28 | true  | 1460646 |\n",
       "| 2021-11-29 | false |    6392 |\n",
       "| 2021-11-29 | true  | 1233600 |\n",
       "| 2021-11-30 | false |    6464 |\n",
       "| 2021-11-30 | true  | 1204042 |\n",
       "| 2021-12-01 | false |    6192 |\n",
       "| 2021-12-01 | true  | 1146860 |\n",
       "| 2021-12-02 | false |    5937 |\n",
       "| 2021-12-02 | true  | 1143618 |\n",
       "| 2021-12-03 | false |    6242 |\n",
       "| 2021-12-03 | true  | 1154256 |\n",
       "| 2021-12-04 | false |    6650 |\n",
       "| 2021-12-04 | true  | 1295818 |\n",
       "| 2021-12-05 | false |    7237 |\n",
       "| 2021-12-05 | true  | 1419020 |\n",
       "| 2021-12-06 | false |    5823 |\n",
       "| 2021-12-06 | true  | 1061972 |\n",
       "\n"
      ],
      "text/plain": [
       "   date_time  isanon init_events\n",
       "1  2021-11-16 false     6108    \n",
       "2  2021-11-16 true   1151072    \n",
       "3  2021-11-17 false     6219    \n",
       "4  2021-11-17 true   1183287    \n",
       "5  2021-11-18 false     6068    \n",
       "6  2021-11-18 true   1192861    \n",
       "7  2021-11-19 false     6055    \n",
       "8  2021-11-19 true   1192030    \n",
       "9  2021-11-20 false     6785    \n",
       "10 2021-11-20 true   1332997    \n",
       "11 2021-11-21 false     7102    \n",
       "12 2021-11-21 true   1444004    \n",
       "13 2021-11-22 false     6347    \n",
       "14 2021-11-22 true   1245262    \n",
       "15 2021-11-23 false     6389    \n",
       "16 2021-11-23 true   1201959    \n",
       "17 2021-11-24 false     6305    \n",
       "18 2021-11-24 true   1200260    \n",
       "19 2021-11-25 false     6500    \n",
       "20 2021-11-25 true   1255172    \n",
       "21 2021-11-26 false     6648    \n",
       "22 2021-11-26 true   1253771    \n",
       "23 2021-11-27 false     6935    \n",
       "24 2021-11-27 true   1387017    \n",
       "25 2021-11-28 false     7166    \n",
       "26 2021-11-28 true   1460646    \n",
       "27 2021-11-29 false     6392    \n",
       "28 2021-11-29 true   1233600    \n",
       "29 2021-11-30 false     6464    \n",
       "30 2021-11-30 true   1204042    \n",
       "31 2021-12-01 false     6192    \n",
       "32 2021-12-01 true   1146860    \n",
       "33 2021-12-02 false     5937    \n",
       "34 2021-12-02 true   1143618    \n",
       "35 2021-12-03 false     6242    \n",
       "36 2021-12-03 true   1154256    \n",
       "37 2021-12-04 false     6650    \n",
       "38 2021-12-04 true   1295818    \n",
       "39 2021-12-05 false     7237    \n",
       "40 2021-12-05 true   1419020    \n",
       "41 2021-12-06 false     5823    \n",
       "42 2021-12-06 true   1061972    "
      ]
     },
     "metadata": {},
     "output_type": "display_data"
    }
   ],
   "source": [
    "df_daily "
   ]
  },
  {
   "cell_type": "code",
   "execution_count": 31,
   "id": "61d282b8",
   "metadata": {},
   "outputs": [
    {
     "data": {
      "image/png": "[encoded data removed]",
      "text/plain": [
       "plot without title"
      ]
     },
     "metadata": {
      "image/png": {
       "height": 600,
       "width": 900
      }
     },
     "output_type": "display_data"
    }
   ],
   "source": [
    "daily_init_graph <- ggplot(data=filter(df_daily, (isanon=='true')& (date_time<'2021-12-06')) , \n",
    "                                mapping=aes(x=date_time, y=init_events)) +\n",
    "geom_line(size = 2, color='#000099') +\n",
    "scale_y_continuous(limit = c(0, 1600000), labels = label_number(suffix = \" M\", scale = 1e-6))  +\n",
    "labs(title = 'Init Events on All Pages - logged-out user',\n",
    "     x = 'Date',\n",
    "     y = 'Init Events') + \n",
    "theme_light(base_size = 18) ;\n",
    "\n",
    "daily_init_graph"
   ]
  },
  {
   "cell_type": "code",
   "execution_count": 32,
   "id": "a746286a",
   "metadata": {},
   "outputs": [
    {
     "data": {
      "image/png": "[encoded data removed]",
      "text/plain": [
       "plot without title"
      ]
     },
     "metadata": {
      "image/png": {
       "height": 600,
       "width": 900
      }
     },
     "output_type": "display_data"
    }
   ],
   "source": [
    "daily_init_graph <- ggplot(data=filter(df_daily, (isanon=='false')& (date_time<'2021-12-06')) , \n",
    "                                mapping=aes(x=date_time, y=init_events)) +\n",
    "geom_line(size = 2, color='#000099') +\n",
    "scale_y_continuous(limit = c(0, 20000))  +\n",
    "labs(title = 'Init Events on All Pages - logged-in user',\n",
    "     x = 'Date',\n",
    "     y = 'Init Events') + \n",
    "theme_light(base_size = 18) ;\n",
    "\n",
    "daily_init_graph"
   ]
  },
  {
   "cell_type": "markdown",
   "id": "feca02ae",
   "metadata": {},
   "source": [
    "## Check the daily  init events on talk pages since the instrumentation"
   ]
  },
  {
   "cell_type": "code",
   "execution_count": 33,
   "id": "04e9d26f",
   "metadata": {},
   "outputs": [],
   "source": [
    "\n",
    "query_talk_daily <- \n",
    "\"\n",
    "select date(substr(regexp_replace(dt, 'T|Z',' '),1 , 19)) AS date_time,   event.isanon, count(1) AS init_events\n",
    "FROM event.mobilewebuiactionstracking\n",
    "WHERE year=2021 \n",
    "AND  event.action='init'\n",
    "AND wiki='enwiki' \n",
    "AND event.name IN ('ns=1','ns=3','ns=5','ns=7','ns=9','ns=11', 'ns=13','ns=15')\n",
    "GROUP BY date(substr(regexp_replace(dt, 'T|Z',' '),1 , 19)),  event.isanon\n",
    "ORDER BY date_time,  event.isanon\n",
    "LIMIT 10000\n",
    "\""
   ]
  },
  {
   "cell_type": "code",
   "execution_count": 34,
   "id": "d8ff2f3a",
   "metadata": {},
   "outputs": [
    {
     "name": "stderr",
     "output_type": "stream",
     "text": [
      "Don't forget to authenticate with Kerberos using kinit\n",
      "\n"
     ]
    }
   ],
   "source": [
    "df_talk_daily <-  wmfdata::query_hive(query_talk_daily)"
   ]
  },
  {
   "cell_type": "code",
   "execution_count": 35,
   "id": "e9823db4",
   "metadata": {},
   "outputs": [],
   "source": [
    "df_talk_daily$date_time <- as.Date(df_talk_daily$date_time)"
   ]
  },
  {
   "cell_type": "code",
   "execution_count": 39,
   "id": "c42418d0",
   "metadata": {},
   "outputs": [
    {
     "data": {
      "image/png": "[encoded data removed]",
      "text/plain": [
       "plot without title"
      ]
     },
     "metadata": {
      "image/png": {
       "height": 600,
       "width": 900
      }
     },
     "output_type": "display_data"
    }
   ],
   "source": [
    "daily_talk_init_graph <- ggplot(data=filter(df_talk_daily, (isanon=='true')& (date_time<'2021-12-06')) , \n",
    "                                mapping=aes(x=date_time, y=init_events)) +\n",
    "geom_line(size = 2, color='#000099') +\n",
    "scale_y_continuous(limit = c(0, 3000))  +\n",
    "labs(title = 'Init Events on Talk Pages - logged-out user',\n",
    "     x = 'Date',\n",
    "     y = 'Init Events') + \n",
    "theme_light(base_size = 18) ;\n",
    "\n",
    "daily_talk_init_graph"
   ]
  },
  {
   "cell_type": "code",
   "execution_count": 44,
   "id": "d4a578e8",
   "metadata": {},
   "outputs": [
    {
     "data": {
      "text/html": [
       "<table class=\"dataframe\">\n",
       "<caption>A data.frame: 20 × 3</caption>\n",
       "<thead>\n",
       "\t<tr><th scope=col>date_time</th><th scope=col>isanon</th><th scope=col>init_events</th></tr>\n",
       "\t<tr><th scope=col>&lt;date&gt;</th><th scope=col>&lt;chr&gt;</th><th scope=col>&lt;int&gt;</th></tr>\n",
       "</thead>\n",
       "<tbody>\n",
       "\t<tr><td>2021-11-16</td><td>true</td><td>1541</td></tr>\n",
       "\t<tr><td>2021-11-17</td><td>true</td><td>1792</td></tr>\n",
       "\t<tr><td>2021-11-18</td><td>true</td><td>1760</td></tr>\n",
       "\t<tr><td>2021-11-19</td><td>true</td><td>1935</td></tr>\n",
       "\t<tr><td>2021-11-20</td><td>true</td><td>1905</td></tr>\n",
       "\t<tr><td>2021-11-21</td><td>true</td><td>1977</td></tr>\n",
       "\t<tr><td>2021-11-22</td><td>true</td><td>1948</td></tr>\n",
       "\t<tr><td>2021-11-23</td><td>true</td><td>1938</td></tr>\n",
       "\t<tr><td>2021-11-24</td><td>true</td><td>1857</td></tr>\n",
       "\t<tr><td>2021-11-25</td><td>true</td><td>1994</td></tr>\n",
       "\t<tr><td>2021-11-26</td><td>true</td><td>1718</td></tr>\n",
       "\t<tr><td>2021-11-27</td><td>true</td><td>1654</td></tr>\n",
       "\t<tr><td>2021-11-28</td><td>true</td><td>1936</td></tr>\n",
       "\t<tr><td>2021-11-29</td><td>true</td><td>1726</td></tr>\n",
       "\t<tr><td>2021-11-30</td><td>true</td><td>1736</td></tr>\n",
       "\t<tr><td>2021-12-01</td><td>true</td><td>1581</td></tr>\n",
       "\t<tr><td>2021-12-02</td><td>true</td><td>1629</td></tr>\n",
       "\t<tr><td>2021-12-03</td><td>true</td><td>1597</td></tr>\n",
       "\t<tr><td>2021-12-04</td><td>true</td><td>1602</td></tr>\n",
       "\t<tr><td>2021-12-05</td><td>true</td><td>1790</td></tr>\n",
       "</tbody>\n",
       "</table>\n"
      ],
      "text/latex": [
       "A data.frame: 20 × 3\n",
       "\\begin{tabular}{lll}\n",
       " date\\_time & isanon & init\\_events\\\\\n",
       " <date> & <chr> & <int>\\\\\n",
       "\\hline\n",
       "\t 2021-11-16 & true & 1541\\\\\n",
       "\t 2021-11-17 & true & 1792\\\\\n",
       "\t 2021-11-18 & true & 1760\\\\\n",
       "\t 2021-11-19 & true & 1935\\\\\n",
       "\t 2021-11-20 & true & 1905\\\\\n",
       "\t 2021-11-21 & true & 1977\\\\\n",
       "\t 2021-11-22 & true & 1948\\\\\n",
       "\t 2021-11-23 & true & 1938\\\\\n",
       "\t 2021-11-24 & true & 1857\\\\\n",
       "\t 2021-11-25 & true & 1994\\\\\n",
       "\t 2021-11-26 & true & 1718\\\\\n",
       "\t 2021-11-27 & true & 1654\\\\\n",
       "\t 2021-11-28 & true & 1936\\\\\n",
       "\t 2021-11-29 & true & 1726\\\\\n",
       "\t 2021-11-30 & true & 1736\\\\\n",
       "\t 2021-12-01 & true & 1581\\\\\n",
       "\t 2021-12-02 & true & 1629\\\\\n",
       "\t 2021-12-03 & true & 1597\\\\\n",
       "\t 2021-12-04 & true & 1602\\\\\n",
       "\t 2021-12-05 & true & 1790\\\\\n",
       "\\end{tabular}\n"
      ],
      "text/markdown": [
       "\n",
       "A data.frame: 20 × 3\n",
       "\n",
       "| date_time &lt;date&gt; | isanon &lt;chr&gt; | init_events &lt;int&gt; |\n",
       "|---|---|---|\n",
       "| 2021-11-16 | true | 1541 |\n",
       "| 2021-11-17 | true | 1792 |\n",
       "| 2021-11-18 | true | 1760 |\n",
       "| 2021-11-19 | true | 1935 |\n",
       "| 2021-11-20 | true | 1905 |\n",
       "| 2021-11-21 | true | 1977 |\n",
       "| 2021-11-22 | true | 1948 |\n",
       "| 2021-11-23 | true | 1938 |\n",
       "| 2021-11-24 | true | 1857 |\n",
       "| 2021-11-25 | true | 1994 |\n",
       "| 2021-11-26 | true | 1718 |\n",
       "| 2021-11-27 | true | 1654 |\n",
       "| 2021-11-28 | true | 1936 |\n",
       "| 2021-11-29 | true | 1726 |\n",
       "| 2021-11-30 | true | 1736 |\n",
       "| 2021-12-01 | true | 1581 |\n",
       "| 2021-12-02 | true | 1629 |\n",
       "| 2021-12-03 | true | 1597 |\n",
       "| 2021-12-04 | true | 1602 |\n",
       "| 2021-12-05 | true | 1790 |\n",
       "\n"
      ],
      "text/plain": [
       "   date_time  isanon init_events\n",
       "1  2021-11-16 true   1541       \n",
       "2  2021-11-17 true   1792       \n",
       "3  2021-11-18 true   1760       \n",
       "4  2021-11-19 true   1935       \n",
       "5  2021-11-20 true   1905       \n",
       "6  2021-11-21 true   1977       \n",
       "7  2021-11-22 true   1948       \n",
       "8  2021-11-23 true   1938       \n",
       "9  2021-11-24 true   1857       \n",
       "10 2021-11-25 true   1994       \n",
       "11 2021-11-26 true   1718       \n",
       "12 2021-11-27 true   1654       \n",
       "13 2021-11-28 true   1936       \n",
       "14 2021-11-29 true   1726       \n",
       "15 2021-11-30 true   1736       \n",
       "16 2021-12-01 true   1581       \n",
       "17 2021-12-02 true   1629       \n",
       "18 2021-12-03 true   1597       \n",
       "19 2021-12-04 true   1602       \n",
       "20 2021-12-05 true   1790       "
      ]
     },
     "metadata": {},
     "output_type": "display_data"
    }
   ],
   "source": [
    "filter(df_talk_daily, (isanon=='true')&(date_time<'2021-12-06'))"
   ]
  },
  {
   "cell_type": "code",
   "execution_count": 47,
   "id": "df5fc82b",
   "metadata": {},
   "outputs": [
    {
     "data": {
      "text/html": [
       "1793.42105263158"
      ],
      "text/latex": [
       "1793.42105263158"
      ],
      "text/markdown": [
       "1793.42105263158"
      ],
      "text/plain": [
       "[1] 1793.421"
      ]
     },
     "metadata": {},
     "output_type": "display_data"
    }
   ],
   "source": [
    "mean((filter(df_talk_daily, (isanon=='true')&(date_time<'2021-12-06')&(date_time > '2021-11-16')))$init_events)"
   ]
  },
  {
   "cell_type": "markdown",
   "id": "81852a96",
   "metadata": {},
   "source": [
    "__Note__  \n",
    "\n",
    "The daily init events from talk pages by anonymous user is 1793.[1]\n",
    "\n",
    "[1] The average from 2021-11-17 to 2021-12-05."
   ]
  },
  {
   "cell_type": "code",
   "execution_count": 42,
   "id": "4aa59f06",
   "metadata": {},
   "outputs": [
    {
     "data": {
      "image/png": "[encoded data removed]",
      "text/plain": [
       "plot without title"
      ]
     },
     "metadata": {
      "image/png": {
       "height": 600,
       "width": 900
      }
     },
     "output_type": "display_data"
    }
   ],
   "source": [
    "daily_talk_init_graph <- ggplot(data=filter(df_talk_daily, (isanon=='false')& (date_time<'2021-12-06')) , \n",
    "                                mapping=aes(x=date_time, y=init_events)) +\n",
    "geom_line(size = 2, color='#000099') +\n",
    "scale_y_continuous(limit = c(0, 200))  +\n",
    "labs(title = 'Init Events on Talk Pages - logged-in user',\n",
    "     x = 'Date',\n",
    "     y = 'Init Events') + \n",
    "theme_light(base_size = 18) ;\n",
    "\n",
    "daily_talk_init_graph"
   ]
  },
  {
   "cell_type": "markdown",
   "id": "5a178b61",
   "metadata": {},
   "source": [
    "# Check events of clicking on article talk page tab\n"
   ]
  },
  {
   "cell_type": "markdown",
   "id": "48bf0ea7",
   "metadata": {},
   "source": [
    "__QA on 12/09/2021__"
   ]
  },
  {
   "cell_type": "code",
   "execution_count": 86,
   "id": "5da42e2a",
   "metadata": {},
   "outputs": [],
   "source": [
    "query_talkepage_click <- \n",
    "\"SELECT distinct event.name \n",
    "FROM event.mobilewebuiactionstracking\n",
    "WHERE year=2021 and month in (12) \n",
    "AND  event.action='click' and event.name LIKE '%talkpage%'\n",
    "AND event.isanon=true\n",
    "AND wiki='enwiki' \n",
    "\""
   ]
  },
  {
   "cell_type": "code",
   "execution_count": 87,
   "id": "7fe4649f",
   "metadata": {},
   "outputs": [
    {
     "name": "stderr",
     "output_type": "stream",
     "text": [
      "Don't forget to authenticate with Kerberos using kinit\n",
      "\n"
     ]
    }
   ],
   "source": [
    "df_talkepage_click  <-  wmfdata::query_hive(query_talkepage_click)"
   ]
  },
  {
   "cell_type": "code",
   "execution_count": 88,
   "id": "620e846e",
   "metadata": {},
   "outputs": [
    {
     "data": {
      "text/html": [
       "<table class=\"dataframe\">\n",
       "<caption>A data.frame: 3 × 1</caption>\n",
       "<thead>\n",
       "\t<tr><th scope=col>name</th></tr>\n",
       "\t<tr><th scope=col>&lt;chr&gt;</th></tr>\n",
       "</thead>\n",
       "<tbody>\n",
       "\t<tr><td>talkpage.add-topic </td></tr>\n",
       "\t<tr><td>talkpage.section   </td></tr>\n",
       "\t<tr><td>talkpage.readAsWiki</td></tr>\n",
       "</tbody>\n",
       "</table>\n"
      ],
      "text/latex": [
       "A data.frame: 3 × 1\n",
       "\\begin{tabular}{l}\n",
       " name\\\\\n",
       " <chr>\\\\\n",
       "\\hline\n",
       "\t talkpage.add-topic \\\\\n",
       "\t talkpage.section   \\\\\n",
       "\t talkpage.readAsWiki\\\\\n",
       "\\end{tabular}\n"
      ],
      "text/markdown": [
       "\n",
       "A data.frame: 3 × 1\n",
       "\n",
       "| name &lt;chr&gt; |\n",
       "|---|\n",
       "| talkpage.add-topic  |\n",
       "| talkpage.section    |\n",
       "| talkpage.readAsWiki |\n",
       "\n"
      ],
      "text/plain": [
       "  name               \n",
       "1 talkpage.add-topic \n",
       "2 talkpage.section   \n",
       "3 talkpage.readAsWiki"
      ]
     },
     "metadata": {},
     "output_type": "display_data"
    }
   ],
   "source": [
    "df_talkepage_click "
   ]
  },
  {
   "cell_type": "markdown",
   "id": "d8b3b171",
   "metadata": {},
   "source": [
    "__Note__:  \n",
    "\n",
    "Confirmed that following events are available in schema.  \n",
    "\n",
    "Clicks to add discussion are tracked with name = `talkpage.add-topic` AND action = 'click'  \n",
    "Clicks to read as wiki page are tracked with name = `talkpage.readAsWiki`AND action = 'click'  \n",
    "Clicks to sections are tracked with name =`talkpage.section` AND action=  'click'  \n"
   ]
  },
  {
   "cell_type": "code",
   "execution_count": 59,
   "id": "bb396237",
   "metadata": {},
   "outputs": [],
   "source": [
    "query_talkepage_click <- \n",
    "\"SELECT distinct event.name \n",
    "FROM event.mobilewebuiactionstracking\n",
    "WHERE year=2021 and month in (12) \n",
    "AND  event.action='click'\n",
    "AND wiki='enwiki' and  event.isanon=true\n",
    "\""
   ]
  },
  {
   "cell_type": "code",
   "execution_count": 60,
   "id": "03946152",
   "metadata": {
    "scrolled": true
   },
   "outputs": [
    {
     "name": "stderr",
     "output_type": "stream",
     "text": [
      "Don't forget to authenticate with Kerberos using kinit\n",
      "\n"
     ]
    }
   ],
   "source": [
    "df_talkepage_click  <-  wmfdata::query_hive(query_talkepage_click)"
   ]
  },
  {
   "cell_type": "code",
   "execution_count": 61,
   "id": "967ff212",
   "metadata": {},
   "outputs": [
    {
     "data": {
      "text/html": [
       "<table class=\"dataframe\">\n",
       "<caption>A data.frame: 22 × 1</caption>\n",
       "<thead>\n",
       "\t<tr><th scope=col>name</th></tr>\n",
       "\t<tr><th scope=col>&lt;chr&gt;</th></tr>\n",
       "</thead>\n",
       "<tbody>\n",
       "\t<tr><td>menu.contributions </td></tr>\n",
       "\t<tr><td>menu.history       </td></tr>\n",
       "\t<tr><td>menu.info          </td></tr>\n",
       "\t<tr><td>menu.random        </td></tr>\n",
       "\t<tr><td>menu.languages     </td></tr>\n",
       "\t<tr><td>menu.donate        </td></tr>\n",
       "\t<tr><td>menu.watch         </td></tr>\n",
       "\t<tr><td>tabs.subject       </td></tr>\n",
       "\t<tr><td>menu.settings      </td></tr>\n",
       "\t<tr><td>menu.user-groups   </td></tr>\n",
       "\t<tr><td>talkpage.section   </td></tr>\n",
       "\t<tr><td>tabs.              </td></tr>\n",
       "\t<tr><td>talkpage.readAsWiki</td></tr>\n",
       "\t<tr><td>tabs.talk          </td></tr>\n",
       "\t<tr><td>talkpage.add-topic </td></tr>\n",
       "\t<tr><td>ui.mainmenu        </td></tr>\n",
       "\t<tr><td>menu.home          </td></tr>\n",
       "\t<tr><td>menu.nearby        </td></tr>\n",
       "\t<tr><td>menu.edit          </td></tr>\n",
       "\t<tr><td>menu.login         </td></tr>\n",
       "\t<tr><td>ui.overflowmenu    </td></tr>\n",
       "\t<tr><td>menu.logs          </td></tr>\n",
       "</tbody>\n",
       "</table>\n"
      ],
      "text/latex": [
       "A data.frame: 22 × 1\n",
       "\\begin{tabular}{l}\n",
       " name\\\\\n",
       " <chr>\\\\\n",
       "\\hline\n",
       "\t menu.contributions \\\\\n",
       "\t menu.history       \\\\\n",
       "\t menu.info          \\\\\n",
       "\t menu.random        \\\\\n",
       "\t menu.languages     \\\\\n",
       "\t menu.donate        \\\\\n",
       "\t menu.watch         \\\\\n",
       "\t tabs.subject       \\\\\n",
       "\t menu.settings      \\\\\n",
       "\t menu.user-groups   \\\\\n",
       "\t talkpage.section   \\\\\n",
       "\t tabs.              \\\\\n",
       "\t talkpage.readAsWiki\\\\\n",
       "\t tabs.talk          \\\\\n",
       "\t talkpage.add-topic \\\\\n",
       "\t ui.mainmenu        \\\\\n",
       "\t menu.home          \\\\\n",
       "\t menu.nearby        \\\\\n",
       "\t menu.edit          \\\\\n",
       "\t menu.login         \\\\\n",
       "\t ui.overflowmenu    \\\\\n",
       "\t menu.logs          \\\\\n",
       "\\end{tabular}\n"
      ],
      "text/markdown": [
       "\n",
       "A data.frame: 22 × 1\n",
       "\n",
       "| name &lt;chr&gt; |\n",
       "|---|\n",
       "| menu.contributions  |\n",
       "| menu.history        |\n",
       "| menu.info           |\n",
       "| menu.random         |\n",
       "| menu.languages      |\n",
       "| menu.donate         |\n",
       "| menu.watch          |\n",
       "| tabs.subject        |\n",
       "| menu.settings       |\n",
       "| menu.user-groups    |\n",
       "| talkpage.section    |\n",
       "| tabs.               |\n",
       "| talkpage.readAsWiki |\n",
       "| tabs.talk           |\n",
       "| talkpage.add-topic  |\n",
       "| ui.mainmenu         |\n",
       "| menu.home           |\n",
       "| menu.nearby         |\n",
       "| menu.edit           |\n",
       "| menu.login          |\n",
       "| ui.overflowmenu     |\n",
       "| menu.logs           |\n",
       "\n"
      ],
      "text/plain": [
       "   name               \n",
       "1  menu.contributions \n",
       "2  menu.history       \n",
       "3  menu.info          \n",
       "4  menu.random        \n",
       "5  menu.languages     \n",
       "6  menu.donate        \n",
       "7  menu.watch         \n",
       "8  tabs.subject       \n",
       "9  menu.settings      \n",
       "10 menu.user-groups   \n",
       "11 talkpage.section   \n",
       "12 tabs.              \n",
       "13 talkpage.readAsWiki\n",
       "14 tabs.talk          \n",
       "15 talkpage.add-topic \n",
       "16 ui.mainmenu        \n",
       "17 menu.home          \n",
       "18 menu.nearby        \n",
       "19 menu.edit          \n",
       "20 menu.login         \n",
       "21 ui.overflowmenu    \n",
       "22 menu.logs          "
      ]
     },
     "metadata": {},
     "output_type": "display_data"
    }
   ],
   "source": [
    "df_talkepage_click"
   ]
  },
  {
   "cell_type": "markdown",
   "id": "6735931c",
   "metadata": {},
   "source": [
    "__Note__:   \n",
    "  \n",
    "Tested both anonymous uesr and logged-in user.\n",
    "Old instrumentation events like menu.watch, menu.history, menu.edit are captured as expected.\n",
    "\n",
    "\n",
    "Click on article tab is captured with event.name='tabs.subject'    \n",
    "Click on talk tab is captured with event.name='tabs.talk'  "
   ]
  },
  {
   "cell_type": "markdown",
   "id": "02433554",
   "metadata": {},
   "source": [
    "# Check events of clicking \"Add new discussion\"\n"
   ]
  },
  {
   "cell_type": "markdown",
   "id": "e769dddc",
   "metadata": {},
   "source": [
    "__QA on 12/14/2021__"
   ]
  },
  {
   "cell_type": "code",
   "execution_count": 89,
   "id": "ae9acd84",
   "metadata": {},
   "outputs": [],
   "source": [
    "query <- \n",
    "\"SELECT *\n",
    "FROM event.mobilewebuiactionstracking\n",
    "WHERE year=2021 \n",
    "AND  event.action='click' and event.name = 'talkpage.add-topic'\n",
    "AND wiki='enwiki' AND event.isanon=true\n",
    "ORDER BY dt\n",
    "LIMIT 100\n",
    "\""
   ]
  },
  {
   "cell_type": "code",
   "execution_count": 90,
   "id": "e87040c1",
   "metadata": {},
   "outputs": [
    {
     "name": "stderr",
     "output_type": "stream",
     "text": [
      "Don't forget to authenticate with Kerberos using kinit\n",
      "\n"
     ]
    }
   ],
   "source": [
    "df <-  wmfdata::query_hive(query)"
   ]
  },
  {
   "cell_type": "markdown",
   "id": "0c6c7c5e",
   "metadata": {},
   "source": [
    "__Note:__  \n",
    "\n",
    "Events are available since 2021-11-08"
   ]
  },
  {
   "cell_type": "markdown",
   "id": "4c7e4265",
   "metadata": {},
   "source": [
    "# Check events of clicking a section heading \n"
   ]
  },
  {
   "cell_type": "code",
   "execution_count": 92,
   "id": "c99e47a1",
   "metadata": {},
   "outputs": [],
   "source": [
    "query <- \n",
    "\"SELECT *\n",
    "FROM event.mobilewebuiactionstracking\n",
    "WHERE year=2021 \n",
    "AND  event.action='click' and event.name = 'talkpage.section'\n",
    "AND wiki='enwiki' AND event.isanon=true\n",
    "ORDER BY dt\n",
    "LIMIT 100\n",
    "\""
   ]
  },
  {
   "cell_type": "code",
   "execution_count": 93,
   "id": "40b01dda",
   "metadata": {},
   "outputs": [
    {
     "name": "stderr",
     "output_type": "stream",
     "text": [
      "Don't forget to authenticate with Kerberos using kinit\n",
      "\n"
     ]
    }
   ],
   "source": [
    "df <-  wmfdata::query_hive(query)"
   ]
  },
  {
   "cell_type": "markdown",
   "id": "52e2ea59",
   "metadata": {},
   "source": [
    "__Note:__  \n",
    "\n",
    "Events are available since 2021-11-08"
   ]
  },
  {
   "cell_type": "markdown",
   "id": "64fdf73d",
   "metadata": {},
   "source": [
    "# Check events of clicking read as wiki page"
   ]
  },
  {
   "cell_type": "code",
   "execution_count": 97,
   "id": "6e63a451",
   "metadata": {},
   "outputs": [],
   "source": [
    "query <- \n",
    "\"SELECT *\n",
    "FROM event.mobilewebuiactionstracking\n",
    "WHERE year=2021 \n",
    "AND  event.action='click' and event.name = 'talkpage.readAsWiki'\n",
    "AND wiki='enwiki' AND event.isanon=true\n",
    "ORDER BY dt\n",
    "LIMIT 100\n",
    "\""
   ]
  },
  {
   "cell_type": "code",
   "execution_count": 98,
   "id": "6c96f3e7",
   "metadata": {},
   "outputs": [
    {
     "name": "stderr",
     "output_type": "stream",
     "text": [
      "Don't forget to authenticate with Kerberos using kinit\n",
      "\n"
     ]
    }
   ],
   "source": [
    "df <-  wmfdata::query_hive(query)"
   ]
  },
  {
   "cell_type": "markdown",
   "id": "8d998c6a",
   "metadata": {},
   "source": [
    "__Note:__  \n",
    "\n",
    "Events are available since 2021-11-08"
   ]
  },
  {
   "cell_type": "markdown",
   "id": "247a8d39",
   "metadata": {},
   "source": [
    "# Check whether we can join init event and click event by token"
   ]
  },
  {
   "cell_type": "code",
   "execution_count": 112,
   "id": "c3b8ffbe",
   "metadata": {},
   "outputs": [],
   "source": [
    "query_init_click <- \n",
    "\"\n",
    "WITH t1 AS (\n",
    "SELECT   MIN(TO_DATE(dt)) AS init_date,\n",
    "event.token AS session_id\n",
    "FROM event.mobilewebuiactionstracking AS t_i\n",
    "WHERE  t_i.year=2021\n",
    "AND t_i.event.action='init' AND t_i.event.name='ns=1'\n",
    "AND t_i.wiki='enwiki' and t_i.event.isanon=true\n",
    "GROUP BY event.token\n",
    "),\n",
    "t2 AS (SELECT TO_DATE(dt) AS click_date, \n",
    "event.token AS session_id\n",
    "FROM event.mobilewebuiactionstracking AS t_c\n",
    "WHERE t_c.year=2021 \n",
    "AND  t_c.event.action='click' \n",
    "AND t_c.wiki='enwiki' and t_c.event.isanon=true\n",
    ")\n",
    "SELECT  init_date, COUNT(DISTINCT t1.session_id) AS initiated_sessions, \n",
    "COUNT(DISTINCT t2.session_id) AS clicked_sessions\n",
    "FROM t1 LEFT JOIN t2 \n",
    "ON t1.session_id=t2.session_id\n",
    "GROUP BY init_date\n",
    "\""
   ]
  },
  {
   "cell_type": "code",
   "execution_count": 113,
   "id": "0804f0c8",
   "metadata": {},
   "outputs": [
    {
     "name": "stderr",
     "output_type": "stream",
     "text": [
      "Don't forget to authenticate with Kerberos using kinit\n",
      "\n"
     ]
    }
   ],
   "source": [
    "df_init_click <- wmfdata::query_hive(query_init_click)"
   ]
  },
  {
   "cell_type": "code",
   "execution_count": 114,
   "id": "4eac1b3e",
   "metadata": {},
   "outputs": [
    {
     "data": {
      "text/html": [
       "<table class=\"dataframe\">\n",
       "<caption>A data.frame: 30 × 3</caption>\n",
       "<thead>\n",
       "\t<tr><th scope=col>init_date</th><th scope=col>initiated_sessions</th><th scope=col>clicked_sessions</th></tr>\n",
       "\t<tr><th scope=col>&lt;chr&gt;</th><th scope=col>&lt;int&gt;</th><th scope=col>&lt;int&gt;</th></tr>\n",
       "</thead>\n",
       "<tbody>\n",
       "\t<tr><td>2021-11-16</td><td>1447</td><td>624</td></tr>\n",
       "\t<tr><td>2021-11-17</td><td>1708</td><td>734</td></tr>\n",
       "\t<tr><td>2021-11-18</td><td>1659</td><td>701</td></tr>\n",
       "\t<tr><td>2021-11-19</td><td>1829</td><td>794</td></tr>\n",
       "\t<tr><td>2021-11-20</td><td>1799</td><td>718</td></tr>\n",
       "\t<tr><td>2021-11-21</td><td>1880</td><td>725</td></tr>\n",
       "\t<tr><td>2021-11-22</td><td>1830</td><td>760</td></tr>\n",
       "\t<tr><td>2021-11-23</td><td>1847</td><td>742</td></tr>\n",
       "\t<tr><td>2021-11-24</td><td>1734</td><td>668</td></tr>\n",
       "\t<tr><td>2021-11-25</td><td>1838</td><td>772</td></tr>\n",
       "\t<tr><td>2021-11-26</td><td>1613</td><td>651</td></tr>\n",
       "\t<tr><td>2021-11-27</td><td>1556</td><td>667</td></tr>\n",
       "\t<tr><td>2021-11-28</td><td>1819</td><td>710</td></tr>\n",
       "\t<tr><td>2021-11-29</td><td>1638</td><td>677</td></tr>\n",
       "\t<tr><td>2021-11-30</td><td>1627</td><td>679</td></tr>\n",
       "\t<tr><td>2021-12-01</td><td>1476</td><td>634</td></tr>\n",
       "\t<tr><td>2021-12-02</td><td>1527</td><td>627</td></tr>\n",
       "\t<tr><td>2021-12-03</td><td>1480</td><td>609</td></tr>\n",
       "\t<tr><td>2021-12-04</td><td>1509</td><td>651</td></tr>\n",
       "\t<tr><td>2021-12-05</td><td>1701</td><td>768</td></tr>\n",
       "\t<tr><td>2021-12-06</td><td>1539</td><td>656</td></tr>\n",
       "\t<tr><td>2021-12-07</td><td>1543</td><td>634</td></tr>\n",
       "\t<tr><td>2021-12-08</td><td>1566</td><td>680</td></tr>\n",
       "\t<tr><td>2021-12-09</td><td>1560</td><td>650</td></tr>\n",
       "\t<tr><td>2021-12-10</td><td>1442</td><td>584</td></tr>\n",
       "\t<tr><td>2021-12-11</td><td>1542</td><td>651</td></tr>\n",
       "\t<tr><td>2021-12-12</td><td>1656</td><td>688</td></tr>\n",
       "\t<tr><td>2021-12-13</td><td>1485</td><td>590</td></tr>\n",
       "\t<tr><td>2021-12-14</td><td>1573</td><td>638</td></tr>\n",
       "\t<tr><td>2021-12-15</td><td> 169</td><td> 59</td></tr>\n",
       "</tbody>\n",
       "</table>\n"
      ],
      "text/latex": [
       "A data.frame: 30 × 3\n",
       "\\begin{tabular}{lll}\n",
       " init\\_date & initiated\\_sessions & clicked\\_sessions\\\\\n",
       " <chr> & <int> & <int>\\\\\n",
       "\\hline\n",
       "\t 2021-11-16 & 1447 & 624\\\\\n",
       "\t 2021-11-17 & 1708 & 734\\\\\n",
       "\t 2021-11-18 & 1659 & 701\\\\\n",
       "\t 2021-11-19 & 1829 & 794\\\\\n",
       "\t 2021-11-20 & 1799 & 718\\\\\n",
       "\t 2021-11-21 & 1880 & 725\\\\\n",
       "\t 2021-11-22 & 1830 & 760\\\\\n",
       "\t 2021-11-23 & 1847 & 742\\\\\n",
       "\t 2021-11-24 & 1734 & 668\\\\\n",
       "\t 2021-11-25 & 1838 & 772\\\\\n",
       "\t 2021-11-26 & 1613 & 651\\\\\n",
       "\t 2021-11-27 & 1556 & 667\\\\\n",
       "\t 2021-11-28 & 1819 & 710\\\\\n",
       "\t 2021-11-29 & 1638 & 677\\\\\n",
       "\t 2021-11-30 & 1627 & 679\\\\\n",
       "\t 2021-12-01 & 1476 & 634\\\\\n",
       "\t 2021-12-02 & 1527 & 627\\\\\n",
       "\t 2021-12-03 & 1480 & 609\\\\\n",
       "\t 2021-12-04 & 1509 & 651\\\\\n",
       "\t 2021-12-05 & 1701 & 768\\\\\n",
       "\t 2021-12-06 & 1539 & 656\\\\\n",
       "\t 2021-12-07 & 1543 & 634\\\\\n",
       "\t 2021-12-08 & 1566 & 680\\\\\n",
       "\t 2021-12-09 & 1560 & 650\\\\\n",
       "\t 2021-12-10 & 1442 & 584\\\\\n",
       "\t 2021-12-11 & 1542 & 651\\\\\n",
       "\t 2021-12-12 & 1656 & 688\\\\\n",
       "\t 2021-12-13 & 1485 & 590\\\\\n",
       "\t 2021-12-14 & 1573 & 638\\\\\n",
       "\t 2021-12-15 &  169 &  59\\\\\n",
       "\\end{tabular}\n"
      ],
      "text/markdown": [
       "\n",
       "A data.frame: 30 × 3\n",
       "\n",
       "| init_date &lt;chr&gt; | initiated_sessions &lt;int&gt; | clicked_sessions &lt;int&gt; |\n",
       "|---|---|---|\n",
       "| 2021-11-16 | 1447 | 624 |\n",
       "| 2021-11-17 | 1708 | 734 |\n",
       "| 2021-11-18 | 1659 | 701 |\n",
       "| 2021-11-19 | 1829 | 794 |\n",
       "| 2021-11-20 | 1799 | 718 |\n",
       "| 2021-11-21 | 1880 | 725 |\n",
       "| 2021-11-22 | 1830 | 760 |\n",
       "| 2021-11-23 | 1847 | 742 |\n",
       "| 2021-11-24 | 1734 | 668 |\n",
       "| 2021-11-25 | 1838 | 772 |\n",
       "| 2021-11-26 | 1613 | 651 |\n",
       "| 2021-11-27 | 1556 | 667 |\n",
       "| 2021-11-28 | 1819 | 710 |\n",
       "| 2021-11-29 | 1638 | 677 |\n",
       "| 2021-11-30 | 1627 | 679 |\n",
       "| 2021-12-01 | 1476 | 634 |\n",
       "| 2021-12-02 | 1527 | 627 |\n",
       "| 2021-12-03 | 1480 | 609 |\n",
       "| 2021-12-04 | 1509 | 651 |\n",
       "| 2021-12-05 | 1701 | 768 |\n",
       "| 2021-12-06 | 1539 | 656 |\n",
       "| 2021-12-07 | 1543 | 634 |\n",
       "| 2021-12-08 | 1566 | 680 |\n",
       "| 2021-12-09 | 1560 | 650 |\n",
       "| 2021-12-10 | 1442 | 584 |\n",
       "| 2021-12-11 | 1542 | 651 |\n",
       "| 2021-12-12 | 1656 | 688 |\n",
       "| 2021-12-13 | 1485 | 590 |\n",
       "| 2021-12-14 | 1573 | 638 |\n",
       "| 2021-12-15 |  169 |  59 |\n",
       "\n"
      ],
      "text/plain": [
       "   init_date  initiated_sessions clicked_sessions\n",
       "1  2021-11-16 1447               624             \n",
       "2  2021-11-17 1708               734             \n",
       "3  2021-11-18 1659               701             \n",
       "4  2021-11-19 1829               794             \n",
       "5  2021-11-20 1799               718             \n",
       "6  2021-11-21 1880               725             \n",
       "7  2021-11-22 1830               760             \n",
       "8  2021-11-23 1847               742             \n",
       "9  2021-11-24 1734               668             \n",
       "10 2021-11-25 1838               772             \n",
       "11 2021-11-26 1613               651             \n",
       "12 2021-11-27 1556               667             \n",
       "13 2021-11-28 1819               710             \n",
       "14 2021-11-29 1638               677             \n",
       "15 2021-11-30 1627               679             \n",
       "16 2021-12-01 1476               634             \n",
       "17 2021-12-02 1527               627             \n",
       "18 2021-12-03 1480               609             \n",
       "19 2021-12-04 1509               651             \n",
       "20 2021-12-05 1701               768             \n",
       "21 2021-12-06 1539               656             \n",
       "22 2021-12-07 1543               634             \n",
       "23 2021-12-08 1566               680             \n",
       "24 2021-12-09 1560               650             \n",
       "25 2021-12-10 1442               584             \n",
       "26 2021-12-11 1542               651             \n",
       "27 2021-12-12 1656               688             \n",
       "28 2021-12-13 1485               590             \n",
       "29 2021-12-14 1573               638             \n",
       "30 2021-12-15  169                59             "
      ]
     },
     "metadata": {},
     "output_type": "display_data"
    }
   ],
   "source": [
    "df_init_click"
   ]
  },
  {
   "cell_type": "markdown",
   "id": "ea8b6853",
   "metadata": {},
   "source": [
    "# QA Summary\n",
    "PASSED CHECKS:  \n",
    "✅  Check init event  \n",
    "✅  Check events of clicking on article or talk page tab  \n",
    "✅  Check events of clicking \"Add new discussion\"  \n",
    "✅  Check events of clicking a section heading  \n",
    "✅  Check events of clicking read as wiki page \n",
    "✅  Check being able to join init event with click event by event.token."
   ]
  },
  {
   "cell_type": "code",
   "execution_count": null,
   "id": "fe1fab06",
   "metadata": {},
   "outputs": [],
   "source": []
  }
 ],
 "metadata": {
  "kernelspec": {
   "display_name": "R",
   "language": "R",
   "name": "ir"
  },
  "language_info": {
   "codemirror_mode": "r",
   "file_extension": ".r",
   "mimetype": "text/x-r-source",
   "name": "R",
   "pygments_lexer": "r",
   "version": "3.5.2"
  }
 },
 "nbformat": 4,
 "nbformat_minor": 5
}
