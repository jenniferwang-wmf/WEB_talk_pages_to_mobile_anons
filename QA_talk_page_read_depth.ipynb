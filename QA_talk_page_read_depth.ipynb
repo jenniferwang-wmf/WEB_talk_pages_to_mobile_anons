{
 "cells": [
  {
   "cell_type": "markdown",
   "id": "5b7449fe",
   "metadata": {},
   "source": [
    "# Introduction\n",
    "\n",
    "[Instrumentation ticket](https://phabricator.wikimedia.org/T294777)  |  [QA ticket](https://phabricator.wikimedia.org/T297921)\n",
    "\n",
    "# Instrumentation note\n",
    "Web team has deployed the instrumentation to measure read depth of anonymous user on mobile web talk page. \n",
    "The related events will be stored in `event.mediawiki_reading_depth` schema. Sample rate is 0.1% on English Wikipedia. \n",
    "\n"
   ]
  },
  {
   "cell_type": "markdown",
   "id": "3da344f1",
   "metadata": {},
   "source": [
    "# Table of Contents\n",
    "\n"
   ]
  },
  {
   "cell_type": "code",
   "execution_count": 1,
   "id": "ea569081",
   "metadata": {},
   "outputs": [],
   "source": [
    "shhh <- function(expr) suppressPackageStartupMessages(suppressWarnings(suppressMessages(expr)))\n",
    "shhh({\n",
    "library(tidyverse); \n",
    "library(lubridate); \n",
    "library(scales);\n",
    "library(magrittr); \n",
    "library(dplyr);\n",
    "})"
   ]
  },
  {
   "cell_type": "code",
   "execution_count": 103,
   "id": "ff33b26c",
   "metadata": {},
   "outputs": [
    {
     "data": {
      "text/html": [
       "<script>  \n",
       "code_show=true; \n",
       "function code_toggle() {\n",
       "  if (code_show){\n",
       "    $('div.input').hide();\n",
       "  } else {\n",
       "    $('div.input').show();\n",
       "  }\n",
       "  code_show = !code_show\n",
       "}  \n",
       "$( document ).ready(code_toggle);\n",
       "</script>\n",
       "  <form action=\"javascript:code_toggle()\">\n",
       "    <input type=\"submit\" value=\"Click here to toggle on/off the raw code.\">\n",
       " </form>"
      ]
     },
     "metadata": {},
     "output_type": "display_data"
    }
   ],
   "source": [
    "library(IRdisplay)\n",
    "\n",
    "display_html(\n",
    "'<script>  \n",
    "code_show=true; \n",
    "function code_toggle() {\n",
    "  if (code_show){\n",
    "    $(\\'div.input\\').hide();\n",
    "  } else {\n",
    "    $(\\'div.input\\').show();\n",
    "  }\n",
    "  code_show = !code_show\n",
    "}  \n",
    "$( document ).ready(code_toggle);\n",
    "</script>\n",
    "  <form action=\"javascript:code_toggle()\">\n",
    "    <input type=\"submit\" value=\"Click here to toggle on/off the raw code.\">\n",
    " </form>'\n",
    ")"
   ]
  },
  {
   "cell_type": "code",
   "execution_count": 99,
   "id": "ea201bd3",
   "metadata": {},
   "outputs": [],
   "source": [
    "options(repr.plot.width = 15, repr.plot.height = 10)"
   ]
  },
  {
   "cell_type": "markdown",
   "id": "3fe15199",
   "metadata": {},
   "source": [
    "__QA on 12/16/2021__"
   ]
  },
  {
   "cell_type": "markdown",
   "id": "10d4011e",
   "metadata": {},
   "source": [
    "# Check daily events"
   ]
  },
  {
   "cell_type": "code",
   "execution_count": 3,
   "id": "ef7e18e8",
   "metadata": {},
   "outputs": [],
   "source": [
    "query <- \n",
    "\"\n",
    "SELECT TO_DATE(dt),  year, month,day, COUNT(1) AS events, \n",
    "COUNT(DISTINCT session_token) AS sessions\n",
    "FROM event.mediawiki_reading_depth\n",
    "WHERE year=2021\n",
    "GROUP BY TO_DATE(dt),year, month,day\n",
    "\""
   ]
  },
  {
   "cell_type": "code",
   "execution_count": 4,
   "id": "f0e39eed",
   "metadata": {},
   "outputs": [
    {
     "name": "stderr",
     "output_type": "stream",
     "text": [
      "Don't forget to authenticate with Kerberos using kinit\n",
      "\n"
     ]
    }
   ],
   "source": [
    "df <-  wmfdata::query_hive(query)"
   ]
  },
  {
   "cell_type": "code",
   "execution_count": 5,
   "id": "918cde2f",
   "metadata": {},
   "outputs": [
    {
     "data": {
      "text/html": [
       "<table class=\"dataframe\">\n",
       "<caption>A data.frame: 290 × 6</caption>\n",
       "<thead>\n",
       "\t<tr><th scope=col>X_c0</th><th scope=col>year</th><th scope=col>month</th><th scope=col>day</th><th scope=col>events</th><th scope=col>sessions</th></tr>\n",
       "\t<tr><th scope=col>&lt;chr&gt;</th><th scope=col>&lt;int&gt;</th><th scope=col>&lt;int&gt;</th><th scope=col>&lt;int&gt;</th><th scope=col>&lt;int&gt;</th><th scope=col>&lt;int&gt;</th></tr>\n",
       "</thead>\n",
       "<tbody>\n",
       "\t<tr><td>2021-11-02</td><td>2021</td><td>12</td><td> 3</td><td>     2</td><td>    1</td></tr>\n",
       "\t<tr><td>2021-11-11</td><td>2021</td><td>12</td><td> 2</td><td>     2</td><td>    1</td></tr>\n",
       "\t<tr><td>2021-11-11</td><td>2021</td><td>12</td><td>10</td><td>     2</td><td>    1</td></tr>\n",
       "\t<tr><td>2021-11-17</td><td>2021</td><td>11</td><td>23</td><td>     2</td><td>    1</td></tr>\n",
       "\t<tr><td>2021-11-17</td><td>2021</td><td>11</td><td>27</td><td>     1</td><td>    1</td></tr>\n",
       "\t<tr><td>2021-11-17</td><td>2021</td><td>12</td><td> 4</td><td>     4</td><td>    1</td></tr>\n",
       "\t<tr><td>2021-11-18</td><td>2021</td><td>12</td><td> 3</td><td>    17</td><td>    1</td></tr>\n",
       "\t<tr><td>2021-11-19</td><td>2021</td><td>11</td><td>25</td><td>     2</td><td>    1</td></tr>\n",
       "\t<tr><td>2021-11-19</td><td>2021</td><td>11</td><td>29</td><td>     4</td><td>    2</td></tr>\n",
       "\t<tr><td>2021-11-19</td><td>2021</td><td>12</td><td> 2</td><td>     1</td><td>    1</td></tr>\n",
       "\t<tr><td>2021-11-20</td><td>2021</td><td>11</td><td>24</td><td>     2</td><td>    1</td></tr>\n",
       "\t<tr><td>2021-11-20</td><td>2021</td><td>12</td><td> 1</td><td>     3</td><td>    1</td></tr>\n",
       "\t<tr><td>2021-11-20</td><td>2021</td><td>12</td><td>13</td><td>     2</td><td>    1</td></tr>\n",
       "\t<tr><td>2021-11-21</td><td>2021</td><td>11</td><td>23</td><td>     2</td><td>    1</td></tr>\n",
       "\t<tr><td>2021-11-21</td><td>2021</td><td>11</td><td>27</td><td>     3</td><td>    1</td></tr>\n",
       "\t<tr><td>2021-11-22</td><td>2021</td><td>11</td><td>30</td><td>     2</td><td>    1</td></tr>\n",
       "\t<tr><td>2021-11-23</td><td>2021</td><td>11</td><td>25</td><td>     6</td><td>    5</td></tr>\n",
       "\t<tr><td>2021-11-23</td><td>2021</td><td>11</td><td>29</td><td>     2</td><td>    1</td></tr>\n",
       "\t<tr><td>2021-11-23</td><td>2021</td><td>12</td><td>10</td><td>     2</td><td>    1</td></tr>\n",
       "\t<tr><td>2021-11-24</td><td>2021</td><td>11</td><td>24</td><td>252846</td><td>61831</td></tr>\n",
       "\t<tr><td>2021-11-24</td><td>2021</td><td>11</td><td>28</td><td>     6</td><td>    4</td></tr>\n",
       "\t<tr><td>2021-11-24</td><td>2021</td><td>12</td><td> 5</td><td>     1</td><td>    1</td></tr>\n",
       "\t<tr><td>2021-11-24</td><td>2021</td><td>12</td><td>13</td><td>     1</td><td>    1</td></tr>\n",
       "\t<tr><td>2021-11-25</td><td>2021</td><td>11</td><td>27</td><td>     4</td><td>    3</td></tr>\n",
       "\t<tr><td>2021-11-26</td><td>2021</td><td>11</td><td>26</td><td>251677</td><td>64301</td></tr>\n",
       "\t<tr><td>2021-11-26</td><td>2021</td><td>12</td><td> 3</td><td>    10</td><td>    2</td></tr>\n",
       "\t<tr><td>2021-11-27</td><td>2021</td><td>11</td><td>29</td><td>    65</td><td>    4</td></tr>\n",
       "\t<tr><td>2021-11-27</td><td>2021</td><td>12</td><td> 2</td><td>     2</td><td>    1</td></tr>\n",
       "\t<tr><td>2021-11-27</td><td>2021</td><td>12</td><td> 6</td><td>     2</td><td>    1</td></tr>\n",
       "\t<tr><td>2021-11-28</td><td>2021</td><td>11</td><td>24</td><td>     1</td><td>    1</td></tr>\n",
       "\t<tr><td>⋮</td><td>⋮</td><td>⋮</td><td>⋮</td><td>⋮</td><td>⋮</td></tr>\n",
       "\t<tr><td>2021-12-04</td><td>2021</td><td>12</td><td> 6</td><td>     5</td><td>    3</td></tr>\n",
       "\t<tr><td>2021-12-04</td><td>2021</td><td>12</td><td>10</td><td>     1</td><td>    1</td></tr>\n",
       "\t<tr><td>2021-12-05</td><td>2021</td><td>12</td><td> 5</td><td>302679</td><td>74680</td></tr>\n",
       "\t<tr><td>2021-12-06</td><td>2021</td><td>12</td><td> 8</td><td>     3</td><td>    2</td></tr>\n",
       "\t<tr><td>2021-12-06</td><td>2021</td><td>12</td><td>12</td><td>     2</td><td>    1</td></tr>\n",
       "\t<tr><td>2021-12-06</td><td>2021</td><td>12</td><td>16</td><td>     2</td><td>    1</td></tr>\n",
       "\t<tr><td>2021-12-07</td><td>2021</td><td>12</td><td> 7</td><td>312276</td><td>74212</td></tr>\n",
       "\t<tr><td>2021-12-07</td><td>2021</td><td>12</td><td>15</td><td>     2</td><td>    1</td></tr>\n",
       "\t<tr><td>2021-12-08</td><td>2021</td><td>12</td><td> 6</td><td>    60</td><td>    2</td></tr>\n",
       "\t<tr><td>2021-12-08</td><td>2021</td><td>12</td><td>10</td><td>    11</td><td>    4</td></tr>\n",
       "\t<tr><td>2021-12-09</td><td>2021</td><td>12</td><td> 5</td><td>     6</td><td>    1</td></tr>\n",
       "\t<tr><td>2021-12-09</td><td>2021</td><td>12</td><td> 9</td><td>321458</td><td>73965</td></tr>\n",
       "\t<tr><td>2021-12-10</td><td>2021</td><td>12</td><td> 8</td><td>     2</td><td>    1</td></tr>\n",
       "\t<tr><td>2021-12-10</td><td>2021</td><td>12</td><td>12</td><td>     8</td><td>    4</td></tr>\n",
       "\t<tr><td>2021-12-11</td><td>2021</td><td>12</td><td> 3</td><td>     1</td><td>    1</td></tr>\n",
       "\t<tr><td>2021-12-11</td><td>2021</td><td>12</td><td>11</td><td>280390</td><td>70652</td></tr>\n",
       "\t<tr><td>2021-12-11</td><td>2021</td><td>12</td><td>15</td><td>     4</td><td>    3</td></tr>\n",
       "\t<tr><td>2021-12-12</td><td>2021</td><td>12</td><td>10</td><td>    49</td><td>    2</td></tr>\n",
       "\t<tr><td>2021-12-12</td><td>2021</td><td>12</td><td>14</td><td>     2</td><td>    2</td></tr>\n",
       "\t<tr><td>2021-12-13</td><td>2021</td><td>12</td><td> 9</td><td>     4</td><td>    2</td></tr>\n",
       "\t<tr><td>2021-12-13</td><td>2021</td><td>12</td><td>13</td><td>314546</td><td>75724</td></tr>\n",
       "\t<tr><td>2021-12-14</td><td>2021</td><td>12</td><td>12</td><td>     1</td><td>    1</td></tr>\n",
       "\t<tr><td>2021-12-14</td><td>2021</td><td>12</td><td>16</td><td>     1</td><td>    1</td></tr>\n",
       "\t<tr><td>2021-12-15</td><td>2021</td><td>12</td><td>15</td><td>300833</td><td>71457</td></tr>\n",
       "\t<tr><td>2021-12-16</td><td>2021</td><td>12</td><td>14</td><td>    15</td><td>    2</td></tr>\n",
       "\t<tr><td>2021-12-18</td><td>2021</td><td>12</td><td>12</td><td>     3</td><td>    2</td></tr>\n",
       "\t<tr><td>2021-12-18</td><td>2021</td><td>12</td><td>16</td><td>     3</td><td>    2</td></tr>\n",
       "\t<tr><td>2021-12-19</td><td>2021</td><td>12</td><td>15</td><td>     2</td><td>    1</td></tr>\n",
       "\t<tr><td>2021-12-24</td><td>2021</td><td>11</td><td>25</td><td>     2</td><td>    1</td></tr>\n",
       "\t<tr><td>2022-01-02</td><td>2021</td><td>12</td><td> 5</td><td>     2</td><td>    1</td></tr>\n",
       "</tbody>\n",
       "</table>\n"
      ],
      "text/latex": [
       "A data.frame: 290 × 6\n",
       "\\begin{tabular}{llllll}\n",
       " X\\_c0 & year & month & day & events & sessions\\\\\n",
       " <chr> & <int> & <int> & <int> & <int> & <int>\\\\\n",
       "\\hline\n",
       "\t 2021-11-02 & 2021 & 12 &  3 &      2 &     1\\\\\n",
       "\t 2021-11-11 & 2021 & 12 &  2 &      2 &     1\\\\\n",
       "\t 2021-11-11 & 2021 & 12 & 10 &      2 &     1\\\\\n",
       "\t 2021-11-17 & 2021 & 11 & 23 &      2 &     1\\\\\n",
       "\t 2021-11-17 & 2021 & 11 & 27 &      1 &     1\\\\\n",
       "\t 2021-11-17 & 2021 & 12 &  4 &      4 &     1\\\\\n",
       "\t 2021-11-18 & 2021 & 12 &  3 &     17 &     1\\\\\n",
       "\t 2021-11-19 & 2021 & 11 & 25 &      2 &     1\\\\\n",
       "\t 2021-11-19 & 2021 & 11 & 29 &      4 &     2\\\\\n",
       "\t 2021-11-19 & 2021 & 12 &  2 &      1 &     1\\\\\n",
       "\t 2021-11-20 & 2021 & 11 & 24 &      2 &     1\\\\\n",
       "\t 2021-11-20 & 2021 & 12 &  1 &      3 &     1\\\\\n",
       "\t 2021-11-20 & 2021 & 12 & 13 &      2 &     1\\\\\n",
       "\t 2021-11-21 & 2021 & 11 & 23 &      2 &     1\\\\\n",
       "\t 2021-11-21 & 2021 & 11 & 27 &      3 &     1\\\\\n",
       "\t 2021-11-22 & 2021 & 11 & 30 &      2 &     1\\\\\n",
       "\t 2021-11-23 & 2021 & 11 & 25 &      6 &     5\\\\\n",
       "\t 2021-11-23 & 2021 & 11 & 29 &      2 &     1\\\\\n",
       "\t 2021-11-23 & 2021 & 12 & 10 &      2 &     1\\\\\n",
       "\t 2021-11-24 & 2021 & 11 & 24 & 252846 & 61831\\\\\n",
       "\t 2021-11-24 & 2021 & 11 & 28 &      6 &     4\\\\\n",
       "\t 2021-11-24 & 2021 & 12 &  5 &      1 &     1\\\\\n",
       "\t 2021-11-24 & 2021 & 12 & 13 &      1 &     1\\\\\n",
       "\t 2021-11-25 & 2021 & 11 & 27 &      4 &     3\\\\\n",
       "\t 2021-11-26 & 2021 & 11 & 26 & 251677 & 64301\\\\\n",
       "\t 2021-11-26 & 2021 & 12 &  3 &     10 &     2\\\\\n",
       "\t 2021-11-27 & 2021 & 11 & 29 &     65 &     4\\\\\n",
       "\t 2021-11-27 & 2021 & 12 &  2 &      2 &     1\\\\\n",
       "\t 2021-11-27 & 2021 & 12 &  6 &      2 &     1\\\\\n",
       "\t 2021-11-28 & 2021 & 11 & 24 &      1 &     1\\\\\n",
       "\t ⋮ & ⋮ & ⋮ & ⋮ & ⋮ & ⋮\\\\\n",
       "\t 2021-12-04 & 2021 & 12 &  6 &      5 &     3\\\\\n",
       "\t 2021-12-04 & 2021 & 12 & 10 &      1 &     1\\\\\n",
       "\t 2021-12-05 & 2021 & 12 &  5 & 302679 & 74680\\\\\n",
       "\t 2021-12-06 & 2021 & 12 &  8 &      3 &     2\\\\\n",
       "\t 2021-12-06 & 2021 & 12 & 12 &      2 &     1\\\\\n",
       "\t 2021-12-06 & 2021 & 12 & 16 &      2 &     1\\\\\n",
       "\t 2021-12-07 & 2021 & 12 &  7 & 312276 & 74212\\\\\n",
       "\t 2021-12-07 & 2021 & 12 & 15 &      2 &     1\\\\\n",
       "\t 2021-12-08 & 2021 & 12 &  6 &     60 &     2\\\\\n",
       "\t 2021-12-08 & 2021 & 12 & 10 &     11 &     4\\\\\n",
       "\t 2021-12-09 & 2021 & 12 &  5 &      6 &     1\\\\\n",
       "\t 2021-12-09 & 2021 & 12 &  9 & 321458 & 73965\\\\\n",
       "\t 2021-12-10 & 2021 & 12 &  8 &      2 &     1\\\\\n",
       "\t 2021-12-10 & 2021 & 12 & 12 &      8 &     4\\\\\n",
       "\t 2021-12-11 & 2021 & 12 &  3 &      1 &     1\\\\\n",
       "\t 2021-12-11 & 2021 & 12 & 11 & 280390 & 70652\\\\\n",
       "\t 2021-12-11 & 2021 & 12 & 15 &      4 &     3\\\\\n",
       "\t 2021-12-12 & 2021 & 12 & 10 &     49 &     2\\\\\n",
       "\t 2021-12-12 & 2021 & 12 & 14 &      2 &     2\\\\\n",
       "\t 2021-12-13 & 2021 & 12 &  9 &      4 &     2\\\\\n",
       "\t 2021-12-13 & 2021 & 12 & 13 & 314546 & 75724\\\\\n",
       "\t 2021-12-14 & 2021 & 12 & 12 &      1 &     1\\\\\n",
       "\t 2021-12-14 & 2021 & 12 & 16 &      1 &     1\\\\\n",
       "\t 2021-12-15 & 2021 & 12 & 15 & 300833 & 71457\\\\\n",
       "\t 2021-12-16 & 2021 & 12 & 14 &     15 &     2\\\\\n",
       "\t 2021-12-18 & 2021 & 12 & 12 &      3 &     2\\\\\n",
       "\t 2021-12-18 & 2021 & 12 & 16 &      3 &     2\\\\\n",
       "\t 2021-12-19 & 2021 & 12 & 15 &      2 &     1\\\\\n",
       "\t 2021-12-24 & 2021 & 11 & 25 &      2 &     1\\\\\n",
       "\t 2022-01-02 & 2021 & 12 &  5 &      2 &     1\\\\\n",
       "\\end{tabular}\n"
      ],
      "text/markdown": [
       "\n",
       "A data.frame: 290 × 6\n",
       "\n",
       "| X_c0 &lt;chr&gt; | year &lt;int&gt; | month &lt;int&gt; | day &lt;int&gt; | events &lt;int&gt; | sessions &lt;int&gt; |\n",
       "|---|---|---|---|---|---|\n",
       "| 2021-11-02 | 2021 | 12 |  3 |      2 |     1 |\n",
       "| 2021-11-11 | 2021 | 12 |  2 |      2 |     1 |\n",
       "| 2021-11-11 | 2021 | 12 | 10 |      2 |     1 |\n",
       "| 2021-11-17 | 2021 | 11 | 23 |      2 |     1 |\n",
       "| 2021-11-17 | 2021 | 11 | 27 |      1 |     1 |\n",
       "| 2021-11-17 | 2021 | 12 |  4 |      4 |     1 |\n",
       "| 2021-11-18 | 2021 | 12 |  3 |     17 |     1 |\n",
       "| 2021-11-19 | 2021 | 11 | 25 |      2 |     1 |\n",
       "| 2021-11-19 | 2021 | 11 | 29 |      4 |     2 |\n",
       "| 2021-11-19 | 2021 | 12 |  2 |      1 |     1 |\n",
       "| 2021-11-20 | 2021 | 11 | 24 |      2 |     1 |\n",
       "| 2021-11-20 | 2021 | 12 |  1 |      3 |     1 |\n",
       "| 2021-11-20 | 2021 | 12 | 13 |      2 |     1 |\n",
       "| 2021-11-21 | 2021 | 11 | 23 |      2 |     1 |\n",
       "| 2021-11-21 | 2021 | 11 | 27 |      3 |     1 |\n",
       "| 2021-11-22 | 2021 | 11 | 30 |      2 |     1 |\n",
       "| 2021-11-23 | 2021 | 11 | 25 |      6 |     5 |\n",
       "| 2021-11-23 | 2021 | 11 | 29 |      2 |     1 |\n",
       "| 2021-11-23 | 2021 | 12 | 10 |      2 |     1 |\n",
       "| 2021-11-24 | 2021 | 11 | 24 | 252846 | 61831 |\n",
       "| 2021-11-24 | 2021 | 11 | 28 |      6 |     4 |\n",
       "| 2021-11-24 | 2021 | 12 |  5 |      1 |     1 |\n",
       "| 2021-11-24 | 2021 | 12 | 13 |      1 |     1 |\n",
       "| 2021-11-25 | 2021 | 11 | 27 |      4 |     3 |\n",
       "| 2021-11-26 | 2021 | 11 | 26 | 251677 | 64301 |\n",
       "| 2021-11-26 | 2021 | 12 |  3 |     10 |     2 |\n",
       "| 2021-11-27 | 2021 | 11 | 29 |     65 |     4 |\n",
       "| 2021-11-27 | 2021 | 12 |  2 |      2 |     1 |\n",
       "| 2021-11-27 | 2021 | 12 |  6 |      2 |     1 |\n",
       "| 2021-11-28 | 2021 | 11 | 24 |      1 |     1 |\n",
       "| ⋮ | ⋮ | ⋮ | ⋮ | ⋮ | ⋮ |\n",
       "| 2021-12-04 | 2021 | 12 |  6 |      5 |     3 |\n",
       "| 2021-12-04 | 2021 | 12 | 10 |      1 |     1 |\n",
       "| 2021-12-05 | 2021 | 12 |  5 | 302679 | 74680 |\n",
       "| 2021-12-06 | 2021 | 12 |  8 |      3 |     2 |\n",
       "| 2021-12-06 | 2021 | 12 | 12 |      2 |     1 |\n",
       "| 2021-12-06 | 2021 | 12 | 16 |      2 |     1 |\n",
       "| 2021-12-07 | 2021 | 12 |  7 | 312276 | 74212 |\n",
       "| 2021-12-07 | 2021 | 12 | 15 |      2 |     1 |\n",
       "| 2021-12-08 | 2021 | 12 |  6 |     60 |     2 |\n",
       "| 2021-12-08 | 2021 | 12 | 10 |     11 |     4 |\n",
       "| 2021-12-09 | 2021 | 12 |  5 |      6 |     1 |\n",
       "| 2021-12-09 | 2021 | 12 |  9 | 321458 | 73965 |\n",
       "| 2021-12-10 | 2021 | 12 |  8 |      2 |     1 |\n",
       "| 2021-12-10 | 2021 | 12 | 12 |      8 |     4 |\n",
       "| 2021-12-11 | 2021 | 12 |  3 |      1 |     1 |\n",
       "| 2021-12-11 | 2021 | 12 | 11 | 280390 | 70652 |\n",
       "| 2021-12-11 | 2021 | 12 | 15 |      4 |     3 |\n",
       "| 2021-12-12 | 2021 | 12 | 10 |     49 |     2 |\n",
       "| 2021-12-12 | 2021 | 12 | 14 |      2 |     2 |\n",
       "| 2021-12-13 | 2021 | 12 |  9 |      4 |     2 |\n",
       "| 2021-12-13 | 2021 | 12 | 13 | 314546 | 75724 |\n",
       "| 2021-12-14 | 2021 | 12 | 12 |      1 |     1 |\n",
       "| 2021-12-14 | 2021 | 12 | 16 |      1 |     1 |\n",
       "| 2021-12-15 | 2021 | 12 | 15 | 300833 | 71457 |\n",
       "| 2021-12-16 | 2021 | 12 | 14 |     15 |     2 |\n",
       "| 2021-12-18 | 2021 | 12 | 12 |      3 |     2 |\n",
       "| 2021-12-18 | 2021 | 12 | 16 |      3 |     2 |\n",
       "| 2021-12-19 | 2021 | 12 | 15 |      2 |     1 |\n",
       "| 2021-12-24 | 2021 | 11 | 25 |      2 |     1 |\n",
       "| 2022-01-02 | 2021 | 12 |  5 |      2 |     1 |\n",
       "\n"
      ],
      "text/plain": [
       "    X_c0       year month day events sessions\n",
       "1   2021-11-02 2021 12     3       2     1   \n",
       "2   2021-11-11 2021 12     2       2     1   \n",
       "3   2021-11-11 2021 12    10       2     1   \n",
       "4   2021-11-17 2021 11    23       2     1   \n",
       "5   2021-11-17 2021 11    27       1     1   \n",
       "6   2021-11-17 2021 12     4       4     1   \n",
       "7   2021-11-18 2021 12     3      17     1   \n",
       "8   2021-11-19 2021 11    25       2     1   \n",
       "9   2021-11-19 2021 11    29       4     2   \n",
       "10  2021-11-19 2021 12     2       1     1   \n",
       "11  2021-11-20 2021 11    24       2     1   \n",
       "12  2021-11-20 2021 12     1       3     1   \n",
       "13  2021-11-20 2021 12    13       2     1   \n",
       "14  2021-11-21 2021 11    23       2     1   \n",
       "15  2021-11-21 2021 11    27       3     1   \n",
       "16  2021-11-22 2021 11    30       2     1   \n",
       "17  2021-11-23 2021 11    25       6     5   \n",
       "18  2021-11-23 2021 11    29       2     1   \n",
       "19  2021-11-23 2021 12    10       2     1   \n",
       "20  2021-11-24 2021 11    24  252846 61831   \n",
       "21  2021-11-24 2021 11    28       6     4   \n",
       "22  2021-11-24 2021 12     5       1     1   \n",
       "23  2021-11-24 2021 12    13       1     1   \n",
       "24  2021-11-25 2021 11    27       4     3   \n",
       "25  2021-11-26 2021 11    26  251677 64301   \n",
       "26  2021-11-26 2021 12     3      10     2   \n",
       "27  2021-11-27 2021 11    29      65     4   \n",
       "28  2021-11-27 2021 12     2       2     1   \n",
       "29  2021-11-27 2021 12     6       2     1   \n",
       "30  2021-11-28 2021 11    24       1     1   \n",
       "⋮   ⋮          ⋮    ⋮     ⋮   ⋮      ⋮       \n",
       "261 2021-12-04 2021 12     6       5     3   \n",
       "262 2021-12-04 2021 12    10       1     1   \n",
       "263 2021-12-05 2021 12     5  302679 74680   \n",
       "264 2021-12-06 2021 12     8       3     2   \n",
       "265 2021-12-06 2021 12    12       2     1   \n",
       "266 2021-12-06 2021 12    16       2     1   \n",
       "267 2021-12-07 2021 12     7  312276 74212   \n",
       "268 2021-12-07 2021 12    15       2     1   \n",
       "269 2021-12-08 2021 12     6      60     2   \n",
       "270 2021-12-08 2021 12    10      11     4   \n",
       "271 2021-12-09 2021 12     5       6     1   \n",
       "272 2021-12-09 2021 12     9  321458 73965   \n",
       "273 2021-12-10 2021 12     8       2     1   \n",
       "274 2021-12-10 2021 12    12       8     4   \n",
       "275 2021-12-11 2021 12     3       1     1   \n",
       "276 2021-12-11 2021 12    11  280390 70652   \n",
       "277 2021-12-11 2021 12    15       4     3   \n",
       "278 2021-12-12 2021 12    10      49     2   \n",
       "279 2021-12-12 2021 12    14       2     2   \n",
       "280 2021-12-13 2021 12     9       4     2   \n",
       "281 2021-12-13 2021 12    13  314546 75724   \n",
       "282 2021-12-14 2021 12    12       1     1   \n",
       "283 2021-12-14 2021 12    16       1     1   \n",
       "284 2021-12-15 2021 12    15  300833 71457   \n",
       "285 2021-12-16 2021 12    14      15     2   \n",
       "286 2021-12-18 2021 12    12       3     2   \n",
       "287 2021-12-18 2021 12    16       3     2   \n",
       "288 2021-12-19 2021 12    15       2     1   \n",
       "289 2021-12-24 2021 11    25       2     1   \n",
       "290 2022-01-02 2021 12     5       2     1   "
      ]
     },
     "metadata": {},
     "output_type": "display_data"
    }
   ],
   "source": [
    "df"
   ]
  },
  {
   "cell_type": "markdown",
   "id": "ef1ae1da",
   "metadata": {},
   "source": [
    "__Note:__  \n",
    "\n",
    "The data in dt field doesn't match with the partition year, month day. It stored the date as early as 1986. It also stored future dates, in 2022, etc.\n",
    "\n"
   ]
  },
  {
   "cell_type": "markdown",
   "id": "e28f64c5",
   "metadata": {},
   "source": [
    "QAed on 12-20-2021"
   ]
  },
  {
   "cell_type": "markdown",
   "id": "211a3424",
   "metadata": {},
   "source": [
    "__Reason:__ \n",
    "\n",
    "In modern eventloggin platform dt has switched to meaning the time according to the client. So if someone, say, has the time on their phone set to 2008 or 2022, dt would reflect that. On the other hand, meta.dt (which is used to set the partition fields) is the time our server received the event, which would still be 2021. [ticket](https://phabricator.wikimedia.org/T292586#7581979)\n",
    "\n",
    "Work-around: query data using partitions or meta.dt instead of dt field"
   ]
  },
  {
   "cell_type": "code",
   "execution_count": 14,
   "id": "4dddea90",
   "metadata": {},
   "outputs": [],
   "source": [
    "query <- \n",
    "\"\n",
    "SELECT to_date(meta.dt) AS date_time, year, month,day, COUNT(1) AS events, \n",
    "COUNT(DISTINCT session_token) AS sessions\n",
    "FROM event.mediawiki_reading_depth\n",
    "WHERE year=2021\n",
    "GROUP BY to_date(meta.dt), year, month,day\n",
    "ORDER BY year, month,day\n",
    "LIMIT 100000\n",
    "\""
   ]
  },
  {
   "cell_type": "code",
   "execution_count": 15,
   "id": "92fefecf",
   "metadata": {},
   "outputs": [
    {
     "name": "stderr",
     "output_type": "stream",
     "text": [
      "Don't forget to authenticate with Kerberos using kinit\n",
      "\n"
     ]
    }
   ],
   "source": [
    "df <-  wmfdata::query_hive(query)"
   ]
  },
  {
   "cell_type": "code",
   "execution_count": 16,
   "id": "4603efa7",
   "metadata": {},
   "outputs": [
    {
     "data": {
      "text/html": [
       "<table class=\"dataframe\">\n",
       "<caption>A data.frame: 39 × 6</caption>\n",
       "<thead>\n",
       "\t<tr><th scope=col>date_time</th><th scope=col>year</th><th scope=col>month</th><th scope=col>day</th><th scope=col>events</th><th scope=col>sessions</th></tr>\n",
       "\t<tr><th scope=col>&lt;chr&gt;</th><th scope=col>&lt;int&gt;</th><th scope=col>&lt;int&gt;</th><th scope=col>&lt;int&gt;</th><th scope=col>&lt;int&gt;</th><th scope=col>&lt;int&gt;</th></tr>\n",
       "</thead>\n",
       "<tbody>\n",
       "\t<tr><td>2021-11-23</td><td>2021</td><td>11</td><td>23</td><td> 67851</td><td>16819</td></tr>\n",
       "\t<tr><td>2021-11-24</td><td>2021</td><td>11</td><td>24</td><td>253034</td><td>61902</td></tr>\n",
       "\t<tr><td>2021-11-25</td><td>2021</td><td>11</td><td>25</td><td>256473</td><td>64688</td></tr>\n",
       "\t<tr><td>2021-11-26</td><td>2021</td><td>11</td><td>26</td><td>252048</td><td>64375</td></tr>\n",
       "\t<tr><td>2021-11-27</td><td>2021</td><td>11</td><td>27</td><td>283098</td><td>70795</td></tr>\n",
       "\t<tr><td>2021-11-28</td><td>2021</td><td>11</td><td>28</td><td>305501</td><td>74499</td></tr>\n",
       "\t<tr><td>2021-11-29</td><td>2021</td><td>11</td><td>29</td><td>301952</td><td>74162</td></tr>\n",
       "\t<tr><td>2021-11-30</td><td>2021</td><td>11</td><td>30</td><td>309143</td><td>75005</td></tr>\n",
       "\t<tr><td>2021-12-01</td><td>2021</td><td>12</td><td> 1</td><td>305327</td><td>72637</td></tr>\n",
       "\t<tr><td>2021-12-02</td><td>2021</td><td>12</td><td> 2</td><td>295856</td><td>72881</td></tr>\n",
       "\t<tr><td>2021-12-03</td><td>2021</td><td>12</td><td> 3</td><td>287434</td><td>70782</td></tr>\n",
       "\t<tr><td>2021-12-04</td><td>2021</td><td>12</td><td> 4</td><td>277437</td><td>69973</td></tr>\n",
       "\t<tr><td>2021-12-05</td><td>2021</td><td>12</td><td> 5</td><td>303053</td><td>74778</td></tr>\n",
       "\t<tr><td>2021-12-06</td><td>2021</td><td>12</td><td> 6</td><td>321160</td><td>75728</td></tr>\n",
       "\t<tr><td>2021-12-07</td><td>2021</td><td>12</td><td> 7</td><td>312676</td><td>74312</td></tr>\n",
       "\t<tr><td>2021-12-08</td><td>2021</td><td>12</td><td> 8</td><td>318724</td><td>74299</td></tr>\n",
       "\t<tr><td>2021-12-09</td><td>2021</td><td>12</td><td> 9</td><td>321843</td><td>74066</td></tr>\n",
       "\t<tr><td>2021-12-10</td><td>2021</td><td>12</td><td>10</td><td>292020</td><td>72921</td></tr>\n",
       "\t<tr><td>2021-12-11</td><td>2021</td><td>12</td><td>11</td><td>280674</td><td>70717</td></tr>\n",
       "\t<tr><td>2021-12-12</td><td>2021</td><td>12</td><td>12</td><td>306898</td><td>75511</td></tr>\n",
       "\t<tr><td>2021-12-13</td><td>2021</td><td>12</td><td>13</td><td>315016</td><td>75817</td></tr>\n",
       "\t<tr><td>2021-12-14</td><td>2021</td><td>12</td><td>14</td><td>296164</td><td>72306</td></tr>\n",
       "\t<tr><td>2021-12-15</td><td>2021</td><td>12</td><td>15</td><td>301287</td><td>71549</td></tr>\n",
       "\t<tr><td>2021-12-16</td><td>2021</td><td>12</td><td>16</td><td>291742</td><td>70610</td></tr>\n",
       "\t<tr><td>2021-12-17</td><td>2021</td><td>12</td><td>17</td><td>272602</td><td>68248</td></tr>\n",
       "\t<tr><td>2021-12-18</td><td>2021</td><td>12</td><td>18</td><td>280014</td><td>67660</td></tr>\n",
       "\t<tr><td>2021-12-19</td><td>2021</td><td>12</td><td>19</td><td>296141</td><td>72523</td></tr>\n",
       "\t<tr><td>2021-12-20</td><td>2021</td><td>12</td><td>20</td><td>291871</td><td>70618</td></tr>\n",
       "\t<tr><td>2021-12-21</td><td>2021</td><td>12</td><td>21</td><td>277117</td><td>68517</td></tr>\n",
       "\t<tr><td>2021-12-22</td><td>2021</td><td>12</td><td>22</td><td>282257</td><td>68079</td></tr>\n",
       "\t<tr><td>2021-12-23</td><td>2021</td><td>12</td><td>23</td><td>278053</td><td>67343</td></tr>\n",
       "\t<tr><td>2021-12-24</td><td>2021</td><td>12</td><td>24</td><td>263182</td><td>68399</td></tr>\n",
       "\t<tr><td>2021-12-25</td><td>2021</td><td>12</td><td>25</td><td>288347</td><td>73221</td></tr>\n",
       "\t<tr><td>2021-12-26</td><td>2021</td><td>12</td><td>26</td><td>310079</td><td>75155</td></tr>\n",
       "\t<tr><td>2021-12-27</td><td>2021</td><td>12</td><td>27</td><td>318410</td><td>75643</td></tr>\n",
       "\t<tr><td>2021-12-28</td><td>2021</td><td>12</td><td>28</td><td>312843</td><td>74224</td></tr>\n",
       "\t<tr><td>2021-12-29</td><td>2021</td><td>12</td><td>29</td><td>315159</td><td>75276</td></tr>\n",
       "\t<tr><td>2021-12-30</td><td>2021</td><td>12</td><td>30</td><td>302522</td><td>73586</td></tr>\n",
       "\t<tr><td>2021-12-31</td><td>2021</td><td>12</td><td>31</td><td>295294</td><td>73211</td></tr>\n",
       "</tbody>\n",
       "</table>\n"
      ],
      "text/latex": [
       "A data.frame: 39 × 6\n",
       "\\begin{tabular}{llllll}\n",
       " date\\_time & year & month & day & events & sessions\\\\\n",
       " <chr> & <int> & <int> & <int> & <int> & <int>\\\\\n",
       "\\hline\n",
       "\t 2021-11-23 & 2021 & 11 & 23 &  67851 & 16819\\\\\n",
       "\t 2021-11-24 & 2021 & 11 & 24 & 253034 & 61902\\\\\n",
       "\t 2021-11-25 & 2021 & 11 & 25 & 256473 & 64688\\\\\n",
       "\t 2021-11-26 & 2021 & 11 & 26 & 252048 & 64375\\\\\n",
       "\t 2021-11-27 & 2021 & 11 & 27 & 283098 & 70795\\\\\n",
       "\t 2021-11-28 & 2021 & 11 & 28 & 305501 & 74499\\\\\n",
       "\t 2021-11-29 & 2021 & 11 & 29 & 301952 & 74162\\\\\n",
       "\t 2021-11-30 & 2021 & 11 & 30 & 309143 & 75005\\\\\n",
       "\t 2021-12-01 & 2021 & 12 &  1 & 305327 & 72637\\\\\n",
       "\t 2021-12-02 & 2021 & 12 &  2 & 295856 & 72881\\\\\n",
       "\t 2021-12-03 & 2021 & 12 &  3 & 287434 & 70782\\\\\n",
       "\t 2021-12-04 & 2021 & 12 &  4 & 277437 & 69973\\\\\n",
       "\t 2021-12-05 & 2021 & 12 &  5 & 303053 & 74778\\\\\n",
       "\t 2021-12-06 & 2021 & 12 &  6 & 321160 & 75728\\\\\n",
       "\t 2021-12-07 & 2021 & 12 &  7 & 312676 & 74312\\\\\n",
       "\t 2021-12-08 & 2021 & 12 &  8 & 318724 & 74299\\\\\n",
       "\t 2021-12-09 & 2021 & 12 &  9 & 321843 & 74066\\\\\n",
       "\t 2021-12-10 & 2021 & 12 & 10 & 292020 & 72921\\\\\n",
       "\t 2021-12-11 & 2021 & 12 & 11 & 280674 & 70717\\\\\n",
       "\t 2021-12-12 & 2021 & 12 & 12 & 306898 & 75511\\\\\n",
       "\t 2021-12-13 & 2021 & 12 & 13 & 315016 & 75817\\\\\n",
       "\t 2021-12-14 & 2021 & 12 & 14 & 296164 & 72306\\\\\n",
       "\t 2021-12-15 & 2021 & 12 & 15 & 301287 & 71549\\\\\n",
       "\t 2021-12-16 & 2021 & 12 & 16 & 291742 & 70610\\\\\n",
       "\t 2021-12-17 & 2021 & 12 & 17 & 272602 & 68248\\\\\n",
       "\t 2021-12-18 & 2021 & 12 & 18 & 280014 & 67660\\\\\n",
       "\t 2021-12-19 & 2021 & 12 & 19 & 296141 & 72523\\\\\n",
       "\t 2021-12-20 & 2021 & 12 & 20 & 291871 & 70618\\\\\n",
       "\t 2021-12-21 & 2021 & 12 & 21 & 277117 & 68517\\\\\n",
       "\t 2021-12-22 & 2021 & 12 & 22 & 282257 & 68079\\\\\n",
       "\t 2021-12-23 & 2021 & 12 & 23 & 278053 & 67343\\\\\n",
       "\t 2021-12-24 & 2021 & 12 & 24 & 263182 & 68399\\\\\n",
       "\t 2021-12-25 & 2021 & 12 & 25 & 288347 & 73221\\\\\n",
       "\t 2021-12-26 & 2021 & 12 & 26 & 310079 & 75155\\\\\n",
       "\t 2021-12-27 & 2021 & 12 & 27 & 318410 & 75643\\\\\n",
       "\t 2021-12-28 & 2021 & 12 & 28 & 312843 & 74224\\\\\n",
       "\t 2021-12-29 & 2021 & 12 & 29 & 315159 & 75276\\\\\n",
       "\t 2021-12-30 & 2021 & 12 & 30 & 302522 & 73586\\\\\n",
       "\t 2021-12-31 & 2021 & 12 & 31 & 295294 & 73211\\\\\n",
       "\\end{tabular}\n"
      ],
      "text/markdown": [
       "\n",
       "A data.frame: 39 × 6\n",
       "\n",
       "| date_time &lt;chr&gt; | year &lt;int&gt; | month &lt;int&gt; | day &lt;int&gt; | events &lt;int&gt; | sessions &lt;int&gt; |\n",
       "|---|---|---|---|---|---|\n",
       "| 2021-11-23 | 2021 | 11 | 23 |  67851 | 16819 |\n",
       "| 2021-11-24 | 2021 | 11 | 24 | 253034 | 61902 |\n",
       "| 2021-11-25 | 2021 | 11 | 25 | 256473 | 64688 |\n",
       "| 2021-11-26 | 2021 | 11 | 26 | 252048 | 64375 |\n",
       "| 2021-11-27 | 2021 | 11 | 27 | 283098 | 70795 |\n",
       "| 2021-11-28 | 2021 | 11 | 28 | 305501 | 74499 |\n",
       "| 2021-11-29 | 2021 | 11 | 29 | 301952 | 74162 |\n",
       "| 2021-11-30 | 2021 | 11 | 30 | 309143 | 75005 |\n",
       "| 2021-12-01 | 2021 | 12 |  1 | 305327 | 72637 |\n",
       "| 2021-12-02 | 2021 | 12 |  2 | 295856 | 72881 |\n",
       "| 2021-12-03 | 2021 | 12 |  3 | 287434 | 70782 |\n",
       "| 2021-12-04 | 2021 | 12 |  4 | 277437 | 69973 |\n",
       "| 2021-12-05 | 2021 | 12 |  5 | 303053 | 74778 |\n",
       "| 2021-12-06 | 2021 | 12 |  6 | 321160 | 75728 |\n",
       "| 2021-12-07 | 2021 | 12 |  7 | 312676 | 74312 |\n",
       "| 2021-12-08 | 2021 | 12 |  8 | 318724 | 74299 |\n",
       "| 2021-12-09 | 2021 | 12 |  9 | 321843 | 74066 |\n",
       "| 2021-12-10 | 2021 | 12 | 10 | 292020 | 72921 |\n",
       "| 2021-12-11 | 2021 | 12 | 11 | 280674 | 70717 |\n",
       "| 2021-12-12 | 2021 | 12 | 12 | 306898 | 75511 |\n",
       "| 2021-12-13 | 2021 | 12 | 13 | 315016 | 75817 |\n",
       "| 2021-12-14 | 2021 | 12 | 14 | 296164 | 72306 |\n",
       "| 2021-12-15 | 2021 | 12 | 15 | 301287 | 71549 |\n",
       "| 2021-12-16 | 2021 | 12 | 16 | 291742 | 70610 |\n",
       "| 2021-12-17 | 2021 | 12 | 17 | 272602 | 68248 |\n",
       "| 2021-12-18 | 2021 | 12 | 18 | 280014 | 67660 |\n",
       "| 2021-12-19 | 2021 | 12 | 19 | 296141 | 72523 |\n",
       "| 2021-12-20 | 2021 | 12 | 20 | 291871 | 70618 |\n",
       "| 2021-12-21 | 2021 | 12 | 21 | 277117 | 68517 |\n",
       "| 2021-12-22 | 2021 | 12 | 22 | 282257 | 68079 |\n",
       "| 2021-12-23 | 2021 | 12 | 23 | 278053 | 67343 |\n",
       "| 2021-12-24 | 2021 | 12 | 24 | 263182 | 68399 |\n",
       "| 2021-12-25 | 2021 | 12 | 25 | 288347 | 73221 |\n",
       "| 2021-12-26 | 2021 | 12 | 26 | 310079 | 75155 |\n",
       "| 2021-12-27 | 2021 | 12 | 27 | 318410 | 75643 |\n",
       "| 2021-12-28 | 2021 | 12 | 28 | 312843 | 74224 |\n",
       "| 2021-12-29 | 2021 | 12 | 29 | 315159 | 75276 |\n",
       "| 2021-12-30 | 2021 | 12 | 30 | 302522 | 73586 |\n",
       "| 2021-12-31 | 2021 | 12 | 31 | 295294 | 73211 |\n",
       "\n"
      ],
      "text/plain": [
       "   date_time  year month day events sessions\n",
       "1  2021-11-23 2021 11    23   67851 16819   \n",
       "2  2021-11-24 2021 11    24  253034 61902   \n",
       "3  2021-11-25 2021 11    25  256473 64688   \n",
       "4  2021-11-26 2021 11    26  252048 64375   \n",
       "5  2021-11-27 2021 11    27  283098 70795   \n",
       "6  2021-11-28 2021 11    28  305501 74499   \n",
       "7  2021-11-29 2021 11    29  301952 74162   \n",
       "8  2021-11-30 2021 11    30  309143 75005   \n",
       "9  2021-12-01 2021 12     1  305327 72637   \n",
       "10 2021-12-02 2021 12     2  295856 72881   \n",
       "11 2021-12-03 2021 12     3  287434 70782   \n",
       "12 2021-12-04 2021 12     4  277437 69973   \n",
       "13 2021-12-05 2021 12     5  303053 74778   \n",
       "14 2021-12-06 2021 12     6  321160 75728   \n",
       "15 2021-12-07 2021 12     7  312676 74312   \n",
       "16 2021-12-08 2021 12     8  318724 74299   \n",
       "17 2021-12-09 2021 12     9  321843 74066   \n",
       "18 2021-12-10 2021 12    10  292020 72921   \n",
       "19 2021-12-11 2021 12    11  280674 70717   \n",
       "20 2021-12-12 2021 12    12  306898 75511   \n",
       "21 2021-12-13 2021 12    13  315016 75817   \n",
       "22 2021-12-14 2021 12    14  296164 72306   \n",
       "23 2021-12-15 2021 12    15  301287 71549   \n",
       "24 2021-12-16 2021 12    16  291742 70610   \n",
       "25 2021-12-17 2021 12    17  272602 68248   \n",
       "26 2021-12-18 2021 12    18  280014 67660   \n",
       "27 2021-12-19 2021 12    19  296141 72523   \n",
       "28 2021-12-20 2021 12    20  291871 70618   \n",
       "29 2021-12-21 2021 12    21  277117 68517   \n",
       "30 2021-12-22 2021 12    22  282257 68079   \n",
       "31 2021-12-23 2021 12    23  278053 67343   \n",
       "32 2021-12-24 2021 12    24  263182 68399   \n",
       "33 2021-12-25 2021 12    25  288347 73221   \n",
       "34 2021-12-26 2021 12    26  310079 75155   \n",
       "35 2021-12-27 2021 12    27  318410 75643   \n",
       "36 2021-12-28 2021 12    28  312843 74224   \n",
       "37 2021-12-29 2021 12    29  315159 75276   \n",
       "38 2021-12-30 2021 12    30  302522 73586   \n",
       "39 2021-12-31 2021 12    31  295294 73211   "
      ]
     },
     "metadata": {},
     "output_type": "display_data"
    }
   ],
   "source": [
    "df"
   ]
  },
  {
   "cell_type": "markdown",
   "id": "bd1db432",
   "metadata": {},
   "source": [
    "__Note:__  \n",
    "Events are avaiable sicne 2021-11-23"
   ]
  },
  {
   "cell_type": "markdown",
   "id": "c515bbfd",
   "metadata": {},
   "source": [
    "# By wiki"
   ]
  },
  {
   "cell_type": "code",
   "execution_count": 17,
   "id": "3d7967e1",
   "metadata": {},
   "outputs": [],
   "source": [
    "query <- \n",
    "\"\n",
    "SELECT meta.domain, COUNT(1) AS events, \n",
    "COUNT(DISTINCT session_token) AS sessions\n",
    "FROM event.mediawiki_reading_depth\n",
    "WHERE year=2021\n",
    "GROUP BY meta.domain\n",
    "ORDER BY meta.domain\n",
    "LIMIT 100000\n",
    "\""
   ]
  },
  {
   "cell_type": "code",
   "execution_count": 19,
   "id": "5febf31f",
   "metadata": {},
   "outputs": [
    {
     "name": "stderr",
     "output_type": "stream",
     "text": [
      "Don't forget to authenticate with Kerberos using kinit\n",
      "\n"
     ]
    }
   ],
   "source": [
    "df <- wmfdata::query_hive(query)"
   ]
  },
  {
   "cell_type": "code",
   "execution_count": 20,
   "id": "7a73d348",
   "metadata": {},
   "outputs": [
    {
     "data": {
      "text/html": [
       "<table class=\"dataframe\">\n",
       "<caption>A data.frame: 12 × 3</caption>\n",
       "<thead>\n",
       "\t<tr><th scope=col>domain</th><th scope=col>events</th><th scope=col>sessions</th></tr>\n",
       "\t<tr><th scope=col>&lt;chr&gt;</th><th scope=col>&lt;int&gt;</th><th scope=col>&lt;int&gt;</th></tr>\n",
       "</thead>\n",
       "<tbody>\n",
       "\t<tr><td>en.jinzhao.wiki                     </td><td>     245</td><td>     18</td></tr>\n",
       "\t<tr><td>en.turkcewiki.org                   </td><td>       4</td><td>      2</td></tr>\n",
       "\t<tr><td>en.wiki.hancel.org                  </td><td>    1197</td><td>      8</td></tr>\n",
       "\t<tr><td>en.wikidark.org                     </td><td>       2</td><td>      1</td></tr>\n",
       "\t<tr><td>en.wikipedia.ahau.cf                </td><td>      10</td><td>      2</td></tr>\n",
       "\t<tr><td>en.wikipedia.ahmu.cf                </td><td>    2934</td><td>      1</td></tr>\n",
       "\t<tr><td>en.wikipedia.ahut.cf                </td><td>       8</td><td>      1</td></tr>\n",
       "\t<tr><td>en.wikipedia.hfut.cf                </td><td>       6</td><td>      2</td></tr>\n",
       "\t<tr><td>en.wikipedia.iwiki.eu.org           </td><td>      14</td><td>      6</td></tr>\n",
       "\t<tr><td>en.wikipedia.iwiki.uk               </td><td>      43</td><td>      9</td></tr>\n",
       "\t<tr><td>en.wikipedia.org                    </td><td>11235815</td><td>2511379</td></tr>\n",
       "\t<tr><td>en.wikipedia.xn--3js309f.xn--kpry57d</td><td>      24</td><td>      4</td></tr>\n",
       "</tbody>\n",
       "</table>\n"
      ],
      "text/latex": [
       "A data.frame: 12 × 3\n",
       "\\begin{tabular}{lll}\n",
       " domain & events & sessions\\\\\n",
       " <chr> & <int> & <int>\\\\\n",
       "\\hline\n",
       "\t en.jinzhao.wiki                      &      245 &      18\\\\\n",
       "\t en.turkcewiki.org                    &        4 &       2\\\\\n",
       "\t en.wiki.hancel.org                   &     1197 &       8\\\\\n",
       "\t en.wikidark.org                      &        2 &       1\\\\\n",
       "\t en.wikipedia.ahau.cf                 &       10 &       2\\\\\n",
       "\t en.wikipedia.ahmu.cf                 &     2934 &       1\\\\\n",
       "\t en.wikipedia.ahut.cf                 &        8 &       1\\\\\n",
       "\t en.wikipedia.hfut.cf                 &        6 &       2\\\\\n",
       "\t en.wikipedia.iwiki.eu.org            &       14 &       6\\\\\n",
       "\t en.wikipedia.iwiki.uk                &       43 &       9\\\\\n",
       "\t en.wikipedia.org                     & 11235815 & 2511379\\\\\n",
       "\t en.wikipedia.xn--3js309f.xn--kpry57d &       24 &       4\\\\\n",
       "\\end{tabular}\n"
      ],
      "text/markdown": [
       "\n",
       "A data.frame: 12 × 3\n",
       "\n",
       "| domain &lt;chr&gt; | events &lt;int&gt; | sessions &lt;int&gt; |\n",
       "|---|---|---|\n",
       "| en.jinzhao.wiki                      |      245 |      18 |\n",
       "| en.turkcewiki.org                    |        4 |       2 |\n",
       "| en.wiki.hancel.org                   |     1197 |       8 |\n",
       "| en.wikidark.org                      |        2 |       1 |\n",
       "| en.wikipedia.ahau.cf                 |       10 |       2 |\n",
       "| en.wikipedia.ahmu.cf                 |     2934 |       1 |\n",
       "| en.wikipedia.ahut.cf                 |        8 |       1 |\n",
       "| en.wikipedia.hfut.cf                 |        6 |       2 |\n",
       "| en.wikipedia.iwiki.eu.org            |       14 |       6 |\n",
       "| en.wikipedia.iwiki.uk                |       43 |       9 |\n",
       "| en.wikipedia.org                     | 11235815 | 2511379 |\n",
       "| en.wikipedia.xn--3js309f.xn--kpry57d |       24 |       4 |\n",
       "\n"
      ],
      "text/plain": [
       "   domain                               events   sessions\n",
       "1  en.jinzhao.wiki                           245      18 \n",
       "2  en.turkcewiki.org                           4       2 \n",
       "3  en.wiki.hancel.org                       1197       8 \n",
       "4  en.wikidark.org                             2       1 \n",
       "5  en.wikipedia.ahau.cf                       10       2 \n",
       "6  en.wikipedia.ahmu.cf                     2934       1 \n",
       "7  en.wikipedia.ahut.cf                        8       1 \n",
       "8  en.wikipedia.hfut.cf                        6       2 \n",
       "9  en.wikipedia.iwiki.eu.org                  14       6 \n",
       "10 en.wikipedia.iwiki.uk                      43       9 \n",
       "11 en.wikipedia.org                     11235815 2511379 \n",
       "12 en.wikipedia.xn--3js309f.xn--kpry57d       24       4 "
      ]
     },
     "metadata": {},
     "output_type": "display_data"
    }
   ],
   "source": [
    "df"
   ]
  },
  {
   "cell_type": "markdown",
   "id": "372365e5",
   "metadata": {},
   "source": [
    "__Note:__  \n",
    "Only enabled on English wikipedia"
   ]
  },
  {
   "cell_type": "markdown",
   "id": "e1e8ce7b",
   "metadata": {},
   "source": [
    "# By namespace"
   ]
  },
  {
   "cell_type": "code",
   "execution_count": 21,
   "id": "3d932e1c",
   "metadata": {},
   "outputs": [],
   "source": [
    "\n",
    "query <- \n",
    "\"\n",
    "SELECT page_namespace, COUNT(1) AS events, \n",
    "COUNT(DISTINCT session_token) AS sessions\n",
    "FROM event.mediawiki_reading_depth\n",
    "WHERE year=2021\n",
    "GROUP BY page_namespace\n",
    "ORDER BY page_namespace\n",
    "LIMIT 100000\n",
    "\"\n"
   ]
  },
  {
   "cell_type": "code",
   "execution_count": 22,
   "id": "155ff2f7",
   "metadata": {},
   "outputs": [
    {
     "name": "stderr",
     "output_type": "stream",
     "text": [
      "Don't forget to authenticate with Kerberos using kinit\n",
      "\n"
     ]
    }
   ],
   "source": [
    "df <- wmfdata::query_hive(query)"
   ]
  },
  {
   "cell_type": "code",
   "execution_count": 23,
   "id": "234b502f",
   "metadata": {},
   "outputs": [
    {
     "data": {
      "text/html": [
       "<table class=\"dataframe\">\n",
       "<caption>A data.frame: 25 × 3</caption>\n",
       "<thead>\n",
       "\t<tr><th scope=col>page_namespace</th><th scope=col>events</th><th scope=col>sessions</th></tr>\n",
       "\t<tr><th scope=col>&lt;int&gt;</th><th scope=col>&lt;int&gt;</th><th scope=col>&lt;int&gt;</th></tr>\n",
       "</thead>\n",
       "<tbody>\n",
       "\t<tr><td> -1</td><td>  109583</td><td>  22327</td></tr>\n",
       "\t<tr><td>  0</td><td>10910210</td><td>2499386</td></tr>\n",
       "\t<tr><td>  1</td><td>   15535</td><td>   6217</td></tr>\n",
       "\t<tr><td>  2</td><td>    7708</td><td>   1352</td></tr>\n",
       "\t<tr><td>  3</td><td>    3959</td><td>    449</td></tr>\n",
       "\t<tr><td>  4</td><td>   19451</td><td>   5376</td></tr>\n",
       "\t<tr><td>  5</td><td>     487</td><td>    115</td></tr>\n",
       "\t<tr><td>  6</td><td>   30640</td><td>  11024</td></tr>\n",
       "\t<tr><td>  7</td><td>     121</td><td>     61</td></tr>\n",
       "\t<tr><td>  8</td><td>     290</td><td>      6</td></tr>\n",
       "\t<tr><td>  9</td><td>      16</td><td>      2</td></tr>\n",
       "\t<tr><td> 10</td><td>    4353</td><td>   1184</td></tr>\n",
       "\t<tr><td> 11</td><td>     143</td><td>     51</td></tr>\n",
       "\t<tr><td> 12</td><td>    6076</td><td>   2257</td></tr>\n",
       "\t<tr><td> 13</td><td>      71</td><td>     34</td></tr>\n",
       "\t<tr><td> 14</td><td>  123296</td><td>  11288</td></tr>\n",
       "\t<tr><td> 15</td><td>     107</td><td>     31</td></tr>\n",
       "\t<tr><td>100</td><td>    6888</td><td>   2273</td></tr>\n",
       "\t<tr><td>101</td><td>      21</td><td>      4</td></tr>\n",
       "\t<tr><td>118</td><td>    1259</td><td>    140</td></tr>\n",
       "\t<tr><td>119</td><td>      31</td><td>     10</td></tr>\n",
       "\t<tr><td>710</td><td>      26</td><td>     15</td></tr>\n",
       "\t<tr><td>711</td><td>       1</td><td>      1</td></tr>\n",
       "\t<tr><td>828</td><td>      27</td><td>     15</td></tr>\n",
       "\t<tr><td>829</td><td>       3</td><td>      1</td></tr>\n",
       "</tbody>\n",
       "</table>\n"
      ],
      "text/latex": [
       "A data.frame: 25 × 3\n",
       "\\begin{tabular}{lll}\n",
       " page\\_namespace & events & sessions\\\\\n",
       " <int> & <int> & <int>\\\\\n",
       "\\hline\n",
       "\t  -1 &   109583 &   22327\\\\\n",
       "\t   0 & 10910210 & 2499386\\\\\n",
       "\t   1 &    15535 &    6217\\\\\n",
       "\t   2 &     7708 &    1352\\\\\n",
       "\t   3 &     3959 &     449\\\\\n",
       "\t   4 &    19451 &    5376\\\\\n",
       "\t   5 &      487 &     115\\\\\n",
       "\t   6 &    30640 &   11024\\\\\n",
       "\t   7 &      121 &      61\\\\\n",
       "\t   8 &      290 &       6\\\\\n",
       "\t   9 &       16 &       2\\\\\n",
       "\t  10 &     4353 &    1184\\\\\n",
       "\t  11 &      143 &      51\\\\\n",
       "\t  12 &     6076 &    2257\\\\\n",
       "\t  13 &       71 &      34\\\\\n",
       "\t  14 &   123296 &   11288\\\\\n",
       "\t  15 &      107 &      31\\\\\n",
       "\t 100 &     6888 &    2273\\\\\n",
       "\t 101 &       21 &       4\\\\\n",
       "\t 118 &     1259 &     140\\\\\n",
       "\t 119 &       31 &      10\\\\\n",
       "\t 710 &       26 &      15\\\\\n",
       "\t 711 &        1 &       1\\\\\n",
       "\t 828 &       27 &      15\\\\\n",
       "\t 829 &        3 &       1\\\\\n",
       "\\end{tabular}\n"
      ],
      "text/markdown": [
       "\n",
       "A data.frame: 25 × 3\n",
       "\n",
       "| page_namespace &lt;int&gt; | events &lt;int&gt; | sessions &lt;int&gt; |\n",
       "|---|---|---|\n",
       "|  -1 |   109583 |   22327 |\n",
       "|   0 | 10910210 | 2499386 |\n",
       "|   1 |    15535 |    6217 |\n",
       "|   2 |     7708 |    1352 |\n",
       "|   3 |     3959 |     449 |\n",
       "|   4 |    19451 |    5376 |\n",
       "|   5 |      487 |     115 |\n",
       "|   6 |    30640 |   11024 |\n",
       "|   7 |      121 |      61 |\n",
       "|   8 |      290 |       6 |\n",
       "|   9 |       16 |       2 |\n",
       "|  10 |     4353 |    1184 |\n",
       "|  11 |      143 |      51 |\n",
       "|  12 |     6076 |    2257 |\n",
       "|  13 |       71 |      34 |\n",
       "|  14 |   123296 |   11288 |\n",
       "|  15 |      107 |      31 |\n",
       "| 100 |     6888 |    2273 |\n",
       "| 101 |       21 |       4 |\n",
       "| 118 |     1259 |     140 |\n",
       "| 119 |       31 |      10 |\n",
       "| 710 |       26 |      15 |\n",
       "| 711 |        1 |       1 |\n",
       "| 828 |       27 |      15 |\n",
       "| 829 |        3 |       1 |\n",
       "\n"
      ],
      "text/plain": [
       "   page_namespace events   sessions\n",
       "1   -1              109583   22327 \n",
       "2    0            10910210 2499386 \n",
       "3    1               15535    6217 \n",
       "4    2                7708    1352 \n",
       "5    3                3959     449 \n",
       "6    4               19451    5376 \n",
       "7    5                 487     115 \n",
       "8    6               30640   11024 \n",
       "9    7                 121      61 \n",
       "10   8                 290       6 \n",
       "11   9                  16       2 \n",
       "12  10                4353    1184 \n",
       "13  11                 143      51 \n",
       "14  12                6076    2257 \n",
       "15  13                  71      34 \n",
       "16  14              123296   11288 \n",
       "17  15                 107      31 \n",
       "18 100                6888    2273 \n",
       "19 101                  21       4 \n",
       "20 118                1259     140 \n",
       "21 119                  31      10 \n",
       "22 710                  26      15 \n",
       "23 711                   1       1 \n",
       "24 828                  27      15 \n",
       "25 829                   3       1 "
      ]
     },
     "metadata": {},
     "output_type": "display_data"
    }
   ],
   "source": [
    "df"
   ]
  },
  {
   "cell_type": "markdown",
   "id": "098161ca",
   "metadata": {},
   "source": [
    "# BY user type: anonymous users and logged-in users"
   ]
  },
  {
   "cell_type": "code",
   "execution_count": 26,
   "id": "420e723a",
   "metadata": {},
   "outputs": [],
   "source": [
    "query <- \n",
    "\"\n",
    "SELECT is_anon, COUNT(1) AS events, \n",
    "COUNT(DISTINCT session_token) AS sessions\n",
    "FROM event.mediawiki_reading_depth\n",
    "WHERE year=2021\n",
    "GROUP BY is_anon\n",
    "LIMIT 100000\n",
    "\"\n"
   ]
  },
  {
   "cell_type": "code",
   "execution_count": 27,
   "id": "f6216d54",
   "metadata": {},
   "outputs": [
    {
     "name": "stderr",
     "output_type": "stream",
     "text": [
      "Don't forget to authenticate with Kerberos using kinit\n",
      "\n"
     ]
    }
   ],
   "source": [
    "df <- wmfdata::query_hive(query)"
   ]
  },
  {
   "cell_type": "code",
   "execution_count": 28,
   "id": "071a6d78",
   "metadata": {},
   "outputs": [
    {
     "data": {
      "text/html": [
       "<table class=\"dataframe\">\n",
       "<caption>A data.frame: 2 × 3</caption>\n",
       "<thead>\n",
       "\t<tr><th scope=col>is_anon</th><th scope=col>events</th><th scope=col>sessions</th></tr>\n",
       "\t<tr><th scope=col>&lt;chr&gt;</th><th scope=col>&lt;int&gt;</th><th scope=col>&lt;int&gt;</th></tr>\n",
       "</thead>\n",
       "<tbody>\n",
       "\t<tr><td>false</td><td>  150123</td><td>   6825</td></tr>\n",
       "\t<tr><td>true </td><td>11090179</td><td>2505231</td></tr>\n",
       "</tbody>\n",
       "</table>\n"
      ],
      "text/latex": [
       "A data.frame: 2 × 3\n",
       "\\begin{tabular}{lll}\n",
       " is\\_anon & events & sessions\\\\\n",
       " <chr> & <int> & <int>\\\\\n",
       "\\hline\n",
       "\t false &   150123 &    6825\\\\\n",
       "\t true  & 11090179 & 2505231\\\\\n",
       "\\end{tabular}\n"
      ],
      "text/markdown": [
       "\n",
       "A data.frame: 2 × 3\n",
       "\n",
       "| is_anon &lt;chr&gt; | events &lt;int&gt; | sessions &lt;int&gt; |\n",
       "|---|---|---|\n",
       "| false |   150123 |    6825 |\n",
       "| true  | 11090179 | 2505231 |\n",
       "\n"
      ],
      "text/plain": [
       "  is_anon events   sessions\n",
       "1 false     150123    6825 \n",
       "2 true    11090179 2505231 "
      ]
     },
     "metadata": {},
     "output_type": "display_data"
    }
   ],
   "source": [
    "df\n"
   ]
  },
  {
   "cell_type": "markdown",
   "id": "5f2b6b34",
   "metadata": {},
   "source": [
    "# By action"
   ]
  },
  {
   "cell_type": "code",
   "execution_count": 29,
   "id": "120373f2",
   "metadata": {},
   "outputs": [],
   "source": [
    "\n",
    "query <- \n",
    "\"\n",
    "SELECT action, COUNT(1) AS events, \n",
    "COUNT(DISTINCT session_token) AS sessions\n",
    "FROM event.mediawiki_reading_depth\n",
    "WHERE year=2021\n",
    "GROUP BY action\n",
    "LIMIT 100000\n",
    "\"\n"
   ]
  },
  {
   "cell_type": "code",
   "execution_count": 30,
   "id": "81a084a4",
   "metadata": {},
   "outputs": [
    {
     "name": "stderr",
     "output_type": "stream",
     "text": [
      "Don't forget to authenticate with Kerberos using kinit\n",
      "\n"
     ]
    }
   ],
   "source": [
    "df <- wmfdata::query_hive(query)"
   ]
  },
  {
   "cell_type": "code",
   "execution_count": 31,
   "id": "0a4e2664",
   "metadata": {},
   "outputs": [
    {
     "data": {
      "text/html": [
       "<table class=\"dataframe\">\n",
       "<caption>A data.frame: 2 × 3</caption>\n",
       "<thead>\n",
       "\t<tr><th scope=col>action</th><th scope=col>events</th><th scope=col>sessions</th></tr>\n",
       "\t<tr><th scope=col>&lt;chr&gt;</th><th scope=col>&lt;int&gt;</th><th scope=col>&lt;int&gt;</th></tr>\n",
       "</thead>\n",
       "<tbody>\n",
       "\t<tr><td>pageLoaded  </td><td>7230343</td><td>2507202</td></tr>\n",
       "\t<tr><td>pageUnloaded</td><td>4009959</td><td> 961392</td></tr>\n",
       "</tbody>\n",
       "</table>\n"
      ],
      "text/latex": [
       "A data.frame: 2 × 3\n",
       "\\begin{tabular}{lll}\n",
       " action & events & sessions\\\\\n",
       " <chr> & <int> & <int>\\\\\n",
       "\\hline\n",
       "\t pageLoaded   & 7230343 & 2507202\\\\\n",
       "\t pageUnloaded & 4009959 &  961392\\\\\n",
       "\\end{tabular}\n"
      ],
      "text/markdown": [
       "\n",
       "A data.frame: 2 × 3\n",
       "\n",
       "| action &lt;chr&gt; | events &lt;int&gt; | sessions &lt;int&gt; |\n",
       "|---|---|---|\n",
       "| pageLoaded   | 7230343 | 2507202 |\n",
       "| pageUnloaded | 4009959 |  961392 |\n",
       "\n"
      ],
      "text/plain": [
       "  action       events  sessions\n",
       "1 pageLoaded   7230343 2507202 \n",
       "2 pageUnloaded 4009959  961392 "
      ]
     },
     "metadata": {},
     "output_type": "display_data"
    }
   ],
   "source": [
    "df"
   ]
  },
  {
   "cell_type": "markdown",
   "id": "1b63419c",
   "metadata": {},
   "source": [
    "__Note:__  \n",
    "\n",
    "Two types of actions are recorded: pageLoaded, pageUnloaded"
   ]
  },
  {
   "cell_type": "markdown",
   "id": "3430a900",
   "metadata": {},
   "source": [
    "# By page_length"
   ]
  },
  {
   "cell_type": "code",
   "execution_count": 32,
   "id": "6dd2b65d",
   "metadata": {},
   "outputs": [],
   "source": [
    "query <- \n",
    "\"\n",
    "SELECT page_length, COUNT(1) AS events, \n",
    "COUNT(DISTINCT session_token) AS sessions\n",
    "FROM event.mediawiki_reading_depth\n",
    "WHERE year=2021\n",
    "GROUP BY page_length\n",
    "ORDER BY page_length\n",
    "LIMIT 100000\n",
    "\"\n"
   ]
  },
  {
   "cell_type": "code",
   "execution_count": 33,
   "id": "c40784f1",
   "metadata": {},
   "outputs": [
    {
     "name": "stderr",
     "output_type": "stream",
     "text": [
      "Don't forget to authenticate with Kerberos using kinit\n",
      "\n"
     ]
    }
   ],
   "source": [
    "df <- wmfdata::query_hive(query)"
   ]
  },
  {
   "cell_type": "code",
   "execution_count": 34,
   "id": "364aa00d",
   "metadata": {},
   "outputs": [
    {
     "data": {
      "text/html": [
       "<table class=\"dataframe\">\n",
       "<caption>A data.frame: 57 × 3</caption>\n",
       "<thead>\n",
       "\t<tr><th scope=col>page_length</th><th scope=col>events</th><th scope=col>sessions</th></tr>\n",
       "\t<tr><th scope=col>&lt;int&gt;</th><th scope=col>&lt;int&gt;</th><th scope=col>&lt;int&gt;</th></tr>\n",
       "</thead>\n",
       "<tbody>\n",
       "\t<tr><td>     -1</td><td>  10568</td><td>  5367</td></tr>\n",
       "\t<tr><td>      0</td><td> 149593</td><td> 35760</td></tr>\n",
       "\t<tr><td>      1</td><td>     20</td><td>     6</td></tr>\n",
       "\t<tr><td>      2</td><td>     12</td><td>     2</td></tr>\n",
       "\t<tr><td>      4</td><td>     19</td><td>     2</td></tr>\n",
       "\t<tr><td>      5</td><td>     13</td><td>     5</td></tr>\n",
       "\t<tr><td>      6</td><td>      8</td><td>     3</td></tr>\n",
       "\t<tr><td>      7</td><td>      2</td><td>     1</td></tr>\n",
       "\t<tr><td>      8</td><td>     16</td><td>     1</td></tr>\n",
       "\t<tr><td>      9</td><td>     10</td><td>     5</td></tr>\n",
       "\t<tr><td>     10</td><td>    368</td><td>    73</td></tr>\n",
       "\t<tr><td>     20</td><td>   1558</td><td>   417</td></tr>\n",
       "\t<tr><td>     30</td><td>   2759</td><td>   670</td></tr>\n",
       "\t<tr><td>     40</td><td>   2366</td><td>   573</td></tr>\n",
       "\t<tr><td>     50</td><td>   2348</td><td>   599</td></tr>\n",
       "\t<tr><td>     60</td><td>   2387</td><td>   519</td></tr>\n",
       "\t<tr><td>     70</td><td>   4139</td><td>   694</td></tr>\n",
       "\t<tr><td>     80</td><td>   3860</td><td>   724</td></tr>\n",
       "\t<tr><td>     90</td><td>   4392</td><td>   799</td></tr>\n",
       "\t<tr><td>    100</td><td>  29387</td><td>  4258</td></tr>\n",
       "\t<tr><td>    200</td><td>  47937</td><td>  6837</td></tr>\n",
       "\t<tr><td>    300</td><td>  27007</td><td>  5342</td></tr>\n",
       "\t<tr><td>    400</td><td>  15410</td><td>  4392</td></tr>\n",
       "\t<tr><td>    500</td><td>  11652</td><td>  4044</td></tr>\n",
       "\t<tr><td>    600</td><td>   8705</td><td>  3358</td></tr>\n",
       "\t<tr><td>    700</td><td>   8240</td><td>  3322</td></tr>\n",
       "\t<tr><td>    800</td><td>   8371</td><td>  3542</td></tr>\n",
       "\t<tr><td>    900</td><td>   7881</td><td>  3328</td></tr>\n",
       "\t<tr><td>   1000</td><td>  59816</td><td> 24061</td></tr>\n",
       "\t<tr><td>   2000</td><td> 157009</td><td> 64448</td></tr>\n",
       "\t<tr><td>   3000</td><td> 227476</td><td> 94814</td></tr>\n",
       "\t<tr><td>   4000</td><td> 400822</td><td>161555</td></tr>\n",
       "\t<tr><td>   5000</td><td> 289731</td><td>126241</td></tr>\n",
       "\t<tr><td>   6000</td><td> 298311</td><td>132029</td></tr>\n",
       "\t<tr><td>   7000</td><td> 296538</td><td>132742</td></tr>\n",
       "\t<tr><td>   8000</td><td> 284444</td><td>129191</td></tr>\n",
       "\t<tr><td>   9000</td><td> 275657</td><td>126007</td></tr>\n",
       "\t<tr><td>  10000</td><td>1335260</td><td>501486</td></tr>\n",
       "\t<tr><td>  20000</td><td>1659397</td><td>609068</td></tr>\n",
       "\t<tr><td>  30000</td><td>1143206</td><td>453910</td></tr>\n",
       "\t<tr><td>  40000</td><td> 837833</td><td>346560</td></tr>\n",
       "\t<tr><td>  50000</td><td> 637049</td><td>273413</td></tr>\n",
       "\t<tr><td>  60000</td><td> 497653</td><td>220030</td></tr>\n",
       "\t<tr><td>  70000</td><td> 380637</td><td>170966</td></tr>\n",
       "\t<tr><td>  80000</td><td> 319597</td><td>146654</td></tr>\n",
       "\t<tr><td>  90000</td><td> 269073</td><td>124742</td></tr>\n",
       "\t<tr><td> 100000</td><td> 860848</td><td>341647</td></tr>\n",
       "\t<tr><td> 200000</td><td> 526574</td><td>216451</td></tr>\n",
       "\t<tr><td> 300000</td><td> 115592</td><td> 51552</td></tr>\n",
       "\t<tr><td> 400000</td><td>  18037</td><td>  8428</td></tr>\n",
       "\t<tr><td> 500000</td><td>    575</td><td>   224</td></tr>\n",
       "\t<tr><td> 600000</td><td>     25</td><td>    12</td></tr>\n",
       "\t<tr><td> 700000</td><td>     21</td><td>     5</td></tr>\n",
       "\t<tr><td> 800000</td><td>     11</td><td>     4</td></tr>\n",
       "\t<tr><td> 900000</td><td>     40</td><td>     4</td></tr>\n",
       "\t<tr><td>1000000</td><td>     40</td><td>     9</td></tr>\n",
       "\t<tr><td>2000000</td><td>      2</td><td>     1</td></tr>\n",
       "</tbody>\n",
       "</table>\n"
      ],
      "text/latex": [
       "A data.frame: 57 × 3\n",
       "\\begin{tabular}{lll}\n",
       " page\\_length & events & sessions\\\\\n",
       " <int> & <int> & <int>\\\\\n",
       "\\hline\n",
       "\t      -1 &   10568 &   5367\\\\\n",
       "\t       0 &  149593 &  35760\\\\\n",
       "\t       1 &      20 &      6\\\\\n",
       "\t       2 &      12 &      2\\\\\n",
       "\t       4 &      19 &      2\\\\\n",
       "\t       5 &      13 &      5\\\\\n",
       "\t       6 &       8 &      3\\\\\n",
       "\t       7 &       2 &      1\\\\\n",
       "\t       8 &      16 &      1\\\\\n",
       "\t       9 &      10 &      5\\\\\n",
       "\t      10 &     368 &     73\\\\\n",
       "\t      20 &    1558 &    417\\\\\n",
       "\t      30 &    2759 &    670\\\\\n",
       "\t      40 &    2366 &    573\\\\\n",
       "\t      50 &    2348 &    599\\\\\n",
       "\t      60 &    2387 &    519\\\\\n",
       "\t      70 &    4139 &    694\\\\\n",
       "\t      80 &    3860 &    724\\\\\n",
       "\t      90 &    4392 &    799\\\\\n",
       "\t     100 &   29387 &   4258\\\\\n",
       "\t     200 &   47937 &   6837\\\\\n",
       "\t     300 &   27007 &   5342\\\\\n",
       "\t     400 &   15410 &   4392\\\\\n",
       "\t     500 &   11652 &   4044\\\\\n",
       "\t     600 &    8705 &   3358\\\\\n",
       "\t     700 &    8240 &   3322\\\\\n",
       "\t     800 &    8371 &   3542\\\\\n",
       "\t     900 &    7881 &   3328\\\\\n",
       "\t    1000 &   59816 &  24061\\\\\n",
       "\t    2000 &  157009 &  64448\\\\\n",
       "\t    3000 &  227476 &  94814\\\\\n",
       "\t    4000 &  400822 & 161555\\\\\n",
       "\t    5000 &  289731 & 126241\\\\\n",
       "\t    6000 &  298311 & 132029\\\\\n",
       "\t    7000 &  296538 & 132742\\\\\n",
       "\t    8000 &  284444 & 129191\\\\\n",
       "\t    9000 &  275657 & 126007\\\\\n",
       "\t   10000 & 1335260 & 501486\\\\\n",
       "\t   20000 & 1659397 & 609068\\\\\n",
       "\t   30000 & 1143206 & 453910\\\\\n",
       "\t   40000 &  837833 & 346560\\\\\n",
       "\t   50000 &  637049 & 273413\\\\\n",
       "\t   60000 &  497653 & 220030\\\\\n",
       "\t   70000 &  380637 & 170966\\\\\n",
       "\t   80000 &  319597 & 146654\\\\\n",
       "\t   90000 &  269073 & 124742\\\\\n",
       "\t  100000 &  860848 & 341647\\\\\n",
       "\t  200000 &  526574 & 216451\\\\\n",
       "\t  300000 &  115592 &  51552\\\\\n",
       "\t  400000 &   18037 &   8428\\\\\n",
       "\t  500000 &     575 &    224\\\\\n",
       "\t  600000 &      25 &     12\\\\\n",
       "\t  700000 &      21 &      5\\\\\n",
       "\t  800000 &      11 &      4\\\\\n",
       "\t  900000 &      40 &      4\\\\\n",
       "\t 1000000 &      40 &      9\\\\\n",
       "\t 2000000 &       2 &      1\\\\\n",
       "\\end{tabular}\n"
      ],
      "text/markdown": [
       "\n",
       "A data.frame: 57 × 3\n",
       "\n",
       "| page_length &lt;int&gt; | events &lt;int&gt; | sessions &lt;int&gt; |\n",
       "|---|---|---|\n",
       "|      -1 |   10568 |   5367 |\n",
       "|       0 |  149593 |  35760 |\n",
       "|       1 |      20 |      6 |\n",
       "|       2 |      12 |      2 |\n",
       "|       4 |      19 |      2 |\n",
       "|       5 |      13 |      5 |\n",
       "|       6 |       8 |      3 |\n",
       "|       7 |       2 |      1 |\n",
       "|       8 |      16 |      1 |\n",
       "|       9 |      10 |      5 |\n",
       "|      10 |     368 |     73 |\n",
       "|      20 |    1558 |    417 |\n",
       "|      30 |    2759 |    670 |\n",
       "|      40 |    2366 |    573 |\n",
       "|      50 |    2348 |    599 |\n",
       "|      60 |    2387 |    519 |\n",
       "|      70 |    4139 |    694 |\n",
       "|      80 |    3860 |    724 |\n",
       "|      90 |    4392 |    799 |\n",
       "|     100 |   29387 |   4258 |\n",
       "|     200 |   47937 |   6837 |\n",
       "|     300 |   27007 |   5342 |\n",
       "|     400 |   15410 |   4392 |\n",
       "|     500 |   11652 |   4044 |\n",
       "|     600 |    8705 |   3358 |\n",
       "|     700 |    8240 |   3322 |\n",
       "|     800 |    8371 |   3542 |\n",
       "|     900 |    7881 |   3328 |\n",
       "|    1000 |   59816 |  24061 |\n",
       "|    2000 |  157009 |  64448 |\n",
       "|    3000 |  227476 |  94814 |\n",
       "|    4000 |  400822 | 161555 |\n",
       "|    5000 |  289731 | 126241 |\n",
       "|    6000 |  298311 | 132029 |\n",
       "|    7000 |  296538 | 132742 |\n",
       "|    8000 |  284444 | 129191 |\n",
       "|    9000 |  275657 | 126007 |\n",
       "|   10000 | 1335260 | 501486 |\n",
       "|   20000 | 1659397 | 609068 |\n",
       "|   30000 | 1143206 | 453910 |\n",
       "|   40000 |  837833 | 346560 |\n",
       "|   50000 |  637049 | 273413 |\n",
       "|   60000 |  497653 | 220030 |\n",
       "|   70000 |  380637 | 170966 |\n",
       "|   80000 |  319597 | 146654 |\n",
       "|   90000 |  269073 | 124742 |\n",
       "|  100000 |  860848 | 341647 |\n",
       "|  200000 |  526574 | 216451 |\n",
       "|  300000 |  115592 |  51552 |\n",
       "|  400000 |   18037 |   8428 |\n",
       "|  500000 |     575 |    224 |\n",
       "|  600000 |      25 |     12 |\n",
       "|  700000 |      21 |      5 |\n",
       "|  800000 |      11 |      4 |\n",
       "|  900000 |      40 |      4 |\n",
       "| 1000000 |      40 |      9 |\n",
       "| 2000000 |       2 |      1 |\n",
       "\n"
      ],
      "text/plain": [
       "   page_length events  sessions\n",
       "1       -1       10568   5367  \n",
       "2        0      149593  35760  \n",
       "3        1          20      6  \n",
       "4        2          12      2  \n",
       "5        4          19      2  \n",
       "6        5          13      5  \n",
       "7        6           8      3  \n",
       "8        7           2      1  \n",
       "9        8          16      1  \n",
       "10       9          10      5  \n",
       "11      10         368     73  \n",
       "12      20        1558    417  \n",
       "13      30        2759    670  \n",
       "14      40        2366    573  \n",
       "15      50        2348    599  \n",
       "16      60        2387    519  \n",
       "17      70        4139    694  \n",
       "18      80        3860    724  \n",
       "19      90        4392    799  \n",
       "20     100       29387   4258  \n",
       "21     200       47937   6837  \n",
       "22     300       27007   5342  \n",
       "23     400       15410   4392  \n",
       "24     500       11652   4044  \n",
       "25     600        8705   3358  \n",
       "26     700        8240   3322  \n",
       "27     800        8371   3542  \n",
       "28     900        7881   3328  \n",
       "29    1000       59816  24061  \n",
       "30    2000      157009  64448  \n",
       "31    3000      227476  94814  \n",
       "32    4000      400822 161555  \n",
       "33    5000      289731 126241  \n",
       "34    6000      298311 132029  \n",
       "35    7000      296538 132742  \n",
       "36    8000      284444 129191  \n",
       "37    9000      275657 126007  \n",
       "38   10000     1335260 501486  \n",
       "39   20000     1659397 609068  \n",
       "40   30000     1143206 453910  \n",
       "41   40000      837833 346560  \n",
       "42   50000      637049 273413  \n",
       "43   60000      497653 220030  \n",
       "44   70000      380637 170966  \n",
       "45   80000      319597 146654  \n",
       "46   90000      269073 124742  \n",
       "47  100000      860848 341647  \n",
       "48  200000      526574 216451  \n",
       "49  300000      115592  51552  \n",
       "50  400000       18037   8428  \n",
       "51  500000         575    224  \n",
       "52  600000          25     12  \n",
       "53  700000          21      5  \n",
       "54  800000          11      4  \n",
       "55  900000          40      4  \n",
       "56 1000000          40      9  \n",
       "57 2000000           2      1  "
      ]
     },
     "metadata": {},
     "output_type": "display_data"
    }
   ],
   "source": [
    "df"
   ]
  },
  {
   "cell_type": "markdown",
   "id": "fd12e997",
   "metadata": {},
   "source": [
    "# By access method"
   ]
  },
  {
   "cell_type": "code",
   "execution_count": 37,
   "id": "4bd55672",
   "metadata": {},
   "outputs": [],
   "source": [
    "query <- \n",
    "\"\n",
    "SELECT access_method, COUNT(1) AS events, \n",
    "COUNT(DISTINCT session_token) AS sessions\n",
    "FROM event.mediawiki_reading_depth\n",
    "WHERE year=2021\n",
    "GROUP BY access_method\n",
    "LIMIT 100000\n",
    "\"\n"
   ]
  },
  {
   "cell_type": "code",
   "execution_count": 38,
   "id": "d1b392d3",
   "metadata": {},
   "outputs": [
    {
     "name": "stderr",
     "output_type": "stream",
     "text": [
      "Don't forget to authenticate with Kerberos using kinit\n",
      "\n"
     ]
    }
   ],
   "source": [
    "df <- wmfdata::query_hive(query)"
   ]
  },
  {
   "cell_type": "code",
   "execution_count": 39,
   "id": "be16b22e",
   "metadata": {},
   "outputs": [
    {
     "data": {
      "text/html": [
       "<table class=\"dataframe\">\n",
       "<caption>A data.frame: 2 × 3</caption>\n",
       "<thead>\n",
       "\t<tr><th scope=col>access_method</th><th scope=col>events</th><th scope=col>sessions</th></tr>\n",
       "\t<tr><th scope=col>&lt;chr&gt;</th><th scope=col>&lt;int&gt;</th><th scope=col>&lt;int&gt;</th></tr>\n",
       "</thead>\n",
       "<tbody>\n",
       "\t<tr><td>desktop   </td><td>4387438</td><td> 570453</td></tr>\n",
       "\t<tr><td>mobile web</td><td>6852864</td><td>1940983</td></tr>\n",
       "</tbody>\n",
       "</table>\n"
      ],
      "text/latex": [
       "A data.frame: 2 × 3\n",
       "\\begin{tabular}{lll}\n",
       " access\\_method & events & sessions\\\\\n",
       " <chr> & <int> & <int>\\\\\n",
       "\\hline\n",
       "\t desktop    & 4387438 &  570453\\\\\n",
       "\t mobile web & 6852864 & 1940983\\\\\n",
       "\\end{tabular}\n"
      ],
      "text/markdown": [
       "\n",
       "A data.frame: 2 × 3\n",
       "\n",
       "| access_method &lt;chr&gt; | events &lt;int&gt; | sessions &lt;int&gt; |\n",
       "|---|---|---|\n",
       "| desktop    | 4387438 |  570453 |\n",
       "| mobile web | 6852864 | 1940983 |\n",
       "\n"
      ],
      "text/plain": [
       "  access_method events  sessions\n",
       "1 desktop       4387438  570453 \n",
       "2 mobile web    6852864 1940983 "
      ]
     },
     "metadata": {},
     "output_type": "display_data"
    }
   ],
   "source": [
    "df"
   ]
  },
  {
   "cell_type": "markdown",
   "id": "22b7eb3a",
   "metadata": {},
   "source": [
    "__Note:__\n",
    "\n",
    "Two types of access methods are recorded: desktop, mobile web"
   ]
  },
  {
   "cell_type": "markdown",
   "id": "be593aa2",
   "metadata": {},
   "source": [
    "# By agent type"
   ]
  },
  {
   "cell_type": "code",
   "execution_count": 42,
   "id": "219a5031",
   "metadata": {},
   "outputs": [],
   "source": [
    "query <- \"\n",
    "SELECT CASE WHEN user_agent_map['device_family']='Spider' THEN 'Spider' ELSE 'User' END AS agent_type,\n",
    "COUNT(1) AS events,\n",
    "COUNT(DISTINCT session_token) AS sessions\n",
    "FROM event.mediawiki_reading_depth\n",
    "WHERE year=2021\n",
    "GROUP BY CASE WHEN user_agent_map['device_family']='Spider' THEN 'Spider' ELSE 'User' END\n",
    "LIMIT 100000\n",
    "\"\n",
    "\n"
   ]
  },
  {
   "cell_type": "code",
   "execution_count": 43,
   "id": "3712cfb1",
   "metadata": {},
   "outputs": [
    {
     "name": "stderr",
     "output_type": "stream",
     "text": [
      "Don't forget to authenticate with Kerberos using kinit\n",
      "\n"
     ]
    }
   ],
   "source": [
    "df <- wmfdata::query_hive(query)"
   ]
  },
  {
   "cell_type": "code",
   "execution_count": 44,
   "id": "1c3cd213",
   "metadata": {},
   "outputs": [
    {
     "data": {
      "text/html": [
       "<table class=\"dataframe\">\n",
       "<caption>A data.frame: 2 × 3</caption>\n",
       "<thead>\n",
       "\t<tr><th scope=col>agent_type</th><th scope=col>events</th><th scope=col>sessions</th></tr>\n",
       "\t<tr><th scope=col>&lt;chr&gt;</th><th scope=col>&lt;int&gt;</th><th scope=col>&lt;int&gt;</th></tr>\n",
       "</thead>\n",
       "<tbody>\n",
       "\t<tr><td>Spider</td><td>     141</td><td>    114</td></tr>\n",
       "\t<tr><td>User  </td><td>11240161</td><td>2511334</td></tr>\n",
       "</tbody>\n",
       "</table>\n"
      ],
      "text/latex": [
       "A data.frame: 2 × 3\n",
       "\\begin{tabular}{lll}\n",
       " agent\\_type & events & sessions\\\\\n",
       " <chr> & <int> & <int>\\\\\n",
       "\\hline\n",
       "\t Spider &      141 &     114\\\\\n",
       "\t User   & 11240161 & 2511334\\\\\n",
       "\\end{tabular}\n"
      ],
      "text/markdown": [
       "\n",
       "A data.frame: 2 × 3\n",
       "\n",
       "| agent_type &lt;chr&gt; | events &lt;int&gt; | sessions &lt;int&gt; |\n",
       "|---|---|---|\n",
       "| Spider |      141 |     114 |\n",
       "| User   | 11240161 | 2511334 |\n",
       "\n"
      ],
      "text/plain": [
       "  agent_type events   sessions\n",
       "1 Spider          141     114 \n",
       "2 User       11240161 2511334 "
      ]
     },
     "metadata": {},
     "output_type": "display_data"
    }
   ],
   "source": [
    "df"
   ]
  },
  {
   "cell_type": "markdown",
   "id": "b53b5e37",
   "metadata": {},
   "source": [
    "__Note:__\n",
    "\n",
    "We can identify and exclude spider in analysis"
   ]
  },
  {
   "cell_type": "markdown",
   "id": "833f45e4",
   "metadata": {},
   "source": [
    "# Read length Distribution"
   ]
  },
  {
   "cell_type": "code",
   "execution_count": 58,
   "id": "4bd75f4d",
   "metadata": {},
   "outputs": [],
   "source": [
    "query_total_length <- \n",
    "\"\n",
    "SELECT MAX(total_length) AS max, MIN(total_length) AS min, Avg(total_length) AS avg, STDDEV(total_length) AS stdev, COUNT(1) AS count\n",
    "FROM event.mediawiki_reading_depth\n",
    "WHERE year=2021 AND total_length is not NULL\n",
    "\"\n"
   ]
  },
  {
   "cell_type": "code",
   "execution_count": 59,
   "id": "049989ba",
   "metadata": {},
   "outputs": [
    {
     "name": "stderr",
     "output_type": "stream",
     "text": [
      "Don't forget to authenticate with Kerberos using kinit\n",
      "\n"
     ]
    }
   ],
   "source": [
    "df <- wmfdata::query_hive(query_total_length)"
   ]
  },
  {
   "cell_type": "code",
   "execution_count": 60,
   "id": "2e6dbc6c",
   "metadata": {},
   "outputs": [
    {
     "data": {
      "text/html": [
       "<table class=\"dataframe\">\n",
       "<caption>A data.frame: 1 × 5</caption>\n",
       "<thead>\n",
       "\t<tr><th scope=col>max</th><th scope=col>min</th><th scope=col>avg</th><th scope=col>stdev</th><th scope=col>count</th></tr>\n",
       "\t<tr><th scope=col>&lt;dbl&gt;</th><th scope=col>&lt;int&gt;</th><th scope=col>&lt;dbl&gt;</th><th scope=col>&lt;dbl&gt;</th><th scope=col>&lt;int&gt;</th></tr>\n",
       "</thead>\n",
       "<tbody>\n",
       "\t<tr><td>2603264579</td><td>0</td><td>1178408</td><td>16303164</td><td>4009959</td></tr>\n",
       "</tbody>\n",
       "</table>\n"
      ],
      "text/latex": [
       "A data.frame: 1 × 5\n",
       "\\begin{tabular}{lllll}\n",
       " max & min & avg & stdev & count\\\\\n",
       " <dbl> & <int> & <dbl> & <dbl> & <int>\\\\\n",
       "\\hline\n",
       "\t 2603264579 & 0 & 1178408 & 16303164 & 4009959\\\\\n",
       "\\end{tabular}\n"
      ],
      "text/markdown": [
       "\n",
       "A data.frame: 1 × 5\n",
       "\n",
       "| max &lt;dbl&gt; | min &lt;int&gt; | avg &lt;dbl&gt; | stdev &lt;dbl&gt; | count &lt;int&gt; |\n",
       "|---|---|---|---|---|\n",
       "| 2603264579 | 0 | 1178408 | 16303164 | 4009959 |\n",
       "\n"
      ],
      "text/plain": [
       "  max        min avg     stdev    count  \n",
       "1 2603264579 0   1178408 16303164 4009959"
      ]
     },
     "metadata": {},
     "output_type": "display_data"
    }
   ],
   "source": [
    "df"
   ]
  },
  {
   "cell_type": "markdown",
   "id": "e581473e",
   "metadata": {},
   "source": [
    "__Note:__\n",
    "\n",
    "For all events in 2021, the average reading length is 1178408 MS"
   ]
  },
  {
   "cell_type": "code",
   "execution_count": 76,
   "id": "a19f67a1",
   "metadata": {},
   "outputs": [],
   "source": [
    "query_total_length <- \n",
    "\"\n",
    "SELECT total_length, session_token\n",
    "FROM event.mediawiki_reading_depth\n",
    "WHERE year=2021 \n",
    "AND total_length is not NULL\n",
    "\"\n"
   ]
  },
  {
   "cell_type": "code",
   "execution_count": 77,
   "id": "7c41741d",
   "metadata": {},
   "outputs": [
    {
     "name": "stderr",
     "output_type": "stream",
     "text": [
      "Don't forget to authenticate with Kerberos using kinit\n",
      "\n"
     ]
    }
   ],
   "source": [
    "df <- wmfdata::query_hive(query_total_length)"
   ]
  },
  {
   "cell_type": "code",
   "execution_count": 118,
   "id": "b1ddc0da",
   "metadata": {},
   "outputs": [],
   "source": [
    "# Represent it\n",
    "\n",
    "p <- df %>%\n",
    "  ggplot( mapping=aes(x=total_length)) +\n",
    "    geom_histogram(bins=30 ) +\n",
    "    scale_x_log10() +\n",
    "    labs ( title = \"Check distribution of total read length\",\n",
    "         fill=\"\") +\n",
    "    theme_light(base_size=18)\n"
   ]
  },
  {
   "cell_type": "code",
   "execution_count": 119,
   "id": "2077f168",
   "metadata": {},
   "outputs": [
    {
     "name": "stderr",
     "output_type": "stream",
     "text": [
      "Warning message:\n",
      "“Transformation introduced infinite values in continuous x-axis”\n",
      "Warning message:\n",
      "“Removed 2 rows containing non-finite values (stat_bin).”\n"
     ]
    }
   ],
   "source": [
    "ggsave(\"tmp.png\",\n",
    "    plot = p, width = 60, height = 30, units = \"cm\", dpi = \"screen\");"
   ]
  },
  {
   "cell_type": "code",
   "execution_count": null,
   "id": "7113c870",
   "metadata": {},
   "outputs": [],
   "source": []
  }
 ],
 "metadata": {
  "kernelspec": {
   "display_name": "R",
   "language": "R",
   "name": "ir"
  },
  "language_info": {
   "codemirror_mode": "r",
   "file_extension": ".r",
   "mimetype": "text/x-r-source",
   "name": "R",
   "pygments_lexer": "r",
   "version": "3.5.2"
  }
 },
 "nbformat": 4,
 "nbformat_minor": 5
}
